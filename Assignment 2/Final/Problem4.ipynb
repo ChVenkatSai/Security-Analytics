{
  "nbformat": 4,
  "nbformat_minor": 0,
  "metadata": {
    "colab": {
      "provenance": [],
      "collapsed_sections": []
    },
    "kernelspec": {
      "name": "python3",
      "display_name": "Python 3"
    },
    "language_info": {
      "name": "python"
    }
  },
  "cells": [
    {
      "cell_type": "code",
      "execution_count": 208,
      "metadata": {
        "id": "fAS7lHfK9__P"
      },
      "outputs": [],
      "source": [
        "import numpy as np\n",
        "import pandas as pd\n",
        "from sklearn.model_selection import cross_validate\n",
        "import matplotlib.pyplot as plt\n",
        "from sklearn.cluster import KMeans\n",
        "import random\n"
      ]
    },
    {
      "cell_type": "code",
      "source": [
        "from google.colab import drive\n",
        "drive.mount('/content/drive')"
      ],
      "metadata": {
        "colab": {
          "base_uri": "https://localhost:8080/"
        },
        "id": "Z8n7LtoI_AEf",
        "outputId": "dcc191b6-601d-4f96-c94f-9bcf0344b34c"
      },
      "execution_count": null,
      "outputs": [
        {
          "output_type": "stream",
          "name": "stdout",
          "text": [
            "Drive already mounted at /content/drive; to attempt to forcibly remount, call drive.mount(\"/content/drive\", force_remount=True).\n"
          ]
        }
      ]
    },
    {
      "cell_type": "code",
      "source": [
        "df = pd.read_csv(\"/content/drive/MyDrive/Datasets/iris.data\", header=None, names=[\"sepal length (cm)\",\"sepal width (cm)\",\"petal length (cm)\",\"petal width (cm)\",\"Class\"])\n",
        "df.head()\n",
        "print(df['sepal length (cm)']/df['sepal width (cm)'])"
      ],
      "metadata": {
        "colab": {
          "base_uri": "https://localhost:8080/"
        },
        "id": "KcQMqVyZ-tyO",
        "outputId": "9c236c49-9cdc-43ea-eba4-d68a740ab292"
      },
      "execution_count": null,
      "outputs": [
        {
          "output_type": "stream",
          "name": "stdout",
          "text": [
            "0      1.457143\n",
            "1      1.633333\n",
            "2      1.468750\n",
            "3      1.483871\n",
            "4      1.388889\n",
            "         ...   \n",
            "145    2.233333\n",
            "146    2.520000\n",
            "147    2.166667\n",
            "148    1.823529\n",
            "149    1.966667\n",
            "Length: 150, dtype: float64\n"
          ]
        }
      ]
    },
    {
      "cell_type": "code",
      "source": [
        "df1 = pd.DataFrame({'x1':df['sepal length (cm)']/df['sepal width (cm)'],'x2':df['petal length (cm)']/df['petal width (cm)'],'class':df['Class'].astype('category')})\n",
        "df1.plot.scatter(x='x1',y='x2',c='class',cmap=\"viridis\", s=50)\n",
        "plt.show()\n",
        "df2 = df1.loc[:,['x1','x2']]\n"
      ],
      "metadata": {
        "colab": {
          "base_uri": "https://localhost:8080/",
          "height": 252
        },
        "id": "VSyPRR3vA00m",
        "outputId": "f221f246-5bec-4d3c-ab18-4cdd2a904310"
      },
      "execution_count": null,
      "outputs": [
        {
          "output_type": "display_data",
          "data": {
            "text/plain": [
              "<Figure size 432x288 with 2 Axes>"
            ],
            "image/png": "[encoded data removed]"
          },
          "metadata": {
            "needs_background": "light"
          }
        }
      ]
    },
    {
      "cell_type": "code",
      "source": [
        "def dist(p,q):\n",
        "  d = np.linalg.norm(p - q)\n",
        "  return d"
      ],
      "metadata": {
        "id": "09pQc9OScY2A"
      },
      "execution_count": null,
      "outputs": []
    },
    {
      "cell_type": "code",
      "source": [
        "def kmeansp(nclusters, df, ite):\n",
        "  j = random.randint(0,len(df))\n",
        "  c1 = [df.loc[j,'x1'],df.loc[j,'x2']]\n",
        "  c1 = np.array(c1)\n",
        "  centers = []\n",
        "  #print(c1)\n",
        "  centers.append(c1)\n",
        "  i=0\n",
        "  y = np.zeros(len(df))\n",
        "  #print(df.iloc[0])\n",
        "  v =[ ]\n",
        "  v.append(j)\n",
        "  for k in range(1, nclusters):\n",
        "    c2 = df.iloc[0].to_numpy()\n",
        "    c2 = np.array(c2)\n",
        "    #print(c2)\n",
        "    min = dist(np.array(np.mean(centers,axis=0)), c2)\n",
        "    for r in range(1, len(df)):\n",
        "      #print(r)\n",
        "      if r in v:\n",
        "        continue\n",
        "      if dist(np.array(np.mean(centers,axis=0)), (df.iloc[r]).to_numpy())>min:\n",
        "        c2 = (df.iloc[r]).to_numpy()\n",
        "        j = r\n",
        "        min = dist(np.array(np.mean(centers,axis=0)), (df.iloc[r]).to_numpy())\n",
        "\n",
        "    v.append(j)\n",
        "    #print(np.array(np.mean(centers,axis=0)))\n",
        "    centers.append(c2)\n",
        "\n",
        "  #print(centers)\n",
        "  for q in range(0,ite):\n",
        "    for r in range(len(df)):\n",
        "      \n",
        "      min = dist(centers[0], (df.iloc[r]).to_numpy())\n",
        "      for k in range(1,nclusters):\n",
        "        if dist(centers[k], (df.iloc[r]).to_numpy())<min:\n",
        "          min = dist(centers[k], (df.iloc[r]).to_numpy())\n",
        "          y[r]=k\n",
        "      \n",
        "      \n",
        "    #print(y)\n",
        "    df['result'] = pd.DataFrame(y)\n",
        "    for k in range(0,nclusters):\n",
        "      #print((np.mean(df.loc[df['result']==k])).to_numpy())\n",
        "      mint = (np.mean(df.loc[df['result']==k], axis=0)).to_numpy()\n",
        "      centers[k][0] = mint[0]\n",
        "      centers[k][1] = mint[1]\n",
        "\n",
        "    df.drop(['result'],axis=1,inplace=True)\n",
        "  \n",
        "  return (y, centers)"
      ],
      "metadata": {
        "id": "8FBUiJ2YPzQF"
      },
      "execution_count": null,
      "outputs": []
    },
    {
      "cell_type": "code",
      "source": [
        "\n",
        "#df2.drop('result',axis=1,inplace=True)\n",
        "print(df2)\n",
        "y, centers = kmeansp(4, df2, 50)\n",
        "print(y)"
      ],
      "metadata": {
        "colab": {
          "base_uri": "https://localhost:8080/"
        },
        "id": "k2-8vmdqZvqp",
        "outputId": "7c851fc6-2cc5-4bea-9762-c53e741198bc"
      },
      "execution_count": null,
      "outputs": [
        {
          "output_type": "stream",
          "name": "stdout",
          "text": [
            "           x1        x2\n",
            "0    1.457143  7.000000\n",
            "1    1.633333  7.000000\n",
            "2    1.468750  6.500000\n",
            "3    1.483871  7.500000\n",
            "4    1.388889  7.000000\n",
            "..        ...       ...\n",
            "145  2.233333  2.260870\n",
            "146  2.520000  2.631579\n",
            "147  2.166667  2.600000\n",
            "148  1.823529  2.347826\n",
            "149  1.966667  2.833333\n",
            "\n",
            "[150 rows x 2 columns]\n",
            "[0. 0. 0. 1. 0. 2. 0. 1. 0. 3. 1. 1. 3. 1. 0. 2. 2. 0. 0. 0. 1. 2. 0. 2.\n",
            " 1. 1. 2. 1. 0. 1. 1. 2. 3. 0. 3. 0. 0. 3. 0. 1. 2. 2. 0. 2. 0. 0. 1. 0.\n",
            " 1. 0. 2. 2. 2. 2. 2. 2. 2. 2. 2. 2. 2. 2. 2. 2. 2. 2. 2. 2. 2. 2. 2. 2.\n",
            " 2. 2. 2. 2. 2. 2. 2. 2. 2. 2. 2. 2. 2. 2. 2. 2. 2. 2. 2. 2. 2. 2. 2. 2.\n",
            " 2. 2. 2. 2. 2. 2. 2. 2. 2. 2. 2. 2. 2. 2. 2. 2. 2. 2. 2. 2. 2. 2. 2. 2.\n",
            " 2. 2. 2. 2. 2. 2. 2. 2. 2. 2. 2. 2. 2. 2. 2. 2. 2. 2. 2. 2. 2. 2. 2. 2.\n",
            " 2. 2. 2. 2. 2. 2.]\n"
          ]
        }
      ]
    },
    {
      "cell_type": "code",
      "source": [
        "kmean = KMeans(n_clusters=3,init='k-means++',random_state=0)\n",
        "y = kmean.fit_predict(df2)\n",
        "print(df2)\n",
        "print(y)"
      ],
      "metadata": {
        "colab": {
          "base_uri": "https://localhost:8080/"
        },
        "id": "kBVOP-AlL9Tv",
        "outputId": "37d76f4d-12e7-4363-fed7-da80cfd11cca"
      },
      "execution_count": null,
      "outputs": [
        {
          "output_type": "stream",
          "name": "stdout",
          "text": [
            "           x1        x2\n",
            "0    1.457143  7.000000\n",
            "1    1.633333  7.000000\n",
            "2    1.468750  6.500000\n",
            "3    1.483871  7.500000\n",
            "4    1.388889  7.000000\n",
            "..        ...       ...\n",
            "145  2.233333  2.260870\n",
            "146  2.520000  2.631579\n",
            "147  2.166667  2.600000\n",
            "148  1.823529  2.347826\n",
            "149  1.966667  2.833333\n",
            "\n",
            "[150 rows x 2 columns]\n",
            "[1 1 1 1 1 2 2 1 1 0 1 1 0 0 1 2 2 2 1 2 1 2 2 2 1 1 2 1 1 1 1 2 0 1 0 1 1\n",
            " 0 1 1 2 2 1 2 2 2 1 1 1 1 2 2 2 2 2 2 2 2 2 2 2 2 2 2 2 2 2 2 2 2 2 2 2 2\n",
            " 2 2 2 2 2 2 2 2 2 2 2 2 2 2 2 2 2 2 2 2 2 2 2 2 2 2 2 2 2 2 2 2 2 2 2 2 2\n",
            " 2 2 2 2 2 2 2 2 2 2 2 2 2 2 2 2 2 2 2 2 2 2 2 2 2 2 2 2 2 2 2 2 2 2 2 2 2\n",
            " 2 2]\n"
          ]
        }
      ]
    },
    {
      "cell_type": "code",
      "source": [
        "df2.plot.scatter(x='x1',y='x2',c=y,cmap=\"viridis\", s=50)\n",
        "plt.plot(centers[0][0],centers[0][1],'ro')\n",
        "plt.plot(centers[1][0],centers[1][1],'ro')\n",
        "plt.plot(centers[2][0],centers[2][1],'ro')"
      ],
      "metadata": {
        "id": "LXqgrAuMS72_",
        "colab": {
          "base_uri": "https://localhost:8080/",
          "height": 275
        },
        "outputId": "32e87776-31a5-4aec-86db-603dc3fdf69e"
      },
      "execution_count": null,
      "outputs": [
        {
          "output_type": "execute_result",
          "data": {
            "text/plain": [
              "[<matplotlib.lines.Line2D at 0x7fd8e5c91890>]"
            ]
          },
          "metadata": {},
          "execution_count": 138
        },
        {
          "output_type": "display_data",
          "data": {
            "text/plain": [
              "<Figure size 432x288 with 2 Axes>"
            ],
            "image/png": "[encoded data removed]"
          },
          "metadata": {
            "needs_background": "light"
          }
        }
      ]
    },
    {
      "cell_type": "code",
      "source": [
        "def objec(X, y, k):\n",
        "  df = X\n",
        "  obj=[]\n",
        "  df['result'] = y.tolist()\n",
        "  for i in range(0,k):\n",
        "    m1 = np.mean(df.loc[df['result']==i,'x1'])\n",
        "    m2 = np.mean(df.loc[df['result']==i,'x2'])\n",
        "    obj.append(((df.loc[df['result']==i,'x1']-m1)**2+(m2-df.loc[df['result']==i,'x2'])**2).sum())\n",
        "  df.drop('result',axis=1,inplace=True)\n",
        "  #X.drop('result',axis=1)\n",
        "  return np.mean(obj)"
      ],
      "metadata": {
        "id": "Y-rx-d9U5SSo"
      },
      "execution_count": null,
      "outputs": []
    },
    {
      "cell_type": "code",
      "source": [
        "y, centers = kmeansp(6, df2, 1)\n",
        "print(y)\n",
        "obj = objec(df2, np.asarray(y), 3)\n",
        "print(df2)\n",
        "print(obj)\n",
        "objective = []\n",
        "avg=[]\n",
        "obj=[]\n",
        "for i in range(1, 49):\n",
        "\n",
        "    y, centers = kmeansp(1, df2, i)\n",
        "    obj.append(objec(df2, np.asarray(y), k))\n",
        "\n",
        "avg.append(np.mean(obj))\n",
        "\n",
        "  \n",
        "    #print(obj)\n",
        "#for k in range(1,6):\n",
        "  #avg=[]\n",
        "  #for i in range(1,50):\n",
        "    \n",
        "    #y, centres = kmeansp(k, df2, i)\n",
        "    #avg.append(objec(df2, np.asarray(y), k))\n",
        "  #objective.append(np.mean(avg))"
      ],
      "metadata": {
        "colab": {
          "base_uri": "https://localhost:8080/"
        },
        "id": "AbsBoRmKErxM",
        "outputId": "2b67907d-3f9b-406d-80ce-90e949316aab"
      },
      "execution_count": null,
      "outputs": [
        {
          "output_type": "stream",
          "name": "stdout",
          "text": [
            "[0. 0. 0. 0. 0. 4. 0. 0. 0. 3. 0. 0. 3. 0. 0. 4. 2. 0. 0. 0. 0. 4. 0. 4.\n",
            " 0. 0. 4. 0. 0. 0. 0. 4. 1. 0. 3. 0. 0. 3. 0. 0. 4. 4. 0. 2. 0. 0. 0. 0.\n",
            " 0. 0. 4. 4. 4. 4. 4. 4. 4. 4. 4. 4. 4. 4. 4. 4. 4. 4. 4. 4. 4. 4. 2. 4.\n",
            " 4. 4. 4. 4. 4. 4. 4. 4. 4. 4. 4. 4. 4. 2. 4. 4. 4. 4. 4. 4. 4. 4. 4. 4.\n",
            " 4. 4. 4. 4. 2. 4. 4. 4. 4. 4. 4. 4. 4. 4. 4. 4. 4. 4. 2. 2. 4. 4. 4. 4.\n",
            " 4. 4. 4. 4. 4. 4. 4. 4. 4. 4. 4. 4. 4. 4. 4. 4. 2. 4. 4. 4. 4. 4. 4. 4.\n",
            " 2. 4. 4. 4. 2. 4.]\n",
            "           x1        x2\n",
            "0    1.457143  7.000000\n",
            "1    1.633333  7.000000\n",
            "2    1.468750  6.500000\n",
            "3    1.483871  7.500000\n",
            "4    1.388889  7.000000\n",
            "..        ...       ...\n",
            "145  2.233333  2.260870\n",
            "146  2.520000  2.631579\n",
            "147  2.166667  2.600000\n",
            "148  1.823529  2.347826\n",
            "149  1.966667  2.833333\n",
            "\n",
            "[150 rows x 2 columns]\n",
            "22.25353323271688\n"
          ]
        }
      ]
    },
    {
      "cell_type": "code",
      "source": [
        "\n",
        "obj=[]\n",
        "for i in range(1, 49):\n",
        "\n",
        "    y, centers = kmeansp(2, df2, i)\n",
        "    obj.append(objec(df2, np.asarray(y), k))\n",
        "\n",
        "avg.append(np.mean(obj))"
      ],
      "metadata": {
        "id": "dEZW8nSt-nh0"
      },
      "execution_count": null,
      "outputs": []
    },
    {
      "cell_type": "code",
      "source": [
        "obj=[]\n",
        "for i in range(1, 49):\n",
        "\n",
        "    y, centers = kmeansp(3, df2, i)\n",
        "    obj.append(objec(df2, np.asarray(y), k))\n",
        "\n",
        "avg.append(np.mean(obj))"
      ],
      "metadata": {
        "id": "3LRZshMX_rIs"
      },
      "execution_count": null,
      "outputs": []
    },
    {
      "cell_type": "code",
      "source": [
        "obj=[]\n",
        "for i in range(1, 49):\n",
        "\n",
        "    y, centers = kmeansp(5, df2, i)\n",
        "    obj.append(objec(df2, np.asarray(y), k))\n",
        "\n",
        "avg.append(np.mean(obj))"
      ],
      "metadata": {
        "id": "NV11jVxYAAOs"
      },
      "execution_count": null,
      "outputs": []
    },
    {
      "cell_type": "code",
      "source": [
        "obj=[]\n",
        "for i in range(1, 48):\n",
        "\n",
        "    y, centers = kmeansp(4, df2, i)\n",
        "    obj.append(objec(df2, np.asarray(y), k))\n",
        "\n",
        "avg.append(np.mean(obj))"
      ],
      "metadata": {
        "id": "9mNJH4WrAvIN"
      },
      "execution_count": null,
      "outputs": []
    },
    {
      "cell_type": "code",
      "source": [
        "y, centers = kmeansp(4, df2, 49)\n",
        "obj.append(objec(df2, np.asarray(y), k))\n",
        "avg[4] = np.mean(obj)\n",
        "print(avg)"
      ],
      "metadata": {
        "colab": {
          "base_uri": "https://localhost:8080/"
        },
        "id": "hbXQHWH0BK88",
        "outputId": "fc7d1f8f-c2c6-43f6-e487-8a2f7c964c59"
      },
      "execution_count": null,
      "outputs": [
        {
          "output_type": "stream",
          "name": "stdout",
          "text": [
            "[1071.2286861568834, 421.4320610310495, 34.343314954367926, 18.130100864385177, 19.328216175883714]\n"
          ]
        }
      ]
    },
    {
      "cell_type": "code",
      "source": [
        "plt.plot([x for x in range(1,6)],avg, '-o')\n",
        "plt.xlabel(\"k\")\n",
        "plt.ylabel(\"Clustering Objective\")"
      ],
      "metadata": {
        "colab": {
          "base_uri": "https://localhost:8080/",
          "height": 296
        },
        "id": "8FIkZx93KywJ",
        "outputId": "eb53c127-97f7-4597-8fe5-6bf65f114da3"
      },
      "execution_count": null,
      "outputs": [
        {
          "output_type": "execute_result",
          "data": {
            "text/plain": [
              "Text(0, 0.5, 'Clustering Objective')"
            ]
          },
          "metadata": {},
          "execution_count": 194
        },
        {
          "output_type": "display_data",
          "data": {
            "text/plain": [
              "<Figure size 432x288 with 1 Axes>"
            ],
            "image/png": "[encoded data removed]"
          },
          "metadata": {
            "needs_background": "light"
          }
        }
      ]
    },
    {
      "cell_type": "markdown",
      "source": [
        "Note that here we have taken the distance measure as the clustering objective. As we need a comparitive study to determine the best k, means work as all we need is comparision. But while plottimg the accuracy vs no. of iterations curve below, we take the exact clustering objective. "
      ],
      "metadata": {
        "id": "sjDSsBxGlmvH"
      }
    },
    {
      "cell_type": "markdown",
      "source": [
        "According to this, k=3 can be taken following the elbow method. The elbow method involves selecting the value of k that maximizes explained variance while minimizing K; that is, the value of k at the crook of the elbow. The technical sense underlying this is that a minimal gain in explained variance at greater values of k is offset by the increasing risk of overfitting. As k=3, the graph corresponing to that has already been shown above. "
      ],
      "metadata": {
        "id": "xT1J_pN4LmSo"
      }
    },
    {
      "cell_type": "code",
      "source": [
        "obj=[]\n",
        "y, centers = kmeansp(3, df2, 50)\n",
        "print(centers)\n",
        "y, centers = kmeansp(3, df2, 40)\n",
        "print(centers)\n",
        "def objec(X, y, k, centers):\n",
        "  df = X\n",
        "  obj=[]\n",
        "  df['result'] = y.tolist()\n",
        "  for i in range(0,k):\n",
        "    m1 = centers[k][0]\n",
        "    m2 = centers[k][1]\n",
        "    obj.append(((df.loc[df['result']==i,'x1']-m1)**2+(m2-df.loc[df['result']==i,'x2'])**2).sum())\n",
        "  df.drop('result',axis=1,inplace=True)\n",
        "  #X.drop('result',axis=1)\n",
        "  return np.mean(obj)\n",
        "\n",
        "obj=[]\n",
        "for i in range(1, 100):\n",
        "\n",
        "    y, centers = kmeansp(3, df2, i)\n",
        "    obj.append(objec(df2, np.asarray(y), k,  centers))"
      ],
      "metadata": {
        "colab": {
          "base_uri": "https://localhost:8080/"
        },
        "id": "IVpNBAXrLlaH",
        "outputId": "bedc2f9b-68ce-4441-ffc5-44c2455428e2"
      },
      "execution_count": null,
      "outputs": [
        {
          "output_type": "stream",
          "name": "stdout",
          "text": [
            "[array([1.47104815, 7.00574713]), array([ 1.49361803, 13.5       ]), array([2.10663107, 3.1351605 ])]\n",
            "[array([1.47104815, 7.00574713]), array([ 1.49361803, 13.5       ]), array([2.10663107, 3.1351605 ])]\n"
          ]
        }
      ]
    },
    {
      "cell_type": "code",
      "source": [
        "plt.plot([x for x in range(1,100)], obj)\n",
        "plt.xlabel('No. of iterations')\n",
        "plt.ylabel('Clustering Objective')"
      ],
      "metadata": {
        "colab": {
          "base_uri": "https://localhost:8080/",
          "height": 296
        },
        "id": "QIWcT5dVEEB8",
        "outputId": "52a1f933-3142-4cca-8ab9-20f74c6e5336"
      },
      "execution_count": null,
      "outputs": [
        {
          "output_type": "execute_result",
          "data": {
            "text/plain": [
              "Text(0, 0.5, 'Clustering Objective')"
            ]
          },
          "metadata": {},
          "execution_count": 206
        },
        {
          "output_type": "display_data",
          "data": {
            "text/plain": [
              "<Figure size 432x288 with 1 Axes>"
            ],
            "image/png": "[encoded data removed]"
          },
          "metadata": {
            "needs_background": "light"
          }
        }
      ]
    },
    {
      "cell_type": "markdown",
      "source": [
        "As we see that with an increase in the no. of iterations, the clustering objective which we have choosen more or less reaches steady state. The spikes are probably due to the computaion limit of the program. "
      ],
      "metadata": {
        "id": "pbz8LskKmnk-"
      }
    },
    {
      "cell_type": "code",
      "source": [],
      "metadata": {
        "id": "41w-nmSXN_Gp"
      },
      "execution_count": null,
      "outputs": []
    }
  ]
}