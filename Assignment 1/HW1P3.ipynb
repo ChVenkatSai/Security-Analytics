{
 "cells": [
  {
   "cell_type": "code",
   "execution_count": 245,
   "metadata": {},
   "outputs": [],
   "source": [
    "import pandas as pd\n",
    "from sklearn.preprocessing import StandardScaler\n",
    "import numpy as np\n",
    "import matplotlib.pyplot as plt\n",
    "import random\n",
    "from sklearn.metrics import *"
   ]
  },
  {
   "cell_type": "code",
   "execution_count": 246,
   "metadata": {},
   "outputs": [],
   "source": [
    "data = pd.read_csv(r'D:\\Purdue\\SecAna\\Assignment 1 attached files Sep 8, 2022 540 PM\\data.txt',delimiter=r\"\\s+\", header=None,index_col=None)\n",
    "#data.columns = ['X']\n",
    "#pd.to_numeric(data.X, errors='coerce')\n",
    "#df2 = data.apply(pd.to_numeric, errors='coerce')\n",
    "#ds = data['X'].str.split(\" \",expand=True)\n",
    "#print(ds)\n",
    "\n",
    "#print(data.head(3))"
   ]
  },
  {
   "cell_type": "code",
   "execution_count": 247,
   "metadata": {},
   "outputs": [],
   "source": [
    "data['Y'] = np.random.randint(0,len(data)*2,size=len(data)) \n",
    "#print(data.iloc[1, :])"
   ]
  },
  {
   "cell_type": "code",
   "execution_count": 248,
   "metadata": {},
   "outputs": [
    {
     "name": "stdout",
     "output_type": "stream",
     "text": [
      "      0            1    Y\n",
      "0  -3.2   129.683820    2\n",
      "1  -0.6   301.548220    3\n",
      "2  -1.0    88.155163    5\n",
      "3   9.6  2055.884500    7\n",
      "4   3.0    84.885606    8\n",
      "..  ...          ...  ...\n",
      "76 -3.8   -78.187869  157\n",
      "77  1.2   120.730430  157\n",
      "78  7.2  1154.042800  157\n",
      "79 -1.8   156.208480  159\n",
      "80  9.2  1798.230000  161\n",
      "\n",
      "[81 rows x 3 columns]\n"
     ]
    }
   ],
   "source": [
    "df = data.sort_values(by = \"Y\")  #This ensures that data is sorted randomly everytime.\n",
    "L=[]\n",
    "for k in range(0,81):\n",
    "    L.append(k)\n",
    "df1 = df.set_index(pd.Index(L))\n",
    "print(df1)"
   ]
  },
  {
   "cell_type": "code",
   "execution_count": 249,
   "metadata": {},
   "outputs": [],
   "source": [
    "train = []\n",
    "valid = []\n",
    "X_train = []\n",
    "y_train = []\n",
    "y_valid = []\n",
    "X_valid = []\n",
    "xt = []\n",
    "yt = []\n",
    "xv = []\n",
    "yv = []\n",
    "\n",
    "#As asked in the question, we partition the randomly-sorted data into 10 folds of equal size. \n",
    "#Each fold, we split it into a ratio of 80:20 for training and validation\n",
    "\n",
    "for i in range(0,10):\n",
    "    train.append(df1.iloc[8*i:8*i+6, 0:2])\n",
    "    valid.append(df1.iloc[8*i+6:8*i+8, 0:2])\n",
    "    \n"
   ]
  },
  {
   "cell_type": "code",
   "execution_count": 250,
   "metadata": {},
   "outputs": [],
   "source": [
    "scaler = StandardScaler()\n",
    "#print(train[0])\n",
    "for i in range(0,10):\n",
    "    scaler = StandardScaler()\n",
    "    train[i] = scaler.fit_transform(train[i])\n",
    "    scaler = StandardScaler()\n",
    "    valid[i] = scaler.fit_transform(valid[i])\n",
    "    #print(train[i][0].tolist())\n",
    "    #print(train[i])\n",
    "    #X_train.append(train[i][0])\n",
    "    #y_train.append(train[i][1])\n",
    "    #X_train.append\n",
    "#X_train = X_train.tolist()\n",
    "#print(np.transpose(train[0])[1])\n",
    "#print(train[0])\n",
    "for i in range(0,10):\n",
    "    X_train.append(np.transpose(train[i])[0])\n",
    "    y_train.append(np.transpose(train[i])[1]) \n",
    "    X_valid.append(np.transpose(valid[i])[0])\n",
    "    y_valid.append(np.transpose(valid[i])[1])\n",
    "#print(train[0])\n",
    "#print(X_train)\n",
    "#print(y_valid)"
   ]
  },
  {
   "cell_type": "code",
   "execution_count": 251,
   "metadata": {},
   "outputs": [
    {
     "name": "stdout",
     "output_type": "stream",
     "text": [
      "The weights for first hypothesis are [[-3.524432937682972e-17, 0.80157206126032], [7.401486830834377e-17, 0.9734083237704314], [-1.193212626562308e-16, 0.8878744178920657], [1.172944159241675e-16, 0.8926433694564324], [-7.420843930069281e-17, 0.9895388050118459], [6.035880323917593e-17, 0.880991302658891], [-8.324953507099078e-17, 0.9705335824408102], [-2.4227139585131945e-16, 0.8488534028237312], [0.0, 0.7306388143924685], [7.501465958318604e-17, 0.6959680846460649]]\n",
      "The weights for second hypothesis are [[-0.5272196586009191, -0.04233679329072561, 0.3631849732151949, 0.31387214187325], [0.1320942810312656, 2.0661485514233457, 0.9101534374145939, -0.6710423460350043], [-0.6839647046995054, 0.6883291094729751, 0.7658130016051469, 0.2597278895271144], [-0.6424304065292523, 0.11850010876529382, 0.7038736960635036, 0.48812254911864167], [-0.2798772895871864, 0.30564016019701434, 0.015863924593093826, 0.44763290921442594], [-0.2688328765697071, 0.36678682822327097, 0.46912280850706894, 0.3574830008939037], [-0.2191984004916741, 0.21795211423952215, -0.19643774354130555, 0.30629532015861516], [-0.5737138360801401, 1.6645653055774872, 0.4217693167533644, -0.3738855047786143], [-0.08619799403251782, -1.1386378706317557, 0.7032214071049481, 0.873098031806021], [0.22489941587103227, -0.32653956435706105, -0.3330195100976713, 0.8072345120552095]]\n",
      "The weights for third hypothesis are [[-0.1637395489947142, -2.0437684756716314, -0.8485259062770731, 5.935297290467853, 1.3867966885311753, -2.1988808802328035], [7.26621698902477, -57.24893519484301, -423.32143463570867, -680.1057891545672, -132.43391514368267, 250.866752569899], [-0.6319314046880604, 0.9214269601565364, 0.4827289163571269, -0.390347795513959, 0.25459028826155483, 0.3109824416506542], [-0.6117467183838305, 0.5574099029634573, 0.24036654612455716, -0.7708612022913953, 0.3916895719681861, 0.5747830383598093], [0.08259433006783147, 1.0090091868384166, -0.7340957438604019, -0.3909926409658961, 0.4845799906522385, 0.10014553862077549], [1.80031581956462, -10.50466426307287, -3.096991507373372, 24.74586198456548, -2.040875819747989, -8.351648392355123], [2.4532709726589985, 4.47073042907805, -30.165961603815383, -65.46660829699792, -13.79979969500873, 24.57874927943491], [1.7945721056634925, -9.968086405160863, -2.6750759497250693, 16.038417042274634, 0.291581329606335, -4.989171387295036], [1.0527060979822025, -1.8847778707769347, -22.008249950401595, 33.554426387646416, 2.5339200822369894, -10.921507510420819], [-10.388989275554074, 18.344475035817325, 22.681186991544465, -38.26571552645274, -12.225058882301047, 17.050175840024284]]\n",
      "The weights for fourth hypothesis are [[-0.46251445449888706, -0.7393623828250053, 0.7291999837725952, 1.2175774485334723, -0.37673893332696035, 1.0633090856854208, -0.5500150537760798, 0.7193693889433233, -0.4326786949917225, 0.4423787568534553, -0.2853211927310739, 0.258478296163506, -0.17332905351206107, 0.14638413054818564, -0.10055174361856346, 0.0812259685798178, -0.05668472344161676, 0.044446537114515225, -0.031356075117351945, 0.02408347051099662, -0.017120713445014573, 0.012957897498332475, -0.009262206199550602, 0.0069357889932762685, -0.004977185003619044, 0.0036977202955190804, -0.0026607767226310627, 0.0019647454783199188, -0.0014159726349352985, 0.0010400109718891211, -0.0007493591984823723, 0.0005469277743248107, -0.00039240176588153746, 0.0002830559914006786, -0.00019997916079645106, 0.00013977291435937666, -9.358341579302298e-05, 5.857752446894851e-05, -3.124802743662181e-05, 7.423736961994135e-06, 1.2429094978279265e-05, -3.440814814743656e-05, 5.00440796849894e-05, -7.742161591250985e-05, 9.923633646731645e-05, -0.0001414351138378811, 0.00014357227220827666, -0.0002345606518329719, 0.00019235104498663681, -0.00041239606668531286, 0.00020679115483428816], [-0.4135248176052006, 0.0, 3.58638092417757e-33, 5.600326040065211e-33, 1.3471070808898133e-32, 2.8279872177652883e-32, 6.17396319945859e-32, 1.3318704261875913e-31, 2.8837154129056906e-31, 6.236589548332123e-31, 1.3492650134564809e-30, 2.9187601044718456e-30, 6.314151955563087e-30, 1.365924658024507e-29, 2.9548811817435975e-29, 6.392236023430866e-29, 1.3828202819390078e-28, 2.9914285118274907e-28, 6.471299988219748e-28, 1.3999239117353894e-27, 3.0284285532622567e-27, 6.551341408028367e-27, 1.4172391227478885e-26, 3.0658862142864707e-26, 6.632372849758913e-26, 1.434768498996291e-25, 3.103807177841971e-25, 6.7144065429021e-25, 1.4525146905141026e-24, 3.1421971736121488e-24, 6.797454884509307e-24, 1.4704803789834377e-23, 3.181062002931375e-23, 6.881530424424474e-23, 1.48866827929293e-22, 3.2204075388627167e-22, 6.966645867734702e-22, 1.50708113990954e-21, 3.2602397271121517e-21, 7.052814076671623e-21, 1.5257217432951758e-20, 3.300564586926163e-20, 7.140048072555717e-20, 1.544592906327123e-19, 3.3413882120013574e-19, 7.228361037763995e-19, 1.5636974807237203e-18, 3.3827167714053278e-18, 7.317766317722066e-18, 1.583038353475295e-17, 3.4245565105088844e-17], [-0.6345586497845945, 0.8650511001799375, 0.44313542017999386, 0.016446535875351765, 0.2403623514713209, -0.079784961550063, 0.12543235816578424, -0.06866297208379543, 0.0701842430115434, -0.04721082371021501, 0.041406424813457014, -0.03046296663338595, 0.025121189395237845, -0.019203128543807027, 0.015441412381851101, -0.011990796133306631, 0.009548051316693772, -0.007455894806739275, 0.005921069839872742, -0.004625838141123551, 0.003678501437462124, -0.0028651402261681658, 0.0022892509784478037, -0.0017710618651131777, 0.001428007202611813, -0.0010914797459836234, 0.0008940038773973184, -0.0006693678113369078, 0.0005629275347255552, -0.00040714913103945694, 0.0003576830732766997, -0.000244260908867517, 0.0002304102042796814, -0.00014315241423403137, 0.0001513616250648812, -8.05777049677694e-05, 0.00010200769607727696, -4.219030773023927e-05, 7.075342934579614e-05, -1.9199780957629257e-05, 5.027258719963058e-05, -6.313582919081138e-06, 3.5835438460432395e-05, -3.982121458951204e-07, 2.422754985430627e-05, 1.2731369266281304e-07, 1.3179260897006515e-05, -4.013246144590081e-06, 4.961696502421637e-07, -1.3018415678837229e-05, -1.4771844925348958e-05], [-0.611640135408379, 0.5518216381789158, 0.26542412527706977, -0.2513356290850053, 0.2071706883985656, -0.16409643048076772, 0.12933289733435524, -0.10181990819174964, 0.08016031833260635, -0.06309076400043098, 0.049673997772431505, -0.03908926299670551, 0.030784459760962266, -0.024215653941499216, 0.019081427974064275, -0.014997597217840077, 0.01183193810909235, -0.00928332390689289, 0.007342700967764091, -0.005739344227105166, 0.004564692273491649, -0.003539161743245101, 0.0028481413118340224, -0.0021703860213598807, 0.001790713867856652, -0.0013152158220734612, 0.0011434335405817668, -0.000776397280055, 0.0007523640118447843, -0.0004313825923475375, 0.0005224214457034113, -0.00020400363386820537, 0.0003948499939748352, -4.7070015746790524e-05, 0.00033308017098952276, 6.813891844752537e-05, 0.0003136460599256456, 0.00015789627930215606, 0.0003200230614653709, 0.0002288985673790294, 0.0003379524450183326, 0.0002785382390046567, 0.00035122297500651616, 0.0002924047910588714, 0.0003371720845844038, 0.00023796526071437975, 0.00026145719314413565, 5.181833030549356e-05, 7.256384044424979e-05, -0.00038510940329344103, -0.0003011265766684517], [-0.02239736478077257, 0.655810157527162, -0.49596955941771836, 0.23728885075635536, -0.040818100430900985, -0.07933153034101662, 0.1410641295101232, -0.16412391092088946, 0.16367970971331813, -0.1501426002113021, 0.13024356213827987, -0.10815732900275649, 0.08632620151445147, -0.06609811748118324, 0.048091992551532146, -0.032530736017353755, 0.019344193633826844, -0.008383124067974099, -0.0006363081903464992, 0.007923544837154696, -0.013801596780432345, 0.018417946002925092, -0.022094102851144555, 0.02486497749565666, -0.027071560515090926, 0.028600650471478122, -0.029869448217134942, 0.030565779758709694, -0.0312735319439867, 0.03139307092134914, -0.031811887171890166, 0.031492899017351764, -0.03183506900495607, 0.03112151404380033, -0.031577012403578526, 0.030430714051937112, -0.031197237721768, 0.02950403784189071, -0.030805376816426148, 0.028388282894268622, -0.03046444178122583, 0.027135543239358854, -0.03015790733930258, 0.025886034567157074, -0.029680792230053706, 0.02505735730688226, -0.028360188529907536, 0.02578580414575885, -0.024389849973305486, 0.030944000319607357, -0.013297665021914762], [1.410993754863739, -6.910470199090894, -6.812854172645841, 6.693626110612484, 1.6158839402170555, 5.73928212130283, 2.017305162853241, 3.7431901113378974, 1.6178134015113437, 2.3967567708792976, 1.2090169569695046, 1.5469427214331284, 0.8766176223695373, 1.0079519187667714, 0.6237816571628423, 0.662141574400288, 0.4381891062393366, 0.4378939106892771, 0.30500964336390907, 0.29115690627384655, 0.21090062735837234, 0.19442158893659464, 0.1451145207327496, 0.1302622941685284, 0.09948159845344869, 0.08750025680965902, 0.0680040599549199, 0.05888569198166435, 0.0463764640523118, 0.039673140363000535, 0.03155430024481762, 0.02673182332247713, 0.02140635529462419, 0.017980985551848374, 0.014449571687872847, 0.012024304142539058, 0.009651862612373599, 0.007925437344925861, 0.006299344631074461, 0.005026287056997765, 0.0038966979531626774, 0.0028678436403391213, 0.0020323135508361063, 0.0010043196336041544, 0.00042258110838895964, -0.001265520602091905, -0.00039110944372667167, -0.0033326205686136736, -0.0012686562666936864, -0.005572818229768924, -0.003383649261895168], [-0.4373989286489761, 4.6364864061637533e-32, 6.743526933355523e-32, 1.5585428902580157e-31, 3.1657130732150707e-31, 6.69811660902613e-31, 1.3970468285753793e-30, 2.9285031518704346e-30, 6.1277253658970455e-30, 1.2830269262169253e-29, 2.685768912153455e-29, 5.62263319806319e-29, 1.177054718001401e-28, 2.4641030265521623e-28, 5.158448256618598e-28, 1.079891309434628e-27, 2.2606885242718513e-27, 4.732618760664358e-27, 9.907458716315916e-27, 2.0740682209540478e-26, 4.341939794613686e-26, 9.089595553288486e-26, 1.9028533573892905e-25, 3.983511566892088e-25, 8.33924712974216e-25, 1.7457723300387214e-24, 3.654671675729953e-24, 7.650840162706827e-24, 1.601658381069948e-23, 3.3529776012863786e-23, 7.019261365340252e-23, 1.4694410751826469e-22, 3.076188449251412e-22, 6.439819558012621e-22, 1.3481383414547646e-21, 2.822248311971811e-21, 5.908210818952496e-21, 1.2368491791850531e-20, 2.589270997479346e-20, 5.4204865162340133e-20, 1.1347469655079672e-19, 2.375526019432217e-19, 4.973023978498452e-19, 1.0410733154853678e-18, 2.1794257435753356e-18, 4.562499586827288e-18, 9.551324490482514e-18, 1.9995135952643423e-17, 4.1858640878873154e-17, 8.762860229489118e-17, 1.834453240461476e-16], [1.4895066916942594, -7.57547121787352, -3.477811378395616, -0.6633875247321489, -0.5134972744315612, 0.25553914438120484, -0.24792298752886777, 0.32059257961145887, -0.22001041035791027, 0.3241232231427284, -0.20737860624730525, 0.3244160539389627, -0.19534470326687095, 0.3250675329658572, -0.18304858074767968, 0.3262603772985824, -0.17047109728190615, 0.3279581641117308, -0.15766644844778727, 0.33008243153358674, -0.14472742440660008, 0.3325125814887279, -0.1317946945334958, 0.3350730195793692, -0.11907159054794093, 0.33751588655571385, -0.10684294899971039, 0.3394986631437526, -0.0954986112922261, 0.34055482515969504, -0.08556197346311323, 0.34005442284393184, -0.07772280470696652, 0.33714860645313643, -0.07287007549282885, 0.33068534872883565, -0.07211106306576796, 0.3190669508765339, -0.07673805040097388, 0.29997812185680683, -0.08803923006507527, 0.2698075710733252, -0.10668382166551553, 0.22231668588834888, -0.13098401800378945, 0.1454216673151555, -0.15224173021939552, 0.01320051625899483, -0.14258685277541924, -0.23424901421510216, -0.023548751435211065], [1.1640625, -1.0032547773081668, -24.322619469915203, 17.5140371087413, 6.343968748909586, 7.516378069152627, 5.002685696250024, 3.8802521217177555, 2.8189823105908354, 2.089163776816225, 1.535799439356092, 1.1318888049977167, 0.8333634083107067, 0.6137703480780801, 0.45198321084900334, 0.3328557235670295, 0.24512176641422803, 0.18051286830297156, 0.13293224633791584, 0.09789196579911819, 0.07208641887436384, 0.05308131523139638, 0.03908388935273861, 0.028773766186765658, 0.021178466621297007, 0.015581590341359603, 0.011455404987683483, 0.008410626767584238, 0.006160657856983993, 0.004492554223378092, 0.0032501872065187863, 0.0023209592236897547, 0.0016182195509620698, 0.0010482369258622798, 0.0006245265831989272, 0.000266075753069823, -1.759877756729686e-05, -0.00040055309160530694, -0.0006120734696337724, -0.0012466046613510953, -0.0008217585704273643, -0.004615044489777179, -0.007543367638811361, -0.01534671485451367, 0.00725579786697985, -0.019985902567207194, -0.045248324309642596, -0.0828100799645861, 0.16697265267433875, 0.013632300478131314, -0.048754213270460055], [-0.635036011764896, 2.7000846634517153, -0.6188281375157352, -0.3871145795149214, -0.2591835464016447, -1.5210373300283067, 0.2156455622200304, -1.805099654619716, 0.5574412703892426, -1.73523811170644, 0.7377956293202438, -1.5339592915540556, 0.7930131436295068, -1.2998228393437978, 0.7678958363941942, -1.074823805279618, 0.6986504030056411, -0.8750583960499534, 0.6101905275934807, -0.7048415796800145, 0.5179708301251744, -0.5632855047078037, 0.4306680633299248, -0.44739398190523383, 0.35250947775661406, -0.35351874464554645, 0.2849896046772591, -0.27803034700232737, 0.22803305472903815, -0.21760542735189076, 0.18073725750634975, -0.16932371581108183, 0.1418224025110001, -0.13066963969292375, 0.10988728669969484, -0.09948508784608665, 0.08354112177990025, -0.0738946888830923, 0.06145908071360398, -0.05220993253936013, 0.042394704888834886, -0.03280665642940981, 0.025175537600333635, -0.013956640397110488, 0.008711212022937365, 0.006427994900469457, -0.007939081547016514, 0.031219901541795637, -0.025347585360313545, 0.06483416202573285, -0.04315538477383345]]\n"
     ]
    }
   ],
   "source": [
    "from sklearn.linear_model import LinearRegression\n",
    "from sklearn.preprocessing import PolynomialFeatures\n",
    "#print(linreg1)\n",
    "#print(X_train[0])\n",
    "#print(y_train[0].reshape(-1,1))\n",
    "w1 = []\n",
    "w2 = []\n",
    "w3 = []\n",
    "w4 = []\n",
    "y_pred1=[]\n",
    "y_pred2=[]\n",
    "y_pred3=[]\n",
    "y_pred4=[]\n",
    "yv_pred1=[]\n",
    "yv_pred2=[]\n",
    "yv_pred3=[]\n",
    "yv_pred4=[]\n",
    "for k in range(0,10):\n",
    "    poly_3 = PolynomialFeatures(degree=3, include_bias=False)\n",
    "    poly_5 = PolynomialFeatures(degree=5, include_bias=False)\n",
    "    poly_50 = PolynomialFeatures(degree=50, include_bias=False)\n",
    "    linreg1 = LinearRegression(fit_intercept = True)\n",
    "    linreg3 = LinearRegression()\n",
    "    linreg5 = LinearRegression()\n",
    "    linreg50 = LinearRegression()\n",
    "    \n",
    "    \n",
    "    poly_features_3 = poly_3.fit_transform(X_train[k].reshape(-1, 1))\n",
    "    poly_features_5 = poly_5.fit_transform(X_train[k].reshape(-1, 1))\n",
    "    poly_features_50 = poly_50.fit_transform(X_train[k].reshape(-1, 1))\n",
    "    linreg1.fit(X_train[k].reshape(-1,1), y_train[k].reshape(-1,1))\n",
    "    \n",
    "\n",
    "    #print(linreg1.coef_)\n",
    "    #print(poly_3)\n",
    "    linreg3.fit(poly_features_3, y_train[k].reshape(-1,1))\n",
    "    linreg5.fit(poly_features_5, y_train[k].reshape(-1,1))\n",
    "    linreg50.fit(poly_features_50 , y_train[k].reshape(-1,1))\n",
    "    #w3.append()\n",
    "    \n",
    "    y_pred1.append(linreg1.predict(X_train[k].reshape(-1,1)))\n",
    "    y_pred2.append(linreg3.predict(poly_features_3))\n",
    "    y_pred3.append(linreg5.predict(poly_features_5))\n",
    "    y_pred4.append(linreg50.predict(poly_features_50))\n",
    "    \n",
    "    w1.append(linreg1.intercept_.tolist() + linreg1.coef_[0].tolist())\n",
    "    w2.append(linreg3.intercept_.tolist() + linreg3.coef_[0].tolist())\n",
    "    w3.append(linreg5.intercept_.tolist() + linreg5.coef_[0].tolist())\n",
    "    w4.append(linreg50.intercept_.tolist() + linreg50.coef_[0].tolist())\n",
    "    \n",
    "    #for k in range(0, len(linreg3.coef_)):\n",
    "    poly_3 = PolynomialFeatures(degree=3, include_bias=False)\n",
    "    poly_5 = PolynomialFeatures(degree=5, include_bias=False)\n",
    "    poly_50 = PolynomialFeatures(degree=50, include_bias=False)\n",
    "    \n",
    "    polyv_3 = poly_3.fit_transform(X_valid[k].reshape(-1, 1))\n",
    "    polyv_5 = poly_5.fit_transform(X_valid[k].reshape(-1, 1))\n",
    "    polyv_50 = poly_50.fit_transform(X_valid[k].reshape(-1, 1))\n",
    "    \n",
    "    \n",
    "    \n",
    "    yv_pred1.append(linreg1.predict(X_valid[k].reshape(-1,1)))\n",
    "    yv_pred2.append(linreg3.predict(polyv_3))\n",
    "    yv_pred3.append(linreg5.predict(polyv_5))\n",
    "    yv_pred4.append(linreg50.predict(polyv_50))\n",
    "    \n",
    "print(f\"The weights for first hypothesis are {w1}\")\n",
    "print(f\"The weights for second hypothesis are {w2}\")  \n",
    "print(f\"The weights for third hypothesis are {w3}\")  \n",
    "print(f\"The weights for fourth hypothesis are {w4}\")  "
   ]
  },
  {
   "cell_type": "code",
   "execution_count": 252,
   "metadata": {},
   "outputs": [
    {
     "name": "stdout",
     "output_type": "stream",
     "text": [
      "The average training error and standard deviation for first hypotheses are 0.2389 and 0.16161519049033407\n",
      "The average training error and standard deviation for second hypotheses are 0.0841758496211379 and 0.11579973111717298\n",
      "The average training error and standard deviation for third hypotheses are 5.319942720133294e-26 and 1.4095651763739002e-25\n",
      "The average training error and standard deviation for fourth hypotheses are 0.018842793192225295 and 0.0439942884543943\n"
     ]
    }
   ],
   "source": [
    "training_error1=[]\n",
    "training_error2=[]\n",
    "training_error3=[]\n",
    "training_error4=[]\n",
    "validation_error1=[]\n",
    "validation_error2=[]\n",
    "validation_error3=[]\n",
    "validation_error4=[]\n",
    "\n",
    "for k in range(0, 10):\n",
    "    training_error1.append(mean_squared_error(y_train[k],y_pred1[k]))\n",
    "    training_error2.append(mean_squared_error(y_train[k],y_pred2[k]))\n",
    "    training_error3.append(mean_squared_error(y_train[k],y_pred3[k]))\n",
    "    training_error4.append(mean_squared_error(y_train[k],y_pred4[k]))\n",
    "    validation_error1.append(mean_squared_error(y_valid[k],yv_pred1[k]))\n",
    "    validation_error2.append(mean_squared_error(y_valid[k],yv_pred2[k]))\n",
    "    validation_error3.append(mean_squared_error(y_valid[k],yv_pred3[k]))\n",
    "    validation_error4.append(mean_squared_error(y_valid[k],yv_pred4[k]))\n",
    "print(f\"The average training error and standard deviation for first hypotheses are {np.mean(training_error1):.4f} and {np.std(training_error1)}\")\n",
    "print(f\"The average training error and standard deviation for second hypotheses are {np.mean(training_error2)} and {np.std(training_error2)}\")\n",
    "print(f\"The average training error and standard deviation for third hypotheses are {np.mean(training_error3)} and {np.std(training_error3)}\")\n",
    "print(f\"The average training error and standard deviation for fourth hypotheses are {np.mean(training_error4)} and {np.std(training_error4)}\")\n"
   ]
  },
  {
   "cell_type": "code",
   "execution_count": 253,
   "metadata": {},
   "outputs": [
    {
     "data": {
      "text/plain": [
       "<matplotlib.legend.Legend at 0x15a2e2d0490>"
      ]
     },
     "execution_count": 253,
     "metadata": {},
     "output_type": "execute_result"
    },
    {
     "data": {
      "image/png": "[encoded data removed]",
      "text/plain": [
       "<Figure size 432x288 with 1 Axes>"
      ]
     },
     "metadata": {
      "needs_background": "light"
     },
     "output_type": "display_data"
    }
   ],
   "source": [
    "X =[]\n",
    "Y =[]\n",
    "for k in range(0,4):\n",
    "    X.append(k+1)\n",
    "Y = [np.mean(training_error1),np.mean(training_error2),np.mean(training_error3),np.mean(training_error4)]\n",
    "Yerr = [np.std(training_error1)/np.sqrt(10),np.std(training_error2)/np.sqrt(10),np.std(training_error3)/np.sqrt(10),np.std(training_error4)/np.sqrt(10)]\n",
    "\n",
    "plt.errorbar(X,Y,yerr = Yerr,ecolor=\"orange\" ,label=\"Mean Training Error\")\n",
    "#plt.errorbar(X,Y,label=\"Standard Deviation/SquareRoot10\")\n",
    "plt.legend(loc=\"best\")"
   ]
  },
  {
   "cell_type": "code",
   "execution_count": 254,
   "metadata": {},
   "outputs": [
    {
     "name": "stdout",
     "output_type": "stream",
     "text": [
      "The index of validation set with minimum training error for first hypothesis is 4\n",
      "The index of validation set with minimum training error for second hypothesis is 2\n",
      "The index of validation set with minimum training error for third hypothesis is 3\n",
      "The index of validation set with minimum training error for fourth hypothesis is 4\n"
     ]
    }
   ],
   "source": [
    "print(f\"The index of validation set with minimum training error for first hypothesis is {training_error1.index(min(training_error1))}\")\n",
    "print(f\"The index of validation set with minimum training error for second hypothesis is {training_error2.index(min(training_error2))}\")\n",
    "print(f\"The index of validation set with minimum training error for third hypothesis is {training_error3.index(min(training_error3))}\")\n",
    "print(f\"The index of validation set with minimum training error for fourth hypothesis is {training_error4.index(min(training_error4))}\")"
   ]
  },
  {
   "cell_type": "code",
   "execution_count": 255,
   "metadata": {},
   "outputs": [
    {
     "name": "stdout",
     "output_type": "stream",
     "text": [
      "The minimum training error for the first hypothesis is 0.020812953375728957\n",
      "The minimum training error for the second hypothesis is 0.0015593062269605258\n",
      "The minimum training error for the third hypothesis is 1.1298789007071784e-30\n",
      "The minimum training error for the fourth hypothesis is 8.903120899994366e-18\n"
     ]
    }
   ],
   "source": [
    "print(f\"The minimum training error for the first hypothesis is {min(training_error1)}\")\n",
    "print(f\"The minimum training error for the second hypothesis is {min(training_error2)}\")\n",
    "print(f\"The minimum training error for the third hypothesis is {min(training_error3)}\")\n",
    "print(f\"The minimum training error for the fourth hypothesis is {min(training_error4)}\")"
   ]
  },
  {
   "cell_type": "code",
   "execution_count": 256,
   "metadata": {},
   "outputs": [
    {
     "data": {
      "text/plain": [
       "<matplotlib.legend.Legend at 0x15a2e36a9d0>"
      ]
     },
     "execution_count": 256,
     "metadata": {},
     "output_type": "execute_result"
    },
    {
     "data": {
      "image/png": "[encoded data removed]",
      "text/plain": [
       "<Figure size 432x288 with 1 Axes>"
      ]
     },
     "metadata": {
      "needs_background": "light"
     },
     "output_type": "display_data"
    }
   ],
   "source": [
    "plt.scatter(X_train[training_error1.index(min(training_error1))],y_train[training_error1.index(min(training_error1))],label=\"Training Output\")\n",
    "plt.scatter(X_train[training_error1.index(min(training_error1))],y_pred1[training_error1.index(min(training_error1))],label=\"Predicted Output\")\n",
    "#plt.scatter(X_train[training_error1.index(min(training_error1))],y_train[training_error1.index(min(training_error1))],label=\"Minimum Error Output\")\n",
    "plt.legend(loc=\"best\")"
   ]
  },
  {
   "cell_type": "code",
   "execution_count": 257,
   "metadata": {},
   "outputs": [
    {
     "data": {
      "text/plain": [
       "<matplotlib.legend.Legend at 0x15a2e3ccfd0>"
      ]
     },
     "execution_count": 257,
     "metadata": {},
     "output_type": "execute_result"
    },
    {
     "data": {
      "image/png": "[encoded data removed]",
      "text/plain": [
       "<Figure size 432x288 with 1 Axes>"
      ]
     },
     "metadata": {
      "needs_background": "light"
     },
     "output_type": "display_data"
    }
   ],
   "source": [
    "plt.scatter(X_train[training_error2.index(min(training_error2))],y_train[training_error2.index(min(training_error2))],label=\"Training Output\")\n",
    "plt.scatter(X_train[training_error2.index(min(training_error2))],y_pred2[training_error2.index(min(training_error2))],label=\"Predicted Output\")\n",
    "#plt.scatter(X_train[training_error1.index(min(training_error1))],y_train[training_error1.index(min(training_error1))],label=\"Minimum Error Output\")\n",
    "plt.legend(loc=\"best\")"
   ]
  },
  {
   "cell_type": "code",
   "execution_count": 258,
   "metadata": {},
   "outputs": [
    {
     "data": {
      "text/plain": [
       "<matplotlib.legend.Legend at 0x15a2e41bd30>"
      ]
     },
     "execution_count": 258,
     "metadata": {},
     "output_type": "execute_result"
    },
    {
     "data": {
      "image/png": "[encoded data removed]",
      "text/plain": [
       "<Figure size 432x288 with 1 Axes>"
      ]
     },
     "metadata": {
      "needs_background": "light"
     },
     "output_type": "display_data"
    }
   ],
   "source": [
    "plt.scatter(X_train[training_error3.index(min(training_error3))],y_train[training_error3.index(min(training_error3))],label=\"Training Output\")\n",
    "plt.scatter(X_train[training_error3.index(min(training_error3))],y_pred3[training_error3.index(min(training_error3))],label=\"Predicted Output\")\n",
    "#plt.scatter(X_train[training_error1.index(min(training_error1))],y_train[training_error1.index(min(training_error1))],label=\"Minimum Error Output\")\n",
    "plt.legend(loc=\"best\")"
   ]
  },
  {
   "cell_type": "code",
   "execution_count": 259,
   "metadata": {},
   "outputs": [
    {
     "data": {
      "text/plain": [
       "<matplotlib.legend.Legend at 0x15a2e479a60>"
      ]
     },
     "execution_count": 259,
     "metadata": {},
     "output_type": "execute_result"
    },
    {
     "data": {
      "image/png": "[encoded data removed]",
      "text/plain": [
       "<Figure size 432x288 with 1 Axes>"
      ]
     },
     "metadata": {
      "needs_background": "light"
     },
     "output_type": "display_data"
    }
   ],
   "source": [
    "plt.scatter(X_train[training_error4.index(min(training_error4))],y_train[training_error4.index(min(training_error4))],label=\"Training Output\")\n",
    "plt.scatter(X_train[training_error4.index(min(training_error4))],y_pred4[training_error4.index(min(training_error4))],label=\"Predicted Output\")\n",
    "#plt.scatter(X_train[training_error1.index(min(training_error1))],y_train[training_error1.index(min(training_error1))],label=\"Minimum Error Output\")\n",
    "plt.legend(loc=\"best\")"
   ]
  },
  {
   "cell_type": "code",
   "execution_count": 260,
   "metadata": {},
   "outputs": [
    {
     "name": "stdout",
     "output_type": "stream",
     "text": [
      "I would go with the third hyposthesis. We know that the error gradually decreses as we increase the model complexity, but the third hypothesis' error is lesser than that of the fourth hypothesis which has degree of 50. This indicates that the data fits the third hypothesis best\n"
     ]
    }
   ],
   "source": [
    "print(f\"I would go with the third hyposthesis. We know that the error gradually decreses as we increase the model complexity, but the third hypothesis' error is lesser than that of the fourth hypothesis which has degree of 50. This indicates that the data fits the third hypothesis best\")"
   ]
  },
  {
   "cell_type": "code",
   "execution_count": null,
   "metadata": {},
   "outputs": [],
   "source": []
  }
 ],
 "metadata": {
  "kernelspec": {
   "display_name": "Python 3",
   "language": "python",
   "name": "python3"
  },
  "language_info": {
   "codemirror_mode": {
    "name": "ipython",
    "version": 3
   },
   "file_extension": ".py",
   "mimetype": "text/x-python",
   "name": "python",
   "nbconvert_exporter": "python",
   "pygments_lexer": "ipython3",
   "version": "3.8.5"
  }
 },
 "nbformat": 4,
 "nbformat_minor": 4
}
