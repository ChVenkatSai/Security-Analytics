{
  "nbformat": 4,
  "nbformat_minor": 0,
  "metadata": {
    "colab": {
      "provenance": []
    },
    "kernelspec": {
      "name": "python3",
      "display_name": "Python 3"
    },
    "language_info": {
      "name": "python"
    },
    "accelerator": "GPU",
    "gpuClass": "standard",
    "widgets": {
      "application/vnd.jupyter.widget-state+json": {
        "aef84e7af03b431bad7926aa44fbb9bc": {
          "model_module": "@jupyter-widgets/controls",
          "model_name": "HBoxModel",
          "model_module_version": "1.5.0",
          "state": {
            "_dom_classes": [],
            "_model_module": "@jupyter-widgets/controls",
            "_model_module_version": "1.5.0",
            "_model_name": "HBoxModel",
            "_view_count": null,
            "_view_module": "@jupyter-widgets/controls",
            "_view_module_version": "1.5.0",
            "_view_name": "HBoxView",
            "box_style": "",
            "children": [
              "IPY_MODEL_fcf22335873040489371c7ef64b6979b",
              "IPY_MODEL_c8d27e51e4074123a95517922c2fa3dc",
              "IPY_MODEL_238add34daa142049db53651bdf021da"
            ],
            "layout": "IPY_MODEL_856a978f741a459f8c44bb0e30a94e1e"
          }
        },
        "fcf22335873040489371c7ef64b6979b": {
          "model_module": "@jupyter-widgets/controls",
          "model_name": "HTMLModel",
          "model_module_version": "1.5.0",
          "state": {
            "_dom_classes": [],
            "_model_module": "@jupyter-widgets/controls",
            "_model_module_version": "1.5.0",
            "_model_name": "HTMLModel",
            "_view_count": null,
            "_view_module": "@jupyter-widgets/controls",
            "_view_module_version": "1.5.0",
            "_view_name": "HTMLView",
            "description": "",
            "description_tooltip": null,
            "layout": "IPY_MODEL_3fb8a88a067045ad9c093a77659cc4de",
            "placeholder": "​",
            "style": "IPY_MODEL_81a8754208004d07b2d50161e2de4dd8",
            "value": "Randomized smoothing: 100%"
          }
        },
        "c8d27e51e4074123a95517922c2fa3dc": {
          "model_module": "@jupyter-widgets/controls",
          "model_name": "FloatProgressModel",
          "model_module_version": "1.5.0",
          "state": {
            "_dom_classes": [],
            "_model_module": "@jupyter-widgets/controls",
            "_model_module_version": "1.5.0",
            "_model_name": "FloatProgressModel",
            "_view_count": null,
            "_view_module": "@jupyter-widgets/controls",
            "_view_module_version": "1.5.0",
            "_view_name": "ProgressView",
            "bar_style": "success",
            "description": "",
            "description_tooltip": null,
            "layout": "IPY_MODEL_3c50a482926b41c8a1c198498f366f14",
            "max": 250,
            "min": 0,
            "orientation": "horizontal",
            "style": "IPY_MODEL_51070c7693be41ceb9cfa2037f924c17",
            "value": 250
          }
        },
        "238add34daa142049db53651bdf021da": {
          "model_module": "@jupyter-widgets/controls",
          "model_name": "HTMLModel",
          "model_module_version": "1.5.0",
          "state": {
            "_dom_classes": [],
            "_model_module": "@jupyter-widgets/controls",
            "_model_module_version": "1.5.0",
            "_model_name": "HTMLModel",
            "_view_count": null,
            "_view_module": "@jupyter-widgets/controls",
            "_view_module_version": "1.5.0",
            "_view_name": "HTMLView",
            "description": "",
            "description_tooltip": null,
            "layout": "IPY_MODEL_8bdc658c612141b3872996f83a8ac39a",
            "placeholder": "​",
            "style": "IPY_MODEL_4a074d275c884d8fafd00c9e05f804a2",
            "value": " 250/250 [00:02&lt;00:00, 115.22it/s]"
          }
        },
        "856a978f741a459f8c44bb0e30a94e1e": {
          "model_module": "@jupyter-widgets/base",
          "model_name": "LayoutModel",
          "model_module_version": "1.2.0",
          "state": {
            "_model_module": "@jupyter-widgets/base",
            "_model_module_version": "1.2.0",
            "_model_name": "LayoutModel",
            "_view_count": null,
            "_view_module": "@jupyter-widgets/base",
            "_view_module_version": "1.2.0",
            "_view_name": "LayoutView",
            "align_content": null,
            "align_items": null,
            "align_self": null,
            "border": null,
            "bottom": null,
            "display": null,
            "flex": null,
            "flex_flow": null,
            "grid_area": null,
            "grid_auto_columns": null,
            "grid_auto_flow": null,
            "grid_auto_rows": null,
            "grid_column": null,
            "grid_gap": null,
            "grid_row": null,
            "grid_template_areas": null,
            "grid_template_columns": null,
            "grid_template_rows": null,
            "height": null,
            "justify_content": null,
            "justify_items": null,
            "left": null,
            "margin": null,
            "max_height": null,
            "max_width": null,
            "min_height": null,
            "min_width": null,
            "object_fit": null,
            "object_position": null,
            "order": null,
            "overflow": null,
            "overflow_x": null,
            "overflow_y": null,
            "padding": null,
            "right": null,
            "top": null,
            "visibility": null,
            "width": null
          }
        },
        "3fb8a88a067045ad9c093a77659cc4de": {
          "model_module": "@jupyter-widgets/base",
          "model_name": "LayoutModel",
          "model_module_version": "1.2.0",
          "state": {
            "_model_module": "@jupyter-widgets/base",
            "_model_module_version": "1.2.0",
            "_model_name": "LayoutModel",
            "_view_count": null,
            "_view_module": "@jupyter-widgets/base",
            "_view_module_version": "1.2.0",
            "_view_name": "LayoutView",
            "align_content": null,
            "align_items": null,
            "align_self": null,
            "border": null,
            "bottom": null,
            "display": null,
            "flex": null,
            "flex_flow": null,
            "grid_area": null,
            "grid_auto_columns": null,
            "grid_auto_flow": null,
            "grid_auto_rows": null,
            "grid_column": null,
            "grid_gap": null,
            "grid_row": null,
            "grid_template_areas": null,
            "grid_template_columns": null,
            "grid_template_rows": null,
            "height": null,
            "justify_content": null,
            "justify_items": null,
            "left": null,
            "margin": null,
            "max_height": null,
            "max_width": null,
            "min_height": null,
            "min_width": null,
            "object_fit": null,
            "object_position": null,
            "order": null,
            "overflow": null,
            "overflow_x": null,
            "overflow_y": null,
            "padding": null,
            "right": null,
            "top": null,
            "visibility": null,
            "width": null
          }
        },
        "81a8754208004d07b2d50161e2de4dd8": {
          "model_module": "@jupyter-widgets/controls",
          "model_name": "DescriptionStyleModel",
          "model_module_version": "1.5.0",
          "state": {
            "_model_module": "@jupyter-widgets/controls",
            "_model_module_version": "1.5.0",
            "_model_name": "DescriptionStyleModel",
            "_view_count": null,
            "_view_module": "@jupyter-widgets/base",
            "_view_module_version": "1.2.0",
            "_view_name": "StyleView",
            "description_width": ""
          }
        },
        "3c50a482926b41c8a1c198498f366f14": {
          "model_module": "@jupyter-widgets/base",
          "model_name": "LayoutModel",
          "model_module_version": "1.2.0",
          "state": {
            "_model_module": "@jupyter-widgets/base",
            "_model_module_version": "1.2.0",
            "_model_name": "LayoutModel",
            "_view_count": null,
            "_view_module": "@jupyter-widgets/base",
            "_view_module_version": "1.2.0",
            "_view_name": "LayoutView",
            "align_content": null,
            "align_items": null,
            "align_self": null,
            "border": null,
            "bottom": null,
            "display": null,
            "flex": null,
            "flex_flow": null,
            "grid_area": null,
            "grid_auto_columns": null,
            "grid_auto_flow": null,
            "grid_auto_rows": null,
            "grid_column": null,
            "grid_gap": null,
            "grid_row": null,
            "grid_template_areas": null,
            "grid_template_columns": null,
            "grid_template_rows": null,
            "height": null,
            "justify_content": null,
            "justify_items": null,
            "left": null,
            "margin": null,
            "max_height": null,
            "max_width": null,
            "min_height": null,
            "min_width": null,
            "object_fit": null,
            "object_position": null,
            "order": null,
            "overflow": null,
            "overflow_x": null,
            "overflow_y": null,
            "padding": null,
            "right": null,
            "top": null,
            "visibility": null,
            "width": null
          }
        },
        "51070c7693be41ceb9cfa2037f924c17": {
          "model_module": "@jupyter-widgets/controls",
          "model_name": "ProgressStyleModel",
          "model_module_version": "1.5.0",
          "state": {
            "_model_module": "@jupyter-widgets/controls",
            "_model_module_version": "1.5.0",
            "_model_name": "ProgressStyleModel",
            "_view_count": null,
            "_view_module": "@jupyter-widgets/base",
            "_view_module_version": "1.2.0",
            "_view_name": "StyleView",
            "bar_color": null,
            "description_width": ""
          }
        },
        "8bdc658c612141b3872996f83a8ac39a": {
          "model_module": "@jupyter-widgets/base",
          "model_name": "LayoutModel",
          "model_module_version": "1.2.0",
          "state": {
            "_model_module": "@jupyter-widgets/base",
            "_model_module_version": "1.2.0",
            "_model_name": "LayoutModel",
            "_view_count": null,
            "_view_module": "@jupyter-widgets/base",
            "_view_module_version": "1.2.0",
            "_view_name": "LayoutView",
            "align_content": null,
            "align_items": null,
            "align_self": null,
            "border": null,
            "bottom": null,
            "display": null,
            "flex": null,
            "flex_flow": null,
            "grid_area": null,
            "grid_auto_columns": null,
            "grid_auto_flow": null,
            "grid_auto_rows": null,
            "grid_column": null,
            "grid_gap": null,
            "grid_row": null,
            "grid_template_areas": null,
            "grid_template_columns": null,
            "grid_template_rows": null,
            "height": null,
            "justify_content": null,
            "justify_items": null,
            "left": null,
            "margin": null,
            "max_height": null,
            "max_width": null,
            "min_height": null,
            "min_width": null,
            "object_fit": null,
            "object_position": null,
            "order": null,
            "overflow": null,
            "overflow_x": null,
            "overflow_y": null,
            "padding": null,
            "right": null,
            "top": null,
            "visibility": null,
            "width": null
          }
        },
        "4a074d275c884d8fafd00c9e05f804a2": {
          "model_module": "@jupyter-widgets/controls",
          "model_name": "DescriptionStyleModel",
          "model_module_version": "1.5.0",
          "state": {
            "_model_module": "@jupyter-widgets/controls",
            "_model_module_version": "1.5.0",
            "_model_name": "DescriptionStyleModel",
            "_view_count": null,
            "_view_module": "@jupyter-widgets/base",
            "_view_module_version": "1.2.0",
            "_view_name": "StyleView",
            "description_width": ""
          }
        }
      }
    }
  },
  "cells": [
    {
      "cell_type": "code",
      "execution_count": null,
      "metadata": {
        "colab": {
          "base_uri": "https://localhost:8080/"
        },
        "id": "B8Aq8mVarYgR",
        "outputId": "1a44a521-ba6f-49b7-f701-584171ae1749"
      },
      "outputs": [
        {
          "output_type": "stream",
          "name": "stdout",
          "text": [
            "Looking in indexes: https://pypi.org/simple, https://us-python.pkg.dev/colab-wheels/public/simple/\n",
            "Collecting adversarial-robustness-toolbox\n",
            "  Downloading adversarial_robustness_toolbox-1.12.2-py3-none-any.whl (1.4 MB)\n",
            "\u001b[K     |████████████████████████████████| 1.4 MB 38.3 MB/s \n",
            "\u001b[?25hRequirement already satisfied: tqdm in /usr/local/lib/python3.8/dist-packages (from adversarial-robustness-toolbox) (4.64.1)\n",
            "Requirement already satisfied: numpy>=1.18.0 in /usr/local/lib/python3.8/dist-packages (from adversarial-robustness-toolbox) (1.21.6)\n",
            "Requirement already satisfied: setuptools in /usr/local/lib/python3.8/dist-packages (from adversarial-robustness-toolbox) (57.4.0)\n",
            "Requirement already satisfied: scipy>=1.4.1 in /usr/local/lib/python3.8/dist-packages (from adversarial-robustness-toolbox) (1.7.3)\n",
            "Requirement already satisfied: six in /usr/local/lib/python3.8/dist-packages (from adversarial-robustness-toolbox) (1.15.0)\n",
            "Requirement already satisfied: scikit-learn<1.1.0,>=0.22.2 in /usr/local/lib/python3.8/dist-packages (from adversarial-robustness-toolbox) (1.0.2)\n",
            "Requirement already satisfied: joblib>=0.11 in /usr/local/lib/python3.8/dist-packages (from scikit-learn<1.1.0,>=0.22.2->adversarial-robustness-toolbox) (1.2.0)\n",
            "Requirement already satisfied: threadpoolctl>=2.0.0 in /usr/local/lib/python3.8/dist-packages (from scikit-learn<1.1.0,>=0.22.2->adversarial-robustness-toolbox) (3.1.0)\n",
            "Installing collected packages: adversarial-robustness-toolbox\n",
            "Successfully installed adversarial-robustness-toolbox-1.12.2\n"
          ]
        }
      ],
      "source": [
        "!pip install adversarial-robustness-toolbox"
      ]
    },
    {
      "cell_type": "markdown",
      "source": [
        "Creating own network and adding the defense Certified Adversarial Robustness to it through TensorFlowV2. And evaluating the Defense using the metrics such as CAV, COS ets. "
      ],
      "metadata": {
        "id": "FKsUlwQpmTUc"
      }
    },
    {
      "cell_type": "code",
      "source": [
        "import warnings\n",
        "warnings.filterwarnings('ignore')\n",
        "\n",
        "import os\n",
        "os.environ['TF_CPP_MIN_LOG_LEVEL'] = '3' \n",
        "import tensorflow as tf\n",
        "tf.keras.backend.set_floatx('float32')\n",
        "from tensorflow.keras.models import load_model\n",
        "from tensorflow.keras.models import Sequential\n",
        "from tensorflow.keras.layers import Dense, Flatten, Conv2D, MaxPooling2D, Dropout\n",
        "\n",
        "from art import config\n",
        "from art.attacks.evasion import FastGradientMethod\n",
        "from art.estimators.classification import TensorFlowV2Classifier\n",
        "from art.estimators.certification.randomized_smoothing import TensorFlowV2RandomizedSmoothing, RandomizedSmoothingMixin, PyTorchRandomizedSmoothing\n",
        "from art.utils import load_dataset, get_file, compute_accuracy\n",
        "\n",
        "import numpy as np\n",
        "%matplotlib inline\n",
        "import matplotlib.pyplot as plt\n",
        "\n",
        "import argparse\n",
        "import os\n",
        "import random\n",
        "import sys\n",
        "import warnings\n",
        "import torch\n",
        "import torch.optim as optim\n",
        "import numpy as np\n",
        "import scipy.stats as jslib\n",
        "import torch\n",
        "import torch.nn.functional as F\n",
        "\n",
        "from torch import nn\n",
        "from sklearn.utils import shuffle\n",
        "\n",
        "from art.estimators.certification import deep_z"
      ],
      "metadata": {
        "id": "Vw--2LcBrtA_"
      },
      "execution_count": null,
      "outputs": []
    },
    {
      "cell_type": "code",
      "source": [
        "(x_train, y_train), (x_test, y_test), min_, max_ = load_dataset('mnist')\n",
        "\n",
        "nb_classes = 10\n",
        "input_shape = x_train.shape[1:]\n",
        "\n",
        "num_samples_test = 250\n",
        "x_test = x_test[0:num_samples_test].astype(np.float32)\n",
        "y_test = y_test[0:num_samples_test]\n",
        "\n",
        "x_train = x_train.astype(np.float32)"
      ],
      "metadata": {
        "id": "aJA0gQZUrbQw"
      },
      "execution_count": null,
      "outputs": []
    },
    {
      "cell_type": "code",
      "source": [
        "def get_model(input_shape, min_, max_):\n",
        "    \n",
        "    model = Sequential()\n",
        "    model.add(Conv2D(32, kernel_size=(3, 3), activation='relu', input_shape=input_shape))\n",
        "    model.add(MaxPooling2D(pool_size=(2, 2)))\n",
        "    model.add(Conv2D(64, (3, 3), activation='relu'))\n",
        "    model.add(MaxPooling2D(pool_size=(2, 2)))\n",
        "    model.add(Dropout(0.25))\n",
        "    model.add(Flatten())\n",
        "    model.add(Dense(128, activation='relu'))\n",
        "    model.add(Dense(10, activation='softmax'))\n",
        "    \n",
        "    return model"
      ],
      "metadata": {
        "id": "pKLhr8bDrfwn"
      },
      "execution_count": null,
      "outputs": []
    },
    {
      "cell_type": "code",
      "source": [
        "nb_epochs = 10\n",
        "batch_size = 128\n",
        "sample_size = 100\n",
        "alpha = 0.001\n",
        "\n",
        "optimizer = tf.keras.optimizers.Adam(learning_rate=0.001)\n",
        "\n",
        "def train_step(model, images, labels):        \n",
        "    with tf.GradientTape() as tape:\n",
        "        predictions = model(images, training=True)\n",
        "        loss = loss_object(labels, predictions)\n",
        "    gradients = tape.gradient(loss, model.trainable_variables)\n",
        "    optimizer.apply_gradients(zip(gradients, model.trainable_variables))\n",
        "    \n",
        "loss_object = tf.keras.losses.CategoricalCrossentropy(from_logits=False)"
      ],
      "metadata": {
        "id": "EtnHBRdPriBe"
      },
      "execution_count": null,
      "outputs": []
    },
    {
      "cell_type": "code",
      "source": [
        "classifier = TensorFlowV2Classifier(model=get_model(input_shape, min_, max_),\n",
        "                                    nb_classes=nb_classes,\n",
        "                                    input_shape=input_shape,\n",
        "                                    loss_object=loss_object,\n",
        "                                    train_step=train_step,\n",
        "                                    channels_first=False,\n",
        "                                    clip_values=(min_, max_))\n",
        "\n",
        "classifier.fit(x_train, y_train, nb_epochs=nb_epochs, batch_size=batch_size)\n",
        "\n",
        "sigma_0 = 0.5\n",
        "\n",
        "classifier_rs_0 = TensorFlowV2RandomizedSmoothing(model=classifier.model,\n",
        "                                                  nb_classes=nb_classes,\n",
        "                                                  input_shape=input_shape,\n",
        "                                                  loss_object=loss_object,\n",
        "                                                  train_step=train_step,\n",
        "                                                  channels_first=False,\n",
        "                                                  clip_values=(min_, max_),\n",
        "                                                  sample_size=sample_size,\n",
        "                                                  scale=sigma_0,\n",
        "                                                  alpha=alpha)"
      ],
      "metadata": {
        "id": "O9ZR-r7ark24"
      },
      "execution_count": null,
      "outputs": []
    },
    {
      "cell_type": "code",
      "source": [
        "\n",
        "sigma_1 = 0.25\n",
        "\n",
        "classifier_rs_1 = TensorFlowV2RandomizedSmoothing(model=get_model(input_shape, min_, max_),\n",
        "                                                 nb_classes=nb_classes,\n",
        "                                                 input_shape=input_shape,\n",
        "                                                 loss_object=loss_object,\n",
        "                                                 train_step=train_step,\n",
        "                                                 channels_first=False,\n",
        "                                                 clip_values=(min_, max_),\n",
        "                                                 sample_size=sample_size,\n",
        "                                                 scale=sigma_1,\n",
        "                                                 alpha=alpha)\n",
        "\n",
        "classifier_rs_1.fit(x_train, y_train, nb_epochs=nb_epochs, batch_size=batch_size)"
      ],
      "metadata": {
        "colab": {
          "base_uri": "https://localhost:8080/"
        },
        "id": "SeKTVtvfw87I",
        "outputId": "a9d99d8b-a229-483e-dae2-49ef523d2ab0"
      },
      "execution_count": null,
      "outputs": [
        {
          "output_type": "stream",
          "name": "stderr",
          "text": [
            "100%|██████████| 10/10 [01:01<00:00,  6.11s/it]\n"
          ]
        }
      ]
    },
    {
      "cell_type": "code",
      "source": [
        "x_preds = classifier.predict(x_test)\n",
        "x_preds_rs_1 = classifier_rs_1.predict(x_test)"
      ],
      "metadata": {
        "colab": {
          "base_uri": "https://localhost:8080/",
          "height": 49,
          "referenced_widgets": [
            "aef84e7af03b431bad7926aa44fbb9bc",
            "fcf22335873040489371c7ef64b6979b",
            "c8d27e51e4074123a95517922c2fa3dc",
            "238add34daa142049db53651bdf021da",
            "856a978f741a459f8c44bb0e30a94e1e",
            "3fb8a88a067045ad9c093a77659cc4de",
            "81a8754208004d07b2d50161e2de4dd8",
            "3c50a482926b41c8a1c198498f366f14",
            "51070c7693be41ceb9cfa2037f924c17",
            "8bdc658c612141b3872996f83a8ac39a",
            "4a074d275c884d8fafd00c9e05f804a2"
          ]
        },
        "id": "Szs3qRSBuYvB",
        "outputId": "5d1537fa-8e25-4f0e-82bf-b383af3056a1"
      },
      "execution_count": null,
      "outputs": [
        {
          "output_type": "display_data",
          "data": {
            "text/plain": [
              "Randomized smoothing:   0%|          | 0/250 [00:00<?, ?it/s]"
            ],
            "application/vnd.jupyter.widget-view+json": {
              "version_major": 2,
              "version_minor": 0,
              "model_id": "aef84e7af03b431bad7926aa44fbb9bc"
            }
          },
          "metadata": {}
        }
      ]
    },
    {
      "cell_type": "code",
      "source": [
        "print(x_preds.shape)\n",
        "print(y_test.shape)"
      ],
      "metadata": {
        "colab": {
          "base_uri": "https://localhost:8080/"
        },
        "id": "YDvuqWVNyEiI",
        "outputId": "5589ecaa-82e1-4812-eb62-79a76cb799df"
      },
      "execution_count": null,
      "outputs": [
        {
          "output_type": "stream",
          "name": "stdout",
          "text": [
            "(250, 10)\n",
            "(250, 10)\n"
          ]
        }
      ]
    },
    {
      "cell_type": "code",
      "source": [
        "print(y_test[0])"
      ],
      "metadata": {
        "colab": {
          "base_uri": "https://localhost:8080/"
        },
        "id": "oYzRDGxzyOYH",
        "outputId": "fd8728f2-98d9-46ce-a67e-9afc09148c25"
      },
      "execution_count": null,
      "outputs": [
        {
          "output_type": "stream",
          "name": "stdout",
          "text": [
            "[0. 0. 0. 0. 0. 0. 0. 1. 0. 0.]\n"
          ]
        }
      ]
    },
    {
      "cell_type": "code",
      "source": [
        "true = []\n",
        "for i in y_test:\n",
        "  lab = np.where(i == 1)[0][0]\n",
        "  true.append(lab)\n",
        "print(true)"
      ],
      "metadata": {
        "colab": {
          "base_uri": "https://localhost:8080/"
        },
        "id": "rjSC-r08yTmg",
        "outputId": "3c873fdc-9d98-45bf-e746-8b1ea78348a1"
      },
      "execution_count": null,
      "outputs": [
        {
          "output_type": "stream",
          "name": "stdout",
          "text": [
            "[7, 2, 1, 0, 4, 1, 4, 9, 5, 9, 0, 6, 9, 0, 1, 5, 9, 7, 3, 4, 9, 6, 6, 5, 4, 0, 7, 4, 0, 1, 3, 1, 3, 4, 7, 2, 7, 1, 2, 1, 1, 7, 4, 2, 3, 5, 1, 2, 4, 4, 6, 3, 5, 5, 6, 0, 4, 1, 9, 5, 7, 8, 9, 3, 7, 4, 6, 4, 3, 0, 7, 0, 2, 9, 1, 7, 3, 2, 9, 7, 7, 6, 2, 7, 8, 4, 7, 3, 6, 1, 3, 6, 9, 3, 1, 4, 1, 7, 6, 9, 6, 0, 5, 4, 9, 9, 2, 1, 9, 4, 8, 7, 3, 9, 7, 4, 4, 4, 9, 2, 5, 4, 7, 6, 7, 9, 0, 5, 8, 5, 6, 6, 5, 7, 8, 1, 0, 1, 6, 4, 6, 7, 3, 1, 7, 1, 8, 2, 0, 2, 9, 9, 5, 5, 1, 5, 6, 0, 3, 4, 4, 6, 5, 4, 6, 5, 4, 5, 1, 4, 4, 7, 2, 3, 2, 7, 1, 8, 1, 8, 1, 8, 5, 0, 8, 9, 2, 5, 0, 1, 1, 1, 0, 9, 0, 3, 1, 6, 4, 2, 3, 6, 1, 1, 1, 3, 9, 5, 2, 9, 4, 5, 9, 3, 9, 0, 3, 6, 5, 5, 7, 2, 2, 7, 1, 2, 8, 4, 1, 7, 3, 3, 8, 8, 7, 9, 2, 2, 4, 1, 5, 9, 8, 7, 2, 3, 0, 4, 4, 2]\n"
          ]
        }
      ]
    },
    {
      "cell_type": "code",
      "source": [
        "def defense_utility_measure(pred_def, pred_raw, true_label):\n",
        "    # compute the classification accuracy of raw model\n",
        "    correct_prediction_raw = np.equal(np.argmax(pred_raw, axis=1), true_label)\n",
        "    acc_raw = np.mean(correct_prediction_raw.astype(float))\n",
        "\n",
        "    # compute the classification accuracy of defense-enhanced model\n",
        "    correct_prediction_def = np.equal(np.argmax(pred_def, axis=1), true_label)\n",
        "    acc_def = np.mean(correct_prediction_def.astype(float))\n",
        "\n",
        "    # compute the Classification Accuracy Variance(CAV)\n",
        "    cav_result = acc_def - acc_raw\n",
        "\n",
        "    # find the index of correct predicted examples by defence-enhanced model and raw model\n",
        "    idx_def = np.squeeze(np.argwhere(correct_prediction_def == True))\n",
        "    idx_raw = np.squeeze(np.argwhere(correct_prediction_raw == True))\n",
        "    idx = np.intersect1d(idx_def, idx_raw, assume_unique=True)\n",
        "\n",
        "    # compute the Classification Rectify Ratio(CRR) & Classification Sacrifice Ratio(CSR)\n",
        "    num_rectify = len(idx_def) - len(idx)\n",
        "    crr_result = num_rectify / len(pred_def)\n",
        "\n",
        "    num_sacrifice = len(idx_raw) - len(idx)\n",
        "    csr_result = num_sacrifice / len(pred_def)\n",
        "\n",
        "    # filter the correct prediction results\n",
        "    pred_def_filter = pred_def[idx]\n",
        "    pred_raw_filter = pred_raw[idx]\n",
        "\n",
        "    # compute the Classification Confidence Variance(CCV)\n",
        "    confidence_def = np.max(pred_def_filter, axis=1)\n",
        "    confidence_raw = np.max(pred_raw_filter, axis=1)\n",
        "    ccv_result = np.mean(np.absolute(confidence_def - confidence_raw))\n",
        "\n",
        "    # compute the Classification Output Stability(COS)\n",
        "    M = (pred_def_filter + pred_raw_filter) / 2.\n",
        "    js_total = 0\n",
        "    for i in range(len(M)):\n",
        "        js = 0.5 * jslib.entropy(pred_def_filter[i], M[i]) + 0.5 * jslib.entropy(pred_raw_filter[i], M[i])\n",
        "        js_total += js\n",
        "    cos_result = js_total / len(M)\n",
        "\n",
        "    return acc_raw, acc_def, cav_result, crr_result, csr_result, ccv_result, cos_result"
      ],
      "metadata": {
        "id": "CndIdR-ws6km"
      },
      "execution_count": null,
      "outputs": []
    },
    {
      "cell_type": "code",
      "source": [
        "_,_,cav,crr,csr,ccv,cos = defense_utility_measure(x_preds_rs_1, x_preds, true)"
      ],
      "metadata": {
        "id": "2TNvO0KLt0wG"
      },
      "execution_count": null,
      "outputs": []
    },
    {
      "cell_type": "code",
      "source": [
        "print(f'The CAV score for certified robustness enhanced model is {cav:.6f}')\n",
        "print(f'The CCV score for certified robustness enhanced model is {ccv:.6f}')\n",
        "print(f'The COS score for certified robustness enhanced model is {cos:.6f}')"
      ],
      "metadata": {
        "colab": {
          "base_uri": "https://localhost:8080/"
        },
        "id": "1Fz9dZ4xzcSh",
        "outputId": "a283710c-669e-49e5-ddd9-6970919e7a5e"
      },
      "execution_count": null,
      "outputs": [
        {
          "output_type": "stream",
          "name": "stdout",
          "text": [
            "The CAV score for certified robustness enhanced model is 0.004000\n",
            "The CCV score for certified robustness enhanced model is 0.004308\n",
            "The COS score for certified robustness enhanced model is 0.001695\n"
          ]
        }
      ]
    },
    {
      "cell_type": "code",
      "source": [],
      "metadata": {
        "id": "Rw8hfEMW0FC7"
      },
      "execution_count": null,
      "outputs": []
    }
  ]
}