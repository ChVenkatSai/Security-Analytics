{
  "cells": [
    {
      "cell_type": "code",
      "execution_count": null,
      "metadata": {
        "id": "wUmrO559UF0u",
        "colab": {
          "base_uri": "https://localhost:8080/"
        },
        "outputId": "8bb34dff-d837-4662-d1fa-57bc4a2d7e88"
      },
      "outputs": [
        {
          "output_type": "stream",
          "name": "stdout",
          "text": [
            "Looking in indexes: https://pypi.org/simple, https://us-python.pkg.dev/colab-wheels/public/simple/\n",
            "Collecting adversarial-robustness-toolbox\n",
            "  Downloading adversarial_robustness_toolbox-1.12.2-py3-none-any.whl (1.4 MB)\n",
            "\u001b[K     |████████████████████████████████| 1.4 MB 17.6 MB/s \n",
            "\u001b[?25hRequirement already satisfied: numpy>=1.18.0 in /usr/local/lib/python3.8/dist-packages (from adversarial-robustness-toolbox) (1.21.6)\n",
            "Requirement already satisfied: six in /usr/local/lib/python3.8/dist-packages (from adversarial-robustness-toolbox) (1.15.0)\n",
            "Requirement already satisfied: scikit-learn<1.1.0,>=0.22.2 in /usr/local/lib/python3.8/dist-packages (from adversarial-robustness-toolbox) (1.0.2)\n",
            "Requirement already satisfied: tqdm in /usr/local/lib/python3.8/dist-packages (from adversarial-robustness-toolbox) (4.64.1)\n",
            "Requirement already satisfied: scipy>=1.4.1 in /usr/local/lib/python3.8/dist-packages (from adversarial-robustness-toolbox) (1.7.3)\n",
            "Requirement already satisfied: setuptools in /usr/local/lib/python3.8/dist-packages (from adversarial-robustness-toolbox) (57.4.0)\n",
            "Requirement already satisfied: threadpoolctl>=2.0.0 in /usr/local/lib/python3.8/dist-packages (from scikit-learn<1.1.0,>=0.22.2->adversarial-robustness-toolbox) (3.1.0)\n",
            "Requirement already satisfied: joblib>=0.11 in /usr/local/lib/python3.8/dist-packages (from scikit-learn<1.1.0,>=0.22.2->adversarial-robustness-toolbox) (1.2.0)\n",
            "Installing collected packages: adversarial-robustness-toolbox\n",
            "Successfully installed adversarial-robustness-toolbox-1.12.2\n"
          ]
        }
      ],
      "source": [
        "!pip install adversarial-robustness-toolbox"
      ]
    },
    {
      "cell_type": "code",
      "execution_count": null,
      "metadata": {
        "id": "Hl3fjx9pUF0w"
      },
      "outputs": [],
      "source": [
        "# Imports\n",
        "import keras\n",
        "import random\n",
        "import numpy as np\n",
        "import matplotlib.pyplot as plt\n",
        "import tensorflow as tf\n",
        "\n",
        "from keras.datasets import mnist\n",
        "from keras.models import Sequential\n",
        "from keras.layers import Dense, Dropout, Flatten\n",
        "from keras.layers import Conv2D, MaxPooling2D\n",
        "from keras import backend as K\n",
        "\n",
        "from art.attacks.evasion import CarliniL2Method, SaliencyMapMethod, ElasticNet\n",
        "from art.estimators.classification import KerasClassifier\n",
        "from sklearn.metrics import zero_one_loss, accuracy_score\n",
        "\n",
        "\n",
        "# Set the random seeds. Do not change this!\n",
        "seedVal = 41\n",
        "random.seed(seedVal)\n",
        "np.random.seed(seedVal)\n",
        "\n",
        "# Define some constants.\n",
        "NUM_CLASSES = 10\n",
        "BATCH_SIZE = 32"
      ]
    },
    {
      "cell_type": "code",
      "source": [
        "tf.compat.v1.disable_eager_execution()"
      ],
      "metadata": {
        "id": "YXc1xxe_aLur"
      },
      "execution_count": null,
      "outputs": []
    },
    {
      "cell_type": "markdown",
      "metadata": {
        "id": "B0d81pFUUF0x"
      },
      "source": [
        "## Part 1"
      ]
    },
    {
      "cell_type": "markdown",
      "metadata": {
        "id": "v48wWgM2UF0z"
      },
      "source": [
        "### You need to complete the following."
      ]
    },
    {
      "cell_type": "code",
      "execution_count": null,
      "metadata": {
        "id": "Zcz5IEVWUF0z",
        "colab": {
          "base_uri": "https://localhost:8080/"
        },
        "outputId": "80a96333-2d58-49c0-a977-afca59f42546"
      },
      "outputs": [
        {
          "output_type": "stream",
          "name": "stdout",
          "text": [
            "Downloading data from https://storage.googleapis.com/tensorflow/tf-keras-datasets/mnist.npz\n",
            "11490434/11490434 [==============================] - 2s 0us/step\n",
            "(60000, 28, 28)\n",
            "(60000, 1, 28, 28)\n"
          ]
        }
      ],
      "source": [
        "# Load the MNIST dataset\n",
        "(x_train, y_train), (x_test, y_test) = mnist.load_data()\n",
        "\n",
        "# Normalization\n",
        "x_train = keras.utils.normalize(x_train, axis=1)\n",
        "x_test = keras.utils.normalize(x_test, axis=1)\n",
        "\n",
        "# convert class vectors to binary class matrices\n",
        "y_train = keras.utils.to_categorical(y_train, NUM_CLASSES)\n",
        "y_test = keras.utils.to_categorical(y_test, NUM_CLASSES)\n",
        "\n",
        "K.set_image_data_format('channels_first')\n",
        "print(x_train.shape)\n",
        "# Reshape the data.\n",
        "x_train = x_train.reshape(60000,1, 28, 28)\n",
        "print(x_train.shape)\n",
        "x_test = x_test.reshape(10000,1, 28, 28)"
      ]
    },
    {
      "cell_type": "code",
      "execution_count": null,
      "metadata": {
        "id": "cmnjmT0zUF00"
      },
      "outputs": [],
      "source": [
        "# Build a training dataset for the substitute model\n",
        "# Collect ten images from each dataset class (numbers 0-9)\n",
        "selected_examples = []\n",
        "for target_label in range(0, 10):\n",
        "    count = 0\n",
        "    for i in range(y_train.shape[0]):\n",
        "        if y_train[i].tolist().index(1) == target_label:\n",
        "            count += 1\n",
        "            selected_examples.append((x_train[i, :, :], y_train[i]))\n",
        "            if count == 10:\n",
        "                break\n",
        "\n",
        "#print(selected_examples)\n",
        "# Convert selected examples to numpy array\n",
        "final_train_x =  np.array([x[0] for x in selected_examples])\n",
        "final_train_y = np.array([x[1] for x in selected_examples])"
      ]
    },
    {
      "cell_type": "code",
      "execution_count": null,
      "metadata": {
        "id": "MlrxiqoVUF00",
        "colab": {
          "base_uri": "https://localhost:8080/"
        },
        "outputId": "d6218ee8-7f7f-4bcf-98c6-f91170c98867"
      },
      "outputs": [
        {
          "output_type": "stream",
          "name": "stdout",
          "text": [
            "Train on 100 samples\n",
            "Epoch 1/10\n",
            "100/100 [==============================] - 9s 90ms/sample - loss: 2.2791 - accuracy: 0.1700\n",
            "Epoch 2/10\n",
            "100/100 [==============================] - 0s 443us/sample - loss: 1.9513 - accuracy: 0.5200\n",
            "Epoch 3/10\n",
            "100/100 [==============================] - 0s 398us/sample - loss: 1.6517 - accuracy: 0.5600\n",
            "Epoch 4/10\n",
            "100/100 [==============================] - 0s 293us/sample - loss: 1.2081 - accuracy: 0.6300\n",
            "Epoch 5/10\n",
            "100/100 [==============================] - 0s 351us/sample - loss: 1.0970 - accuracy: 0.6500\n",
            "Epoch 6/10\n",
            "100/100 [==============================] - 0s 387us/sample - loss: 0.8100 - accuracy: 0.7900\n",
            "Epoch 7/10\n",
            "100/100 [==============================] - 0s 292us/sample - loss: 0.8555 - accuracy: 0.7000\n",
            "Epoch 8/10\n",
            "100/100 [==============================] - 0s 296us/sample - loss: 0.5161 - accuracy: 0.8200\n",
            "Epoch 9/10\n",
            "100/100 [==============================] - 0s 382us/sample - loss: 0.4707 - accuracy: 0.8300\n",
            "Epoch 10/10\n",
            "100/100 [==============================] - 0s 230us/sample - loss: 0.4438 - accuracy: 0.8700\n"
          ]
        }
      ],
      "source": [
        "# Train a CNN-based substitute model using the newly collected dataset\n",
        "substitute_model = Sequential()\n",
        "\n",
        "# Define the intermediate layers.\n",
        "substitute_model.add(Conv2D(32, kernel_size=(3, 3),\n",
        "                 activation='relu',\n",
        "                 input_shape=(1,28,28)))\n",
        "\n",
        "#64 convolution filters used each of size 3x3\n",
        "substitute_model.add(Conv2D(64, (3, 3), activation='relu'))\n",
        "\n",
        "#choose the best features via pooling\n",
        "substitute_model.add(MaxPooling2D(pool_size=(2, 2)))\n",
        "\n",
        "#flatten\n",
        "substitute_model.add(Flatten())\n",
        "\n",
        "# #fully connected\n",
        "substitute_model.add(Dense(128, activation='relu'))\n",
        "substitute_model.add(Dropout(0.5))\n",
        "\n",
        "substitute_model.add(Dense(NUM_CLASSES, activation='softmax'))\n",
        "\n",
        "# Compile the model\n",
        "substitute_model.compile(optimizer='adam', \n",
        "              loss='sparse_categorical_crossentropy', \n",
        "              metrics=['accuracy'])\n",
        "\n",
        "substitute_model = KerasClassifier(model=substitute_model, clip_values=(0,1))\n",
        "\n",
        "# Fit the model\n",
        "substitute_model.fit(final_train_x, final_train_y, nb_epochs=10, batch_size=BATCH_SIZE)"
      ]
    },
    {
      "cell_type": "markdown",
      "metadata": {
        "id": "mrXxt-TKUF01"
      },
      "source": [
        "    Please ONLY use the following attack methods."
      ]
    },
    {
      "cell_type": "code",
      "execution_count": null,
      "metadata": {
        "id": "C-KqGAfSUF01"
      },
      "outputs": [],
      "source": [
        "# Define methods for generating \"targetted\" adversarial examples\n",
        "def generate_adv_examples_CarliniL2Method(classifier, x, target_y):\n",
        "    attack = CarliniL2Method(classifier, targeted=True)\n",
        "    x_adv = attack.generate(x, target_y)\n",
        "    return x_adv\n",
        "\n",
        "def generate_adv_examples_ElasticNet(classifier, x, target_y):\n",
        "    attack = ElasticNet(classifier, targeted=True)\n",
        "    x_adv = attack.generate(x, target_y)\n",
        "    return x_adv\n",
        "\n",
        "def generate_adv_examples_SaliencyMapMethod(classifier, x, target_y):\n",
        "    attack = SaliencyMapMethod(classifier)\n",
        "    x_adv = attack.generate(x, target_y)\n",
        "    return x_adv"
      ]
    },
    {
      "cell_type": "code",
      "execution_count": null,
      "metadata": {
        "id": "8hFiRuPsUF02"
      },
      "outputs": [],
      "source": [
        "# Build a mapping from the true label to the fake label\n",
        "# For example, in the mapping below, we want the classifier to predict 0 images as 8.\n",
        "label_map = {0:8, 1:9, 2:3, 3:5, 4:6, 5:7, 6:4, 7:2, 8:1, 9:0}\n",
        "for k, v in label_map.items():\n",
        "    assert(k != v)\n",
        "assert(len(set(label_map.keys())) == 10)\n",
        "assert(len(set(label_map.values())) == 10)\n",
        "\n",
        "# Build target_y\n",
        "target_y_labels = []\n",
        "for i in range(final_train_y.shape[0]):\n",
        "    cur_true_label = final_train_y[i].tolist().index(1)\n",
        "    target_label = label_map[cur_true_label]\n",
        "    target_y_labels.append(target_label)\n",
        "target_y_labels = np.asarray(target_y_labels)\n",
        "target_y = keras.utils.to_categorical(target_y_labels, NUM_CLASSES)\n",
        "\n"
      ]
    },
    {
      "cell_type": "code",
      "source": [
        "# Generate 100 adversarial images\n",
        "carlinil_adv_examples = generate_adv_examples_CarliniL2Method(substitute_model,final_train_x,target_y)"
      ],
      "metadata": {
        "id": "FnssJ1HJzUu0",
        "colab": {
          "base_uri": "https://localhost:8080/",
          "height": 104,
          "referenced_widgets": [
            "81648c44604d4932bd99562492249157",
            "705c015935e3481b916f5d707d5318c1",
            "4ee9de3491fb4a6abe02f54a9cf7ef0e",
            "1e607c9269234713a8c14287c6c3f044",
            "ef3faff334dd4de9a4d0f6106791b83b",
            "5d2e95261b2b41e4bdb68296ad9dc9ed",
            "46684fa4d09a4a38881fc769b0eeebed",
            "35740260bfd64b2da6716bdb64244f8d",
            "52a9cab923824130b82a21a142064c4a",
            "225db58898ba4a4990d1a380b9e3de03",
            "4e3693eaa49149cc89bc43dcbb562f67"
          ]
        },
        "outputId": "779bb2d2-a273-4f91-add6-3c00924b173f"
      },
      "execution_count": null,
      "outputs": [
        {
          "output_type": "display_data",
          "data": {
            "text/plain": [
              "C&W L_2:   0%|          | 0/100 [00:00<?, ?it/s]"
            ],
            "application/vnd.jupyter.widget-view+json": {
              "version_major": 2,
              "version_minor": 0,
              "model_id": "81648c44604d4932bd99562492249157"
            }
          },
          "metadata": {}
        },
        {
          "output_type": "stream",
          "name": "stderr",
          "text": [
            "/usr/local/lib/python3.8/dist-packages/keras/engine/training_v1.py:2067: UserWarning: `Model.state_updates` will be removed in a future version. This property should not be used in TensorFlow 2.0, as `updates` are applied automatically.\n",
            "  updates=self.state_updates,\n"
          ]
        }
      ]
    },
    {
      "cell_type": "code",
      "source": [
        "elastic_net_adv_examples = generate_adv_examples_ElasticNet(substitute_model, final_train_x, target_y)\n",
        "saliency_adv_examples = generate_adv_examples_SaliencyMapMethod(substitute_model, final_train_x, target_y)"
      ],
      "metadata": {
        "id": "MeRJ_RKvwofv",
        "colab": {
          "base_uri": "https://localhost:8080/",
          "height": 81,
          "referenced_widgets": [
            "06ba120cae8f485eac1276f3a051c21b",
            "c2a837f70eea44119cdc959945a72f78",
            "921814f2959749e48006721976c7ff20",
            "d0f0012039b644c38bbf49fce27b67cf",
            "c4f2516c9e394f18a6746722d1f87319",
            "97a6b3fb81374bb1948200acbc6a6081",
            "7ebd895ddf7b47e597bc5d5e8039b092",
            "70696a3f6199413596a2d758e3567b84",
            "8ad1289e1812407cac24baec71e2c7fa",
            "c871a2fa0c364859a864e9fa912662b7",
            "856edfd8c2ad437ab7137e359a3b434d",
            "1c0d1a4dd1b043e9b45b27068d81bffb",
            "6b817a723b554828aa70b688e2a01be6",
            "eacb9644bc114b228fd0aa2959d1db1c",
            "0edee405c410412a9af13cbf60eb8a23",
            "dfc76bb6247e436392f1a8a4e3f476eb",
            "5397ed1d60c8440096d0415b09e2f5e0",
            "4668f56e0f71450a9243d2b39ed6a04c",
            "cd8c7df530e2430b97e79cd5e3c15ad8",
            "5591b97a8a1d4896abfce6c94c0dd38a",
            "db115ba4f7854c5d8c6f675ac4713c59",
            "ad2c18816d374a598ae96ca1361d1f09"
          ]
        },
        "outputId": "090a84c5-33e5-4f63-bb8e-9d97be34656d"
      },
      "execution_count": null,
      "outputs": [
        {
          "output_type": "display_data",
          "data": {
            "text/plain": [
              "EAD:   0%|          | 0/100 [00:00<?, ?it/s]"
            ],
            "application/vnd.jupyter.widget-view+json": {
              "version_major": 2,
              "version_minor": 0,
              "model_id": "06ba120cae8f485eac1276f3a051c21b"
            }
          },
          "metadata": {}
        },
        {
          "output_type": "display_data",
          "data": {
            "text/plain": [
              "JSMA:   0%|          | 0/100 [00:00<?, ?it/s]"
            ],
            "application/vnd.jupyter.widget-view+json": {
              "version_major": 2,
              "version_minor": 0,
              "model_id": "1c0d1a4dd1b043e9b45b27068d81bffb"
            }
          },
          "metadata": {}
        }
      ]
    },
    {
      "cell_type": "code",
      "execution_count": null,
      "metadata": {
        "id": "jzWLbJ9ZUF02",
        "colab": {
          "base_uri": "https://localhost:8080/"
        },
        "outputId": "c03d1fee-e4ed-4ae2-dced-99fb1af826c9"
      },
      "outputs": [
        {
          "output_type": "stream",
          "name": "stdout",
          "text": [
            "For CarliniL2Method attack, MR = 0.17\n",
            "For ElasticNet attack, MR = 0.89\n",
            "For SaliencyMapMethod attack, MR = 1.0\n"
          ]
        }
      ],
      "source": [
        "# Calculate Misclassification Ratio (MR) for CarliniL2Method attack\n",
        "predictions = substitute_model.predict(carlinil_adv_examples)\n",
        "#print(predictions)\n",
        "carlinil_mr = accuracy_score(np.argmax(predictions,axis=1), np.argmax(target_y,axis=1))\n",
        "print('For CarliniL2Method attack, MR = {}'.format(carlinil_mr))\n",
        "\n",
        "# Calculate Misclassification Ratio (MR) for ElasticNet attack\n",
        "predictions = substitute_model.predict(elastic_net_adv_examples)\n",
        "elastic_net_mr = accuracy_score(np.argmax(predictions,axis=1), np.argmax(target_y,axis=1))\n",
        "print('For ElasticNet attack, MR = {}'.format(elastic_net_mr))\n",
        "\n",
        "# Calculate Misclassification Ratio (MR) for SaliencyMapMethod attack\n",
        "predictions = substitute_model.predict(saliency_adv_examples)\n",
        "saliency_mr = accuracy_score(np.argmax(predictions,axis=1), np.argmax(target_y,axis=1))\n",
        "print('For SaliencyMapMethod attack, MR = {}'.format(saliency_mr))"
      ]
    },
    {
      "cell_type": "code",
      "execution_count": null,
      "metadata": {
        "id": "aVPn4whuUF03",
        "colab": {
          "base_uri": "https://localhost:8080/",
          "height": 281
        },
        "outputId": "cb4e9a44-6de5-4b06-9e83-8ec73500c9b5"
      },
      "outputs": [
        {
          "output_type": "display_data",
          "data": {
            "text/plain": [
              "<Figure size 432x288 with 1 Axes>"
            ],
            "image/png": "[encoded data removed]"
          },
          "metadata": {
            "needs_background": "light"
          }
        }
      ],
      "source": [
        "# Make a plot\n",
        "X = ['CarliniL2Method','ElasticNet', 'SaliencyMapMethod']\n",
        "plt.bar(X, [carlinil_mr, elastic_net_mr, saliency_mr], color=['r', 'g', 'b'])\n",
        "plt.title('Misclassification Ratio (MR) for each attack')\n",
        "plt.show()\n",
        "plt.close()"
      ]
    },
    {
      "cell_type": "markdown",
      "metadata": {
        "id": "vFBIe5MDUF03"
      },
      "source": [
        "## Part 2"
      ]
    },
    {
      "cell_type": "markdown",
      "metadata": {
        "id": "xSLU3RtWUF03"
      },
      "source": [
        "### You need to complete the following."
      ]
    },
    {
      "cell_type": "code",
      "execution_count": null,
      "metadata": {
        "id": "JPRpPzrpUF03",
        "colab": {
          "base_uri": "https://localhost:8080/"
        },
        "outputId": "ce0cd852-94f4-4c88-9660-775e6e998cad"
      },
      "outputs": [
        {
          "output_type": "stream",
          "name": "stdout",
          "text": [
            "For images of true class = 0\n",
            "0\n",
            "Methods \t L0 \t L2 \t L_inf\n",
            "carlinil \t 258.6 \t 0.09172788955163867 \t 0.01984835701440584\n",
            "elastic_net \t 265.2 \t 1.0423769590445127 \t 0.23129044197333054\n",
            "saliency \t 207.5 \t 4.089531542156119 \t 0.9789051996147767\n",
            "\n",
            "\n",
            "For images of true class = 1\n",
            "0\n",
            "Methods \t L0 \t L2 \t L_inf\n",
            "carlinil \t 446.6 \t 0.672769236956192 \t 0.17081010435483965\n",
            "elastic_net \t 126.8 \t 1.7216030418702766 \t 0.56066835913483\n",
            "saliency \t 102.0 \t 2.708025200856394 \t 1.0\n",
            "\n",
            "\n",
            "For images of true class = 2\n",
            "0\n",
            "Methods \t L0 \t L2 \t L_inf\n",
            "carlinil \t 360.5 \t 0.2745396957727049 \t 0.10875636143934006\n",
            "elastic_net \t 231.6 \t 1.4902208772537944 \t 0.5773920211860758\n",
            "saliency \t 187.7 \t 2.7635956176131433 \t 0.9752858845411044\n",
            "\n",
            "\n",
            "For images of true class = 3\n",
            "0\n",
            "Methods \t L0 \t L2 \t L_inf\n",
            "carlinil \t 228.2 \t 0.10015636704859887 \t 0.028220982691505792\n",
            "elastic_net \t 290.9 \t 3.395038496232599 \t 0.5866132993594151\n",
            "saliency \t 174.2 \t 3.4575026507173954 \t 1.0\n",
            "\n",
            "\n",
            "For images of true class = 4\n",
            "0\n",
            "Methods \t L0 \t L2 \t L_inf\n",
            "carlinil \t 142.4 \t 9.912309923102016e-08 \t 2.6589195489812313e-08\n",
            "elastic_net \t 178.5 \t 1.034279923898446 \t 0.345826055061796\n",
            "saliency \t 153.1 \t 3.5251432770040707 \t 0.9805279780112766\n",
            "\n",
            "\n",
            "For images of true class = 5\n",
            "0\n",
            "Methods \t L0 \t L2 \t L_inf\n",
            "carlinil \t 117.6 \t 9.957177775996605e-08 \t 2.7308131922421097e-08\n",
            "elastic_net \t 259.4 \t 2.5132872705664644 \t 0.5373276499519515\n",
            "saliency \t 128.8 \t 3.8490422803724713 \t 1.0\n",
            "\n",
            "\n",
            "For images of true class = 6\n",
            "0\n",
            "Methods \t L0 \t L2 \t L_inf\n",
            "carlinil \t 149.3 \t 9.168543713233066e-08 \t 2.2982693803630383e-08\n",
            "elastic_net \t 250.8 \t 2.2280369677247593 \t 0.4889286253807047\n",
            "saliency \t 155.7 \t 2.8863188384630414 \t 0.9780410248989192\n",
            "\n",
            "\n",
            "For images of true class = 7\n",
            "0\n",
            "Methods \t L0 \t L2 \t L_inf\n",
            "carlinil \t 189.8 \t 0.12499977266846755 \t 0.031032475950253734\n",
            "elastic_net \t 258.1 \t 3.8374068956519785 \t 0.6598151437471715\n",
            "saliency \t 147.7 \t 4.600834793118553 \t 1.0\n",
            "\n",
            "\n",
            "For images of true class = 8\n",
            "0\n",
            "Methods \t L0 \t L2 \t L_inf\n",
            "carlinil \t 411.8 \t 0.32000263436385995 \t 0.08769983219291001\n",
            "elastic_net \t 200.5 \t 1.0108375819220794 \t 0.2726798413684642\n",
            "saliency \t 163.2 \t 1.7752683917171208 \t 0.7684461828452483\n",
            "\n",
            "\n",
            "For images of true class = 9\n",
            "0\n",
            "Methods \t L0 \t L2 \t L_inf\n",
            "carlinil \t 189.8 \t 0.005591434903040379 \t 0.001185424375616756\n",
            "elastic_net \t 230.1 \t 2.218666995287472 \t 0.4758647790541909\n",
            "saliency \t 135.2 \t 2.941660310930926 \t 0.9200000041756757\n",
            "\n",
            "\n"
          ]
        }
      ],
      "source": [
        "# Imports\n",
        "from numpy import linalg as LA\n",
        "\n",
        "for class_label in range(0, 10):\n",
        "    print('For images of true class = {}'.format(class_label))\n",
        "    norms_average = {'carlinil':{'l0': 0, 'l2':0, 'l_inf':0},\n",
        "                     'elastic_net':{'l0': 0, 'l2':0, 'l_inf':0},\n",
        "                     'saliency':{'l0': 0, 'l2':0, 'l_inf':0}\n",
        "                     }\n",
        "    print(norms_average['carlinil']['l0'])\n",
        "    for i in range(final_train_y.shape[0]):\n",
        "        cur_true_label = final_train_y[i].tolist().index(1)\n",
        "        if cur_true_label == class_label:\n",
        "            for attack_method in ['carlinil', 'elastic_net', 'saliency']:\n",
        "                if attack_method == 'carlinil': cur_adv_examples = carlinil_adv_examples\n",
        "                elif attack_method == 'elastic_net': cur_adv_examples = elastic_net_adv_examples\n",
        "                elif attack_method == 'saliency': cur_adv_examples = saliency_adv_examples\n",
        "                x_diff = (final_train_x[i].squeeze() - cur_adv_examples[i].squeeze()).reshape(-1)\n",
        "                norms_average[attack_method]['l0'] += LA.norm(x_diff,0)\n",
        "                norms_average[attack_method]['l2'] += LA.norm(x_diff,2)\n",
        "                norms_average[attack_method]['l_inf'] += LA.norm(x_diff,np.inf)\n",
        "            \n",
        "    print('Methods \\t L0 \\t L2 \\t L_inf')\n",
        "    for attack_method in ['carlinil', 'elastic_net', 'saliency']:\n",
        "        l0_average = norms_average[attack_method]['l0']/10\n",
        "        l2_average =  norms_average[attack_method]['l2']/10\n",
        "        linf_average = norms_average[attack_method]['l_inf']/10\n",
        "        print('{} \\t {} \\t {} \\t {}'.format(attack_method, l0_average, l2_average, linf_average))\n",
        "    print('\\n')\n"
      ]
    },
    {
      "cell_type": "markdown",
      "metadata": {
        "id": "LZAn1I9NUF04"
      },
      "source": [
        "## Part 3"
      ]
    },
    {
      "cell_type": "markdown",
      "metadata": {
        "id": "fNBI1GvsUF04"
      },
      "source": [
        "### You need to complete the following."
      ]
    },
    {
      "cell_type": "code",
      "execution_count": null,
      "metadata": {
        "id": "X48G5MFQUF04",
        "colab": {
          "base_uri": "https://localhost:8080/"
        },
        "outputId": "b87f11b0-cf61-4571-c56f-4db3873ea69a"
      },
      "outputs": [
        {
          "output_type": "stream",
          "name": "stdout",
          "text": [
            "Mounted at /content/drive\n"
          ]
        }
      ],
      "source": [
        "# Imports\n",
        "from google.colab import drive\n",
        "drive.mount('/content/drive')\n",
        "\n",
        "import sys\n",
        "sys.path.insert(0,'drive/My Drive/HW4P')\n",
        "\n",
        "import network.network as Network\n",
        "import network.mnist_loader as mnist_loader\n",
        "import pickle\n",
        "# Reload the trained model from HW#3 Problem 4\n",
        "import network.network as Network\n",
        "import network.mnist_loader as mnist_loader\n",
        "import pickle\n",
        "\n",
        "# Load the pre-trained model.\n",
        "with open('/content/drive/MyDrive/HW4P/network/trained_network.pkl', 'rb') as f:\n",
        "    u = pickle._Unpickler(f)\n",
        "    u.encoding = 'latin1'\n",
        "    target_net = u.load()"
      ]
    },
    {
      "cell_type": "code",
      "execution_count": null,
      "metadata": {
        "id": "zCzB4evbUF04"
      },
      "outputs": [],
      "source": [
        "def predict_using_target_net(x, verbose=False):\n",
        "    x = x.squeeze().reshape(-1, 1)\n",
        "    outputs = target_net.feedforward(x)\n",
        "    predictions = np.argmax(outputs)\n",
        "    if verbose:\n",
        "        print('Network output: \\n' + str(np.round(outputs, 2)) + '\\n')\n",
        "        print('Network prediction: ' + str(predictions) + '\\n')\n",
        "        print('Actual image: ')\n",
        "    \n",
        "        # Draw the image\n",
        "        plt.imshow(x.reshape((28,28)), cmap='Greys')\n",
        "    return predictions"
      ]
    },
    {
      "cell_type": "code",
      "source": [
        "print(carlinil_adv_examples.shape)"
      ],
      "metadata": {
        "id": "vMtJCfKXeDEV",
        "colab": {
          "base_uri": "https://localhost:8080/"
        },
        "outputId": "9976f1fd-0949-427b-be77-16fa637a5f6a"
      },
      "execution_count": null,
      "outputs": [
        {
          "output_type": "stream",
          "name": "stdout",
          "text": [
            "(100, 1, 28, 28)\n"
          ]
        }
      ]
    },
    {
      "cell_type": "code",
      "execution_count": null,
      "metadata": {
        "id": "ETl2SHV3UF04",
        "colab": {
          "base_uri": "https://localhost:8080/"
        },
        "outputId": "060f9ba2-4ca5-48e1-93d7-508feb0e52c6"
      },
      "outputs": [
        {
          "output_type": "stream",
          "name": "stdout",
          "text": [
            "For carlinil, Misclassification Ratio = 0.03\n",
            "For elastic_net, Misclassification Ratio = 0.18\n",
            "For saliency, Misclassification Ratio = 0.11\n"
          ]
        }
      ],
      "source": [
        "# Evaluate whether adversarial examples generated with the substitute model will transfer to the target model\n",
        "for attack_method in ['carlinil', 'elastic_net', 'saliency']:\n",
        "    model_preds=[]\n",
        "    if attack_method == 'carlinil': \n",
        "      for img in carlinil_adv_examples:\n",
        "        model_preds.append(predict_using_target_net(img))\n",
        "    elif attack_method == 'elastic_net': \n",
        "      for img in elastic_net_adv_examples:\n",
        "        model_preds.append(predict_using_target_net(img))\n",
        "    elif attack_method == 'saliency':\n",
        "      for img in saliency_adv_examples:\n",
        "        model_preds.append(predict_using_target_net(img))\n",
        "\n",
        "    #predictions = predict_using_target_net(cur_adv_examples)\n",
        "    predictions = model_preds\n",
        "    predictions = np.asarray(predictions)\n",
        "    mr = accuracy_score(predictions, np.argmax(target_y,axis=1))\n",
        "    print('For {}, Misclassification Ratio = {}'.format(attack_method, mr))"
      ]
    },
    {
      "cell_type": "markdown",
      "source": [
        "Therefore we can see that the adversarial samples are transferable. "
      ],
      "metadata": {
        "id": "-1s8RGr8kN0V"
      }
    },
    {
      "cell_type": "markdown",
      "metadata": {
        "id": "lh41eDmGUF05"
      },
      "source": [
        "## Part 4"
      ]
    },
    {
      "cell_type": "markdown",
      "metadata": {
        "id": "8IHHF29LUF05"
      },
      "source": [
        "### You need to complete the following."
      ]
    },
    {
      "cell_type": "code",
      "execution_count": null,
      "metadata": {
        "id": "tCOghYL6UF05"
      },
      "outputs": [],
      "source": [
        "# Imports\n",
        "from sklearn.model_selection import GridSearchCV\n",
        "from sklearn.neural_network import MLPClassifier\n",
        "from sklearn.linear_model import LogisticRegression\n",
        "from sklearn.neighbors import KNeighborsClassifier\n",
        "from sklearn.naive_bayes import GaussianNB\n",
        "from sklearn.ensemble import VotingClassifier\n",
        "from sklearn.svm import SVC"
      ]
    },
    {
      "cell_type": "code",
      "execution_count": null,
      "metadata": {
        "id": "ynXPca2-UF06"
      },
      "outputs": [],
      "source": [
        "# Re-load the MNIST dataset\n",
        "(x_train, y_train), (x_test, y_test) = mnist.load_data()\n",
        "\n",
        "# Normalization\n",
        "x_train = keras.utils.normalize(x_train, axis=1)\n",
        "x_test = keras.utils.normalize(x_test, axis=1)\n",
        "\n",
        "nb_trains = x_train.shape[0]\n",
        "nb_tests = x_test.shape[0]"
      ]
    },
    {
      "cell_type": "code",
      "source": [
        "x_train = x_train.reshape((x_train.shape[0],28*28))\n",
        "x_test = x_test.reshape((x_test.shape[0],28*28))"
      ],
      "metadata": {
        "id": "3_h5ytmsmO6y"
      },
      "execution_count": null,
      "outputs": []
    },
    {
      "cell_type": "code",
      "execution_count": null,
      "metadata": {
        "id": "lb1W8kz-UF06",
        "colab": {
          "base_uri": "https://localhost:8080/"
        },
        "outputId": "d38f7133-a1ad-4368-eac1-b3e5adeb6f8c"
      },
      "outputs": [
        {
          "output_type": "stream",
          "name": "stdout",
          "text": [
            "{'hidden_layer_sizes': (100, 100)}\n"
          ]
        }
      ],
      "source": [
        "# ANN model\n",
        "ann_parameters = {\n",
        "'hidden_layer_sizes': [(100), (100,100)]\n",
        "}\n",
        "\n",
        "ann_clf = GridSearchCV(MLPClassifier(),ann_parameters,scoring='accuracy')\n",
        "ann_clf.fit(x_train,y_train)\n",
        "print(ann_clf.best_params_)"
      ]
    },
    {
      "cell_type": "code",
      "execution_count": null,
      "metadata": {
        "id": "HvhYA2Q4UF06",
        "colab": {
          "base_uri": "https://localhost:8080/"
        },
        "outputId": "eee48155-7275-44bb-c96c-3401545670f8"
      },
      "outputs": [
        {
          "output_type": "stream",
          "name": "stdout",
          "text": [
            "{'C': 10, 'kernel': 'rbf'}\n"
          ]
        }
      ],
      "source": [
        "# SVM model\n",
        "svm_parameters = {\n",
        "    'kernel': ['rbf'],\n",
        "    'C': [1, 10]\n",
        "}\n",
        "\n",
        "svm_clf = GridSearchCV(SVC(),svm_parameters)\n",
        "svm_clf.fit(x_train,y_train)\n",
        "print(svm_clf.best_params_)"
      ]
    },
    {
      "cell_type": "code",
      "execution_count": null,
      "metadata": {
        "id": "Ccb_DL05UF06",
        "colab": {
          "base_uri": "https://localhost:8080/"
        },
        "outputId": "69e6d47e-624c-4833-b5d0-70ef4578113e"
      },
      "outputs": [
        {
          "output_type": "stream",
          "name": "stdout",
          "text": [
            "{'C': 1, 'multi_class': 'auto', 'penalty': 'l1'}\n"
          ]
        }
      ],
      "source": [
        "# Logistic Regression model\n",
        "lr_parameters = {\n",
        "    'multi_class': ['auto'],\n",
        "    'penalty' : ['l1', 'l2'],\n",
        "    'C': [1, 10],\n",
        "}\n",
        "\n",
        "lr_clf = GridSearchCV(LogisticRegression(solver='liblinear'),lr_parameters)\n",
        "lr_clf.fit(x_train,y_train)\n",
        "print(lr_clf.best_params_)"
      ]
    },
    {
      "cell_type": "code",
      "execution_count": null,
      "metadata": {
        "id": "NF5uOCeIUF07",
        "colab": {
          "base_uri": "https://localhost:8080/"
        },
        "outputId": "774915fe-c855-4d8a-dc36-8296c9b15531"
      },
      "outputs": [
        {
          "output_type": "stream",
          "name": "stdout",
          "text": [
            "{'n_neighbors': 5, 'weights': 'distance'}\n"
          ]
        }
      ],
      "source": [
        "# kNN\n",
        "knn_parameters = {\n",
        "    'n_neighbors': [5],\n",
        "    'weights': ['uniform', 'distance']\n",
        "}\n",
        "knn_clf = GridSearchCV(KNeighborsClassifier(),knn_parameters)\n",
        "knn_clf.fit(x_train,y_train)\n",
        "print(knn_clf.best_params_)"
      ]
    },
    {
      "cell_type": "code",
      "execution_count": null,
      "metadata": {
        "id": "ZBB4EwEjUF07",
        "colab": {
          "base_uri": "https://localhost:8080/"
        },
        "outputId": "855f37c4-0261-4267-ddcb-75a555cc7a61"
      },
      "outputs": [
        {
          "output_type": "stream",
          "name": "stdout",
          "text": [
            "{'var_smoothing': 0.1}\n"
          ]
        }
      ],
      "source": [
        "# Naive Bayes\n",
        "naive_bayes_parameters = {\n",
        "    'var_smoothing': [1e-3, 1e-2, 1e-1]\n",
        "}\n",
        "naive_bayes_clf = GridSearchCV(estimator=GaussianNB(), param_grid=naive_bayes_parameters)\n",
        "naive_bayes_clf.fit(x_train,y_train)\n",
        "print(naive_bayes_clf.best_params_)"
      ]
    },
    {
      "cell_type": "code",
      "execution_count": null,
      "metadata": {
        "id": "Fr_62koSUF07"
      },
      "outputs": [],
      "source": [
        "# Voting classifiers\n",
        "voting_clf = VotingClassifier(estimators=[\n",
        "                                ('naive_bayes', GaussianNB()),\n",
        "                                ('ann', MLPClassifier()),\n",
        "                                ('lr', LogisticRegression(solver='liblinear')),\n",
        "                               ], voting='soft')\n",
        "\n",
        "params = {\n",
        "          'naive_bayes__var_smoothing': [1e-3, 1e-2, 1e-1],\n",
        "          'lr__C': [1, 10],\n",
        "          'ann__hidden_layer_sizes': [(100), (100,100)]}\n",
        "\n",
        "voting_clf = GridSearchCV(voting_clf,params)\n",
        "voting_clf.fit(x_train,y_train)\n"
      ]
    },
    {
      "cell_type": "code",
      "source": [
        "print(voting_clf.best_params_)"
      ],
      "metadata": {
        "colab": {
          "base_uri": "https://localhost:8080/"
        },
        "id": "MoIKtS_Btzpv",
        "outputId": "abc6e916-e954-4426-85c2-fa45e94b4421"
      },
      "execution_count": null,
      "outputs": [
        {
          "output_type": "stream",
          "name": "stdout",
          "text": [
            "{'ann__hidden_layer_sizes': (100, 100), 'lr__C': 10, 'naive_bayes__var_smoothing': 0.001}\n"
          ]
        }
      ]
    },
    {
      "cell_type": "code",
      "source": [
        "print(ann_clf.best_score_)\n",
        "print(svm_clf.best_score_)\n",
        "print(lr_clf.best_score_)\n",
        "print(knn_clf.best_score_)\n",
        "print(naive_bayes_clf.best_score_)\n",
        "print(voting_clf.best_score_)"
      ],
      "metadata": {
        "colab": {
          "base_uri": "https://localhost:8080/"
        },
        "id": "FDl3WLpOuszr",
        "outputId": "b9da52e7-5a91-4620-8b7a-63e8efbb543b"
      },
      "execution_count": null,
      "outputs": [
        {
          "output_type": "stream",
          "name": "stdout",
          "text": [
            "0.9715333333333334\n",
            "0.9795666666666667\n",
            "0.9148\n",
            "0.9588333333333333\n",
            "0.7967000000000001\n",
            "0.9391\n"
          ]
        }
      ]
    },
    {
      "cell_type": "code",
      "execution_count": null,
      "metadata": {
        "id": "n8fJkN-sUF07",
        "colab": {
          "base_uri": "https://localhost:8080/"
        },
        "outputId": "65adfc88-d041-4d0a-8f06-8c6f6d3a567f"
      },
      "outputs": [
        {
          "output_type": "stream",
          "name": "stdout",
          "text": [
            "Methods \t Test Acc \t Carlinil MR \t ElasticNet MR \t Saliency MR\n",
            "ANN \t 0.9753 \t 0.0 \t 0.15 \t 0.12\n",
            "SVM \t 0.9817 \t 0.0 \t 0.15 \t 0.09\n",
            "Logistic Regression \t 0.9202 \t 0.02 \t 0.21 \t 0.12\n",
            "kNN \t 0.9622 \t 0.0 \t 0.07 \t 0.05\n",
            "Naive Bayes \t 0.8073 \t 0.1 \t 0.31 \t 0.29\n",
            "Voting classifiers \t 0.9371 \t 0.02 \t 0.16 \t 0.14\n"
          ]
        }
      ],
      "source": [
        "classifier_names = ['ANN', 'SVM', 'Logistic Regression', 'kNN', 'Naive Bayes', 'Voting classifiers']\n",
        "classifiers = [ann_clf, svm_clf, lr_clf, knn_clf, naive_bayes_clf, voting_clf]\n",
        "print('Methods \\t Test Acc \\t Carlinil MR \\t ElasticNet MR \\t Saliency MR')\n",
        "for i in range(len(classifiers)):\n",
        "    preds=classifiers[i].predict(x_test)\n",
        "    preds_carlini=classifiers[i].predict(carlinil_adv_examples.reshape(100,28*28))\n",
        "    preds_elastic_net=classifiers[i].predict(elastic_net_adv_examples.reshape(100,28*28))\n",
        "    preds_saliency=classifiers[i].predict(saliency_adv_examples.reshape(100,28*28))\n",
        "\n",
        "    test_acc = accuracy_score(preds, y_test)\n",
        "    carlinil_acc = accuracy_score(preds_carlini, np.argmax(target_y,axis=1))\n",
        "    elasticnet_acc = accuracy_score(preds_elastic_net, np.argmax(target_y,axis=1))\n",
        "    saliency_acc = accuracy_score(preds_saliency, np.argmax(target_y,axis=1))\n",
        "    print('{} \\t {} \\t {} \\t {} \\t {}'.format(classifier_names[i], str(test_acc), str(carlinil_acc), str(elasticnet_acc), str(saliency_acc)))"
      ]
    },
    {
      "cell_type": "markdown",
      "source": [
        "We observe that the ElasticNet method has the highest transeferability followed by Saliency and then Carlinil in most cases. Now out of all the models, Naive Bayes Classifier has the highest transferability followed by Logistic Regression. SVM and ANN have comparable transferability and kNN has the least trasferability. The voting classifier being the combination of all models, it's transferability also seems to a combination of the other ones.  "
      ],
      "metadata": {
        "id": "YCyUGq-gjFBm"
      }
    }
  ],
  "metadata": {
    "kernelspec": {
      "display_name": "Python 3 (ipykernel)",
      "language": "python",
      "name": "python3"
    },
    "language_info": {
      "codemirror_mode": {
        "name": "ipython",
        "version": 3
      },
      "file_extension": ".py",
      "mimetype": "text/x-python",
      "name": "python",
      "nbconvert_exporter": "python",
      "pygments_lexer": "ipython3",
      "version": "3.10.6"
    },
    "colab": {
      "provenance": []
    },
    "accelerator": "GPU",
    "gpuClass": "standard",
    "widgets": {
      "application/vnd.jupyter.widget-state+json": {
        "81648c44604d4932bd99562492249157": {
          "model_module": "@jupyter-widgets/controls",
          "model_name": "HBoxModel",
          "model_module_version": "1.5.0",
          "state": {
            "_dom_classes": [],
            "_model_module": "@jupyter-widgets/controls",
            "_model_module_version": "1.5.0",
            "_model_name": "HBoxModel",
            "_view_count": null,
            "_view_module": "@jupyter-widgets/controls",
            "_view_module_version": "1.5.0",
            "_view_name": "HBoxView",
            "box_style": "",
            "children": [
              "IPY_MODEL_705c015935e3481b916f5d707d5318c1",
              "IPY_MODEL_4ee9de3491fb4a6abe02f54a9cf7ef0e",
              "IPY_MODEL_1e607c9269234713a8c14287c6c3f044"
            ],
            "layout": "IPY_MODEL_ef3faff334dd4de9a4d0f6106791b83b"
          }
        },
        "705c015935e3481b916f5d707d5318c1": {
          "model_module": "@jupyter-widgets/controls",
          "model_name": "HTMLModel",
          "model_module_version": "1.5.0",
          "state": {
            "_dom_classes": [],
            "_model_module": "@jupyter-widgets/controls",
            "_model_module_version": "1.5.0",
            "_model_name": "HTMLModel",
            "_view_count": null,
            "_view_module": "@jupyter-widgets/controls",
            "_view_module_version": "1.5.0",
            "_view_name": "HTMLView",
            "description": "",
            "description_tooltip": null,
            "layout": "IPY_MODEL_5d2e95261b2b41e4bdb68296ad9dc9ed",
            "placeholder": "​",
            "style": "IPY_MODEL_46684fa4d09a4a38881fc769b0eeebed",
            "value": "C&amp;W L_2: 100%"
          }
        },
        "4ee9de3491fb4a6abe02f54a9cf7ef0e": {
          "model_module": "@jupyter-widgets/controls",
          "model_name": "FloatProgressModel",
          "model_module_version": "1.5.0",
          "state": {
            "_dom_classes": [],
            "_model_module": "@jupyter-widgets/controls",
            "_model_module_version": "1.5.0",
            "_model_name": "FloatProgressModel",
            "_view_count": null,
            "_view_module": "@jupyter-widgets/controls",
            "_view_module_version": "1.5.0",
            "_view_name": "ProgressView",
            "bar_style": "success",
            "description": "",
            "description_tooltip": null,
            "layout": "IPY_MODEL_35740260bfd64b2da6716bdb64244f8d",
            "max": 100,
            "min": 0,
            "orientation": "horizontal",
            "style": "IPY_MODEL_52a9cab923824130b82a21a142064c4a",
            "value": 100
          }
        },
        "1e607c9269234713a8c14287c6c3f044": {
          "model_module": "@jupyter-widgets/controls",
          "model_name": "HTMLModel",
          "model_module_version": "1.5.0",
          "state": {
            "_dom_classes": [],
            "_model_module": "@jupyter-widgets/controls",
            "_model_module_version": "1.5.0",
            "_model_name": "HTMLModel",
            "_view_count": null,
            "_view_module": "@jupyter-widgets/controls",
            "_view_module_version": "1.5.0",
            "_view_name": "HTMLView",
            "description": "",
            "description_tooltip": null,
            "layout": "IPY_MODEL_225db58898ba4a4990d1a380b9e3de03",
            "placeholder": "​",
            "style": "IPY_MODEL_4e3693eaa49149cc89bc43dcbb562f67",
            "value": " 100/100 [02:06&lt;00:00,  1.20s/it]"
          }
        },
        "ef3faff334dd4de9a4d0f6106791b83b": {
          "model_module": "@jupyter-widgets/base",
          "model_name": "LayoutModel",
          "model_module_version": "1.2.0",
          "state": {
            "_model_module": "@jupyter-widgets/base",
            "_model_module_version": "1.2.0",
            "_model_name": "LayoutModel",
            "_view_count": null,
            "_view_module": "@jupyter-widgets/base",
            "_view_module_version": "1.2.0",
            "_view_name": "LayoutView",
            "align_content": null,
            "align_items": null,
            "align_self": null,
            "border": null,
            "bottom": null,
            "display": null,
            "flex": null,
            "flex_flow": null,
            "grid_area": null,
            "grid_auto_columns": null,
            "grid_auto_flow": null,
            "grid_auto_rows": null,
            "grid_column": null,
            "grid_gap": null,
            "grid_row": null,
            "grid_template_areas": null,
            "grid_template_columns": null,
            "grid_template_rows": null,
            "height": null,
            "justify_content": null,
            "justify_items": null,
            "left": null,
            "margin": null,
            "max_height": null,
            "max_width": null,
            "min_height": null,
            "min_width": null,
            "object_fit": null,
            "object_position": null,
            "order": null,
            "overflow": null,
            "overflow_x": null,
            "overflow_y": null,
            "padding": null,
            "right": null,
            "top": null,
            "visibility": null,
            "width": null
          }
        },
        "5d2e95261b2b41e4bdb68296ad9dc9ed": {
          "model_module": "@jupyter-widgets/base",
          "model_name": "LayoutModel",
          "model_module_version": "1.2.0",
          "state": {
            "_model_module": "@jupyter-widgets/base",
            "_model_module_version": "1.2.0",
            "_model_name": "LayoutModel",
            "_view_count": null,
            "_view_module": "@jupyter-widgets/base",
            "_view_module_version": "1.2.0",
            "_view_name": "LayoutView",
            "align_content": null,
            "align_items": null,
            "align_self": null,
            "border": null,
            "bottom": null,
            "display": null,
            "flex": null,
            "flex_flow": null,
            "grid_area": null,
            "grid_auto_columns": null,
            "grid_auto_flow": null,
            "grid_auto_rows": null,
            "grid_column": null,
            "grid_gap": null,
            "grid_row": null,
            "grid_template_areas": null,
            "grid_template_columns": null,
            "grid_template_rows": null,
            "height": null,
            "justify_content": null,
            "justify_items": null,
            "left": null,
            "margin": null,
            "max_height": null,
            "max_width": null,
            "min_height": null,
            "min_width": null,
            "object_fit": null,
            "object_position": null,
            "order": null,
            "overflow": null,
            "overflow_x": null,
            "overflow_y": null,
            "padding": null,
            "right": null,
            "top": null,
            "visibility": null,
            "width": null
          }
        },
        "46684fa4d09a4a38881fc769b0eeebed": {
          "model_module": "@jupyter-widgets/controls",
          "model_name": "DescriptionStyleModel",
          "model_module_version": "1.5.0",
          "state": {
            "_model_module": "@jupyter-widgets/controls",
            "_model_module_version": "1.5.0",
            "_model_name": "DescriptionStyleModel",
            "_view_count": null,
            "_view_module": "@jupyter-widgets/base",
            "_view_module_version": "1.2.0",
            "_view_name": "StyleView",
            "description_width": ""
          }
        },
        "35740260bfd64b2da6716bdb64244f8d": {
          "model_module": "@jupyter-widgets/base",
          "model_name": "LayoutModel",
          "model_module_version": "1.2.0",
          "state": {
            "_model_module": "@jupyter-widgets/base",
            "_model_module_version": "1.2.0",
            "_model_name": "LayoutModel",
            "_view_count": null,
            "_view_module": "@jupyter-widgets/base",
            "_view_module_version": "1.2.0",
            "_view_name": "LayoutView",
            "align_content": null,
            "align_items": null,
            "align_self": null,
            "border": null,
            "bottom": null,
            "display": null,
            "flex": null,
            "flex_flow": null,
            "grid_area": null,
            "grid_auto_columns": null,
            "grid_auto_flow": null,
            "grid_auto_rows": null,
            "grid_column": null,
            "grid_gap": null,
            "grid_row": null,
            "grid_template_areas": null,
            "grid_template_columns": null,
            "grid_template_rows": null,
            "height": null,
            "justify_content": null,
            "justify_items": null,
            "left": null,
            "margin": null,
            "max_height": null,
            "max_width": null,
            "min_height": null,
            "min_width": null,
            "object_fit": null,
            "object_position": null,
            "order": null,
            "overflow": null,
            "overflow_x": null,
            "overflow_y": null,
            "padding": null,
            "right": null,
            "top": null,
            "visibility": null,
            "width": null
          }
        },
        "52a9cab923824130b82a21a142064c4a": {
          "model_module": "@jupyter-widgets/controls",
          "model_name": "ProgressStyleModel",
          "model_module_version": "1.5.0",
          "state": {
            "_model_module": "@jupyter-widgets/controls",
            "_model_module_version": "1.5.0",
            "_model_name": "ProgressStyleModel",
            "_view_count": null,
            "_view_module": "@jupyter-widgets/base",
            "_view_module_version": "1.2.0",
            "_view_name": "StyleView",
            "bar_color": null,
            "description_width": ""
          }
        },
        "225db58898ba4a4990d1a380b9e3de03": {
          "model_module": "@jupyter-widgets/base",
          "model_name": "LayoutModel",
          "model_module_version": "1.2.0",
          "state": {
            "_model_module": "@jupyter-widgets/base",
            "_model_module_version": "1.2.0",
            "_model_name": "LayoutModel",
            "_view_count": null,
            "_view_module": "@jupyter-widgets/base",
            "_view_module_version": "1.2.0",
            "_view_name": "LayoutView",
            "align_content": null,
            "align_items": null,
            "align_self": null,
            "border": null,
            "bottom": null,
            "display": null,
            "flex": null,
            "flex_flow": null,
            "grid_area": null,
            "grid_auto_columns": null,
            "grid_auto_flow": null,
            "grid_auto_rows": null,
            "grid_column": null,
            "grid_gap": null,
            "grid_row": null,
            "grid_template_areas": null,
            "grid_template_columns": null,
            "grid_template_rows": null,
            "height": null,
            "justify_content": null,
            "justify_items": null,
            "left": null,
            "margin": null,
            "max_height": null,
            "max_width": null,
            "min_height": null,
            "min_width": null,
            "object_fit": null,
            "object_position": null,
            "order": null,
            "overflow": null,
            "overflow_x": null,
            "overflow_y": null,
            "padding": null,
            "right": null,
            "top": null,
            "visibility": null,
            "width": null
          }
        },
        "4e3693eaa49149cc89bc43dcbb562f67": {
          "model_module": "@jupyter-widgets/controls",
          "model_name": "DescriptionStyleModel",
          "model_module_version": "1.5.0",
          "state": {
            "_model_module": "@jupyter-widgets/controls",
            "_model_module_version": "1.5.0",
            "_model_name": "DescriptionStyleModel",
            "_view_count": null,
            "_view_module": "@jupyter-widgets/base",
            "_view_module_version": "1.2.0",
            "_view_name": "StyleView",
            "description_width": ""
          }
        },
        "06ba120cae8f485eac1276f3a051c21b": {
          "model_module": "@jupyter-widgets/controls",
          "model_name": "HBoxModel",
          "model_module_version": "1.5.0",
          "state": {
            "_dom_classes": [],
            "_model_module": "@jupyter-widgets/controls",
            "_model_module_version": "1.5.0",
            "_model_name": "HBoxModel",
            "_view_count": null,
            "_view_module": "@jupyter-widgets/controls",
            "_view_module_version": "1.5.0",
            "_view_name": "HBoxView",
            "box_style": "",
            "children": [
              "IPY_MODEL_c2a837f70eea44119cdc959945a72f78",
              "IPY_MODEL_921814f2959749e48006721976c7ff20",
              "IPY_MODEL_d0f0012039b644c38bbf49fce27b67cf"
            ],
            "layout": "IPY_MODEL_c4f2516c9e394f18a6746722d1f87319"
          }
        },
        "c2a837f70eea44119cdc959945a72f78": {
          "model_module": "@jupyter-widgets/controls",
          "model_name": "HTMLModel",
          "model_module_version": "1.5.0",
          "state": {
            "_dom_classes": [],
            "_model_module": "@jupyter-widgets/controls",
            "_model_module_version": "1.5.0",
            "_model_name": "HTMLModel",
            "_view_count": null,
            "_view_module": "@jupyter-widgets/controls",
            "_view_module_version": "1.5.0",
            "_view_name": "HTMLView",
            "description": "",
            "description_tooltip": null,
            "layout": "IPY_MODEL_97a6b3fb81374bb1948200acbc6a6081",
            "placeholder": "​",
            "style": "IPY_MODEL_7ebd895ddf7b47e597bc5d5e8039b092",
            "value": "EAD: 100%"
          }
        },
        "921814f2959749e48006721976c7ff20": {
          "model_module": "@jupyter-widgets/controls",
          "model_name": "FloatProgressModel",
          "model_module_version": "1.5.0",
          "state": {
            "_dom_classes": [],
            "_model_module": "@jupyter-widgets/controls",
            "_model_module_version": "1.5.0",
            "_model_name": "FloatProgressModel",
            "_view_count": null,
            "_view_module": "@jupyter-widgets/controls",
            "_view_module_version": "1.5.0",
            "_view_name": "ProgressView",
            "bar_style": "success",
            "description": "",
            "description_tooltip": null,
            "layout": "IPY_MODEL_70696a3f6199413596a2d758e3567b84",
            "max": 100,
            "min": 0,
            "orientation": "horizontal",
            "style": "IPY_MODEL_8ad1289e1812407cac24baec71e2c7fa",
            "value": 100
          }
        },
        "d0f0012039b644c38bbf49fce27b67cf": {
          "model_module": "@jupyter-widgets/controls",
          "model_name": "HTMLModel",
          "model_module_version": "1.5.0",
          "state": {
            "_dom_classes": [],
            "_model_module": "@jupyter-widgets/controls",
            "_model_module_version": "1.5.0",
            "_model_name": "HTMLModel",
            "_view_count": null,
            "_view_module": "@jupyter-widgets/controls",
            "_view_module_version": "1.5.0",
            "_view_name": "HTMLView",
            "description": "",
            "description_tooltip": null,
            "layout": "IPY_MODEL_c871a2fa0c364859a864e9fa912662b7",
            "placeholder": "​",
            "style": "IPY_MODEL_856edfd8c2ad437ab7137e359a3b434d",
            "value": " 100/100 [10:50&lt;00:00,  6.30s/it]"
          }
        },
        "c4f2516c9e394f18a6746722d1f87319": {
          "model_module": "@jupyter-widgets/base",
          "model_name": "LayoutModel",
          "model_module_version": "1.2.0",
          "state": {
            "_model_module": "@jupyter-widgets/base",
            "_model_module_version": "1.2.0",
            "_model_name": "LayoutModel",
            "_view_count": null,
            "_view_module": "@jupyter-widgets/base",
            "_view_module_version": "1.2.0",
            "_view_name": "LayoutView",
            "align_content": null,
            "align_items": null,
            "align_self": null,
            "border": null,
            "bottom": null,
            "display": null,
            "flex": null,
            "flex_flow": null,
            "grid_area": null,
            "grid_auto_columns": null,
            "grid_auto_flow": null,
            "grid_auto_rows": null,
            "grid_column": null,
            "grid_gap": null,
            "grid_row": null,
            "grid_template_areas": null,
            "grid_template_columns": null,
            "grid_template_rows": null,
            "height": null,
            "justify_content": null,
            "justify_items": null,
            "left": null,
            "margin": null,
            "max_height": null,
            "max_width": null,
            "min_height": null,
            "min_width": null,
            "object_fit": null,
            "object_position": null,
            "order": null,
            "overflow": null,
            "overflow_x": null,
            "overflow_y": null,
            "padding": null,
            "right": null,
            "top": null,
            "visibility": null,
            "width": null
          }
        },
        "97a6b3fb81374bb1948200acbc6a6081": {
          "model_module": "@jupyter-widgets/base",
          "model_name": "LayoutModel",
          "model_module_version": "1.2.0",
          "state": {
            "_model_module": "@jupyter-widgets/base",
            "_model_module_version": "1.2.0",
            "_model_name": "LayoutModel",
            "_view_count": null,
            "_view_module": "@jupyter-widgets/base",
            "_view_module_version": "1.2.0",
            "_view_name": "LayoutView",
            "align_content": null,
            "align_items": null,
            "align_self": null,
            "border": null,
            "bottom": null,
            "display": null,
            "flex": null,
            "flex_flow": null,
            "grid_area": null,
            "grid_auto_columns": null,
            "grid_auto_flow": null,
            "grid_auto_rows": null,
            "grid_column": null,
            "grid_gap": null,
            "grid_row": null,
            "grid_template_areas": null,
            "grid_template_columns": null,
            "grid_template_rows": null,
            "height": null,
            "justify_content": null,
            "justify_items": null,
            "left": null,
            "margin": null,
            "max_height": null,
            "max_width": null,
            "min_height": null,
            "min_width": null,
            "object_fit": null,
            "object_position": null,
            "order": null,
            "overflow": null,
            "overflow_x": null,
            "overflow_y": null,
            "padding": null,
            "right": null,
            "top": null,
            "visibility": null,
            "width": null
          }
        },
        "7ebd895ddf7b47e597bc5d5e8039b092": {
          "model_module": "@jupyter-widgets/controls",
          "model_name": "DescriptionStyleModel",
          "model_module_version": "1.5.0",
          "state": {
            "_model_module": "@jupyter-widgets/controls",
            "_model_module_version": "1.5.0",
            "_model_name": "DescriptionStyleModel",
            "_view_count": null,
            "_view_module": "@jupyter-widgets/base",
            "_view_module_version": "1.2.0",
            "_view_name": "StyleView",
            "description_width": ""
          }
        },
        "70696a3f6199413596a2d758e3567b84": {
          "model_module": "@jupyter-widgets/base",
          "model_name": "LayoutModel",
          "model_module_version": "1.2.0",
          "state": {
            "_model_module": "@jupyter-widgets/base",
            "_model_module_version": "1.2.0",
            "_model_name": "LayoutModel",
            "_view_count": null,
            "_view_module": "@jupyter-widgets/base",
            "_view_module_version": "1.2.0",
            "_view_name": "LayoutView",
            "align_content": null,
            "align_items": null,
            "align_self": null,
            "border": null,
            "bottom": null,
            "display": null,
            "flex": null,
            "flex_flow": null,
            "grid_area": null,
            "grid_auto_columns": null,
            "grid_auto_flow": null,
            "grid_auto_rows": null,
            "grid_column": null,
            "grid_gap": null,
            "grid_row": null,
            "grid_template_areas": null,
            "grid_template_columns": null,
            "grid_template_rows": null,
            "height": null,
            "justify_content": null,
            "justify_items": null,
            "left": null,
            "margin": null,
            "max_height": null,
            "max_width": null,
            "min_height": null,
            "min_width": null,
            "object_fit": null,
            "object_position": null,
            "order": null,
            "overflow": null,
            "overflow_x": null,
            "overflow_y": null,
            "padding": null,
            "right": null,
            "top": null,
            "visibility": null,
            "width": null
          }
        },
        "8ad1289e1812407cac24baec71e2c7fa": {
          "model_module": "@jupyter-widgets/controls",
          "model_name": "ProgressStyleModel",
          "model_module_version": "1.5.0",
          "state": {
            "_model_module": "@jupyter-widgets/controls",
            "_model_module_version": "1.5.0",
            "_model_name": "ProgressStyleModel",
            "_view_count": null,
            "_view_module": "@jupyter-widgets/base",
            "_view_module_version": "1.2.0",
            "_view_name": "StyleView",
            "bar_color": null,
            "description_width": ""
          }
        },
        "c871a2fa0c364859a864e9fa912662b7": {
          "model_module": "@jupyter-widgets/base",
          "model_name": "LayoutModel",
          "model_module_version": "1.2.0",
          "state": {
            "_model_module": "@jupyter-widgets/base",
            "_model_module_version": "1.2.0",
            "_model_name": "LayoutModel",
            "_view_count": null,
            "_view_module": "@jupyter-widgets/base",
            "_view_module_version": "1.2.0",
            "_view_name": "LayoutView",
            "align_content": null,
            "align_items": null,
            "align_self": null,
            "border": null,
            "bottom": null,
            "display": null,
            "flex": null,
            "flex_flow": null,
            "grid_area": null,
            "grid_auto_columns": null,
            "grid_auto_flow": null,
            "grid_auto_rows": null,
            "grid_column": null,
            "grid_gap": null,
            "grid_row": null,
            "grid_template_areas": null,
            "grid_template_columns": null,
            "grid_template_rows": null,
            "height": null,
            "justify_content": null,
            "justify_items": null,
            "left": null,
            "margin": null,
            "max_height": null,
            "max_width": null,
            "min_height": null,
            "min_width": null,
            "object_fit": null,
            "object_position": null,
            "order": null,
            "overflow": null,
            "overflow_x": null,
            "overflow_y": null,
            "padding": null,
            "right": null,
            "top": null,
            "visibility": null,
            "width": null
          }
        },
        "856edfd8c2ad437ab7137e359a3b434d": {
          "model_module": "@jupyter-widgets/controls",
          "model_name": "DescriptionStyleModel",
          "model_module_version": "1.5.0",
          "state": {
            "_model_module": "@jupyter-widgets/controls",
            "_model_module_version": "1.5.0",
            "_model_name": "DescriptionStyleModel",
            "_view_count": null,
            "_view_module": "@jupyter-widgets/base",
            "_view_module_version": "1.2.0",
            "_view_name": "StyleView",
            "description_width": ""
          }
        },
        "1c0d1a4dd1b043e9b45b27068d81bffb": {
          "model_module": "@jupyter-widgets/controls",
          "model_name": "HBoxModel",
          "model_module_version": "1.5.0",
          "state": {
            "_dom_classes": [],
            "_model_module": "@jupyter-widgets/controls",
            "_model_module_version": "1.5.0",
            "_model_name": "HBoxModel",
            "_view_count": null,
            "_view_module": "@jupyter-widgets/controls",
            "_view_module_version": "1.5.0",
            "_view_name": "HBoxView",
            "box_style": "",
            "children": [
              "IPY_MODEL_6b817a723b554828aa70b688e2a01be6",
              "IPY_MODEL_eacb9644bc114b228fd0aa2959d1db1c",
              "IPY_MODEL_0edee405c410412a9af13cbf60eb8a23"
            ],
            "layout": "IPY_MODEL_dfc76bb6247e436392f1a8a4e3f476eb"
          }
        },
        "6b817a723b554828aa70b688e2a01be6": {
          "model_module": "@jupyter-widgets/controls",
          "model_name": "HTMLModel",
          "model_module_version": "1.5.0",
          "state": {
            "_dom_classes": [],
            "_model_module": "@jupyter-widgets/controls",
            "_model_module_version": "1.5.0",
            "_model_name": "HTMLModel",
            "_view_count": null,
            "_view_module": "@jupyter-widgets/controls",
            "_view_module_version": "1.5.0",
            "_view_name": "HTMLView",
            "description": "",
            "description_tooltip": null,
            "layout": "IPY_MODEL_5397ed1d60c8440096d0415b09e2f5e0",
            "placeholder": "​",
            "style": "IPY_MODEL_4668f56e0f71450a9243d2b39ed6a04c",
            "value": "JSMA: 100%"
          }
        },
        "eacb9644bc114b228fd0aa2959d1db1c": {
          "model_module": "@jupyter-widgets/controls",
          "model_name": "FloatProgressModel",
          "model_module_version": "1.5.0",
          "state": {
            "_dom_classes": [],
            "_model_module": "@jupyter-widgets/controls",
            "_model_module_version": "1.5.0",
            "_model_name": "FloatProgressModel",
            "_view_count": null,
            "_view_module": "@jupyter-widgets/controls",
            "_view_module_version": "1.5.0",
            "_view_name": "ProgressView",
            "bar_style": "success",
            "description": "",
            "description_tooltip": null,
            "layout": "IPY_MODEL_cd8c7df530e2430b97e79cd5e3c15ad8",
            "max": 100,
            "min": 0,
            "orientation": "horizontal",
            "style": "IPY_MODEL_5591b97a8a1d4896abfce6c94c0dd38a",
            "value": 100
          }
        },
        "0edee405c410412a9af13cbf60eb8a23": {
          "model_module": "@jupyter-widgets/controls",
          "model_name": "HTMLModel",
          "model_module_version": "1.5.0",
          "state": {
            "_dom_classes": [],
            "_model_module": "@jupyter-widgets/controls",
            "_model_module_version": "1.5.0",
            "_model_name": "HTMLModel",
            "_view_count": null,
            "_view_module": "@jupyter-widgets/controls",
            "_view_module_version": "1.5.0",
            "_view_name": "HTMLView",
            "description": "",
            "description_tooltip": null,
            "layout": "IPY_MODEL_db115ba4f7854c5d8c6f675ac4713c59",
            "placeholder": "​",
            "style": "IPY_MODEL_ad2c18816d374a598ae96ca1361d1f09",
            "value": " 100/100 [00:27&lt;00:00,  4.00it/s]"
          }
        },
        "dfc76bb6247e436392f1a8a4e3f476eb": {
          "model_module": "@jupyter-widgets/base",
          "model_name": "LayoutModel",
          "model_module_version": "1.2.0",
          "state": {
            "_model_module": "@jupyter-widgets/base",
            "_model_module_version": "1.2.0",
            "_model_name": "LayoutModel",
            "_view_count": null,
            "_view_module": "@jupyter-widgets/base",
            "_view_module_version": "1.2.0",
            "_view_name": "LayoutView",
            "align_content": null,
            "align_items": null,
            "align_self": null,
            "border": null,
            "bottom": null,
            "display": null,
            "flex": null,
            "flex_flow": null,
            "grid_area": null,
            "grid_auto_columns": null,
            "grid_auto_flow": null,
            "grid_auto_rows": null,
            "grid_column": null,
            "grid_gap": null,
            "grid_row": null,
            "grid_template_areas": null,
            "grid_template_columns": null,
            "grid_template_rows": null,
            "height": null,
            "justify_content": null,
            "justify_items": null,
            "left": null,
            "margin": null,
            "max_height": null,
            "max_width": null,
            "min_height": null,
            "min_width": null,
            "object_fit": null,
            "object_position": null,
            "order": null,
            "overflow": null,
            "overflow_x": null,
            "overflow_y": null,
            "padding": null,
            "right": null,
            "top": null,
            "visibility": null,
            "width": null
          }
        },
        "5397ed1d60c8440096d0415b09e2f5e0": {
          "model_module": "@jupyter-widgets/base",
          "model_name": "LayoutModel",
          "model_module_version": "1.2.0",
          "state": {
            "_model_module": "@jupyter-widgets/base",
            "_model_module_version": "1.2.0",
            "_model_name": "LayoutModel",
            "_view_count": null,
            "_view_module": "@jupyter-widgets/base",
            "_view_module_version": "1.2.0",
            "_view_name": "LayoutView",
            "align_content": null,
            "align_items": null,
            "align_self": null,
            "border": null,
            "bottom": null,
            "display": null,
            "flex": null,
            "flex_flow": null,
            "grid_area": null,
            "grid_auto_columns": null,
            "grid_auto_flow": null,
            "grid_auto_rows": null,
            "grid_column": null,
            "grid_gap": null,
            "grid_row": null,
            "grid_template_areas": null,
            "grid_template_columns": null,
            "grid_template_rows": null,
            "height": null,
            "justify_content": null,
            "justify_items": null,
            "left": null,
            "margin": null,
            "max_height": null,
            "max_width": null,
            "min_height": null,
            "min_width": null,
            "object_fit": null,
            "object_position": null,
            "order": null,
            "overflow": null,
            "overflow_x": null,
            "overflow_y": null,
            "padding": null,
            "right": null,
            "top": null,
            "visibility": null,
            "width": null
          }
        },
        "4668f56e0f71450a9243d2b39ed6a04c": {
          "model_module": "@jupyter-widgets/controls",
          "model_name": "DescriptionStyleModel",
          "model_module_version": "1.5.0",
          "state": {
            "_model_module": "@jupyter-widgets/controls",
            "_model_module_version": "1.5.0",
            "_model_name": "DescriptionStyleModel",
            "_view_count": null,
            "_view_module": "@jupyter-widgets/base",
            "_view_module_version": "1.2.0",
            "_view_name": "StyleView",
            "description_width": ""
          }
        },
        "cd8c7df530e2430b97e79cd5e3c15ad8": {
          "model_module": "@jupyter-widgets/base",
          "model_name": "LayoutModel",
          "model_module_version": "1.2.0",
          "state": {
            "_model_module": "@jupyter-widgets/base",
            "_model_module_version": "1.2.0",
            "_model_name": "LayoutModel",
            "_view_count": null,
            "_view_module": "@jupyter-widgets/base",
            "_view_module_version": "1.2.0",
            "_view_name": "LayoutView",
            "align_content": null,
            "align_items": null,
            "align_self": null,
            "border": null,
            "bottom": null,
            "display": null,
            "flex": null,
            "flex_flow": null,
            "grid_area": null,
            "grid_auto_columns": null,
            "grid_auto_flow": null,
            "grid_auto_rows": null,
            "grid_column": null,
            "grid_gap": null,
            "grid_row": null,
            "grid_template_areas": null,
            "grid_template_columns": null,
            "grid_template_rows": null,
            "height": null,
            "justify_content": null,
            "justify_items": null,
            "left": null,
            "margin": null,
            "max_height": null,
            "max_width": null,
            "min_height": null,
            "min_width": null,
            "object_fit": null,
            "object_position": null,
            "order": null,
            "overflow": null,
            "overflow_x": null,
            "overflow_y": null,
            "padding": null,
            "right": null,
            "top": null,
            "visibility": null,
            "width": null
          }
        },
        "5591b97a8a1d4896abfce6c94c0dd38a": {
          "model_module": "@jupyter-widgets/controls",
          "model_name": "ProgressStyleModel",
          "model_module_version": "1.5.0",
          "state": {
            "_model_module": "@jupyter-widgets/controls",
            "_model_module_version": "1.5.0",
            "_model_name": "ProgressStyleModel",
            "_view_count": null,
            "_view_module": "@jupyter-widgets/base",
            "_view_module_version": "1.2.0",
            "_view_name": "StyleView",
            "bar_color": null,
            "description_width": ""
          }
        },
        "db115ba4f7854c5d8c6f675ac4713c59": {
          "model_module": "@jupyter-widgets/base",
          "model_name": "LayoutModel",
          "model_module_version": "1.2.0",
          "state": {
            "_model_module": "@jupyter-widgets/base",
            "_model_module_version": "1.2.0",
            "_model_name": "LayoutModel",
            "_view_count": null,
            "_view_module": "@jupyter-widgets/base",
            "_view_module_version": "1.2.0",
            "_view_name": "LayoutView",
            "align_content": null,
            "align_items": null,
            "align_self": null,
            "border": null,
            "bottom": null,
            "display": null,
            "flex": null,
            "flex_flow": null,
            "grid_area": null,
            "grid_auto_columns": null,
            "grid_auto_flow": null,
            "grid_auto_rows": null,
            "grid_column": null,
            "grid_gap": null,
            "grid_row": null,
            "grid_template_areas": null,
            "grid_template_columns": null,
            "grid_template_rows": null,
            "height": null,
            "justify_content": null,
            "justify_items": null,
            "left": null,
            "margin": null,
            "max_height": null,
            "max_width": null,
            "min_height": null,
            "min_width": null,
            "object_fit": null,
            "object_position": null,
            "order": null,
            "overflow": null,
            "overflow_x": null,
            "overflow_y": null,
            "padding": null,
            "right": null,
            "top": null,
            "visibility": null,
            "width": null
          }
        },
        "ad2c18816d374a598ae96ca1361d1f09": {
          "model_module": "@jupyter-widgets/controls",
          "model_name": "DescriptionStyleModel",
          "model_module_version": "1.5.0",
          "state": {
            "_model_module": "@jupyter-widgets/controls",
            "_model_module_version": "1.5.0",
            "_model_name": "DescriptionStyleModel",
            "_view_count": null,
            "_view_module": "@jupyter-widgets/base",
            "_view_module_version": "1.2.0",
            "_view_name": "StyleView",
            "description_width": ""
          }
        }
      }
    }
  },
  "nbformat": 4,
  "nbformat_minor": 0
}