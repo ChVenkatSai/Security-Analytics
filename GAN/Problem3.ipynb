{
  "cells": [
    {
      "cell_type": "code",
      "execution_count": null,
      "metadata": {
        "colab": {
          "base_uri": "https://localhost:8080/"
        },
        "id": "sr8Bydk295VT",
        "outputId": "ac300b10-c548-4e4c-b6e6-fce56fde100d"
      },
      "outputs": [
        {
          "output_type": "stream",
          "name": "stdout",
          "text": [
            "Mounted at /content/drive\n"
          ]
        }
      ],
      "source": [
        "from google.colab import drive\n",
        "drive.mount('/content/drive')"
      ]
    },
    {
      "cell_type": "code",
      "source": [
        "import sys\n",
        "sys.path.insert(0,'drive/My Drive/HW4P')\n",
        "\n",
        "import network.network as Network\n",
        "import network.mnist_loader as mnist_loader\n",
        "import pickle\n",
        "\n",
        "# Load the pre-trained model.\n",
        "with open('/content/drive/MyDrive/HW4P/network/trained_network.pkl', 'rb') as f:\n",
        "    u = pickle._Unpickler(f)\n",
        "    u.encoding = 'latin1'\n",
        "    net = u.load()"
      ],
      "metadata": {
        "id": "SlUDBhkj-WdG"
      },
      "execution_count": null,
      "outputs": []
    },
    {
      "cell_type": "code",
      "source": [
        "# Imports.\n",
        "import random\n",
        "import os\n",
        "print(os.getcwdb())\n",
        "import network.network as Network\n",
        "import network.mnist_loader as mnist_loader\n",
        "import pickle\n",
        "import matplotlib.pyplot as plt\n",
        "import numpy as np\n",
        "\n",
        "# Set the random seed. DO NOT CHANGE THIS!\n",
        "seedVal = 41\n",
        "random.seed(seedVal)\n",
        "np.random.seed(seedVal)\n",
        "\n",
        "%matplotlib inline"
      ],
      "metadata": {
        "colab": {
          "base_uri": "https://localhost:8080/"
        },
        "id": "2V8Jy8Pg9-AU",
        "outputId": "1bcfe351-d0c7-4e73-8e6c-e9cd7b86b9a9"
      },
      "execution_count": null,
      "outputs": [
        {
          "output_type": "stream",
          "name": "stdout",
          "text": [
            "b'/content'\n"
          ]
        }
      ]
    },
    {
      "cell_type": "markdown",
      "metadata": {
        "id": "VepORpoz95VX"
      },
      "source": [
        "Use a pre-trained network. It has been saved as a pickle file. Load the model, and continue.\n",
        "The network has only one hidden layer of 30 units, 784 input units (MNIST images are $ 28 \\times 28 = 784 $ pixels large), and 10 output units. All the activations are sigmoidal."
      ]
    },
    {
      "cell_type": "code",
      "execution_count": null,
      "metadata": {
        "id": "jV0hN3Ie95VY"
      },
      "outputs": [],
      "source": [
        "\n",
        "# Helpful function to load the MNIST data.\n",
        "training_data, validation_data, test_data = mnist_loader.load_data_wrapper()"
      ]
    },
    {
      "cell_type": "code",
      "execution_count": null,
      "metadata": {
        "id": "70DqNGRo95VZ"
      },
      "outputs": [],
      "source": []
    },
    {
      "cell_type": "markdown",
      "metadata": {
        "id": "bp165kjn95VZ"
      },
      "source": [
        "The neural network is pretrained, so it should already be set up to predict characters. Run `predict(n)` to evaluate the $ n^{th} $ digit in the test set using the network. You should see that even this relatively simple network works really well (~97% accuracy). The output of the network is a one-hot vector indicating the network's predictions:"
      ]
    },
    {
      "cell_type": "code",
      "execution_count": null,
      "metadata": {
        "id": "3st36K3X95VZ",
        "outputId": "294e99c3-5edb-4a33-ee98-0a3a5849d911",
        "colab": {
          "base_uri": "https://localhost:8080/",
          "height": 525
        }
      },
      "outputs": [
        {
          "output_type": "stream",
          "name": "stdout",
          "text": [
            "Network output: \n",
            "[[0.]\n",
            " [0.]\n",
            " [0.]\n",
            " [0.]\n",
            " [0.]\n",
            " [0.]\n",
            " [0.]\n",
            " [0.]\n",
            " [1.]\n",
            " [0.]]\n",
            "\n",
            "Network prediction: 8\n",
            "\n",
            "Actual image: \n"
          ]
        },
        {
          "output_type": "display_data",
          "data": {
            "text/plain": [
              "<Figure size 432x288 with 1 Axes>"
            ],
            "image/png": "[encoded data removed]"
          },
          "metadata": {
            "needs_background": "light"
          }
        }
      ],
      "source": [
        "def predict(n):\n",
        "    # Get the data from the test set\n",
        "    x = test_data[n][0]\n",
        "    \n",
        "    # Print the prediction of the network\n",
        "    print('Network output: \\n' + str(np.round(net.feedforward(x), 2)) + '\\n')\n",
        "    print('Network prediction: ' + str(np.argmax(net.feedforward(x))) + '\\n')\n",
        "    print('Actual image: ')\n",
        "    \n",
        "    # Draw the image\n",
        "    plt.imshow(x.reshape((28,28)), cmap='Greys')\n",
        "\n",
        "# Replace the argument with any number between 0 and 9999\n",
        "predict(8384)"
      ]
    },
    {
      "cell_type": "markdown",
      "metadata": {
        "id": "Ygqc47Jm95Va"
      },
      "source": [
        "To actually generate adversarial examples we solve a minimization problem. We do this by setting a \"goal\" label called $ \\vec y_{goal} $ (for instance, if we wanted the network to think the adversarial image is an 8, then we would choose $ \\vec y_{goal} $ to be a one-hot vector with the eighth entry being 1). Now we define a cost function:\n",
        "\n",
        "$$ C = \\frac{1}{2} \\|\\vec y_{goal} - \\hat y(\\vec x)\\|^2_2 $$\n",
        "\n",
        "where $ \\| \\cdot \\|^2_2 $ is the squared Euclidean norm and $ \\hat y $ is the network's output. It is a function of $ \\vec x $, the input image to the network, so we write $ \\hat y(\\vec x) $. Our goal is to find an $ \\vec x $ such that $ C $ is minimized. Hopefully this makes sense, because if we find an image $ \\vec x $ that minimizes $ C $ then that means the output of the network when given $ \\vec x $ is close to our desired output, $ \\vec y_{goal} $. So in full mathy language, our optimization problem is:\n",
        "\n",
        "$$ \\arg \\min_{\\vec x} C(\\vec x) $$\n",
        "\n",
        "that is, find the $ \\vec x $ that minimizes the cost $ C $.\n",
        "\n",
        "To actually do this we can do gradient descent on $ C $. Start with an initially random vector $ \\vec x $ and take steps (changing $ \\vec x $) gradually in the direction opposite of the gradient $ \\nabla_x C $. To actually get these derivatives we can perform backpropagation on the network. In contrast to training a network, where we perform gradient descent on the weights and biases, when we create adversarial examples we hold the weights and biases constant (because we don't want to change the network!), and change the inputs to our network."
      ]
    },
    {
      "cell_type": "markdown",
      "metadata": {
        "id": "h1iAi9mV95Vb"
      },
      "source": [
        "Helper functions to evaluate the non-linearity and it's derivative:"
      ]
    },
    {
      "cell_type": "code",
      "execution_count": null,
      "metadata": {
        "id": "u8_AyHYR95Vb"
      },
      "outputs": [],
      "source": [
        "def sigmoid(z):\n",
        "    \"\"\"The sigmoid function.\"\"\"\n",
        "    return 1.0/(1.0+np.exp(-z))\n",
        "                                                                                                                                                                                \n",
        "def sigmoid_prime(z):\n",
        "    \"\"\"Derivative of the sigmoid function.\"\"\"\n",
        "    return sigmoid(z)*(1-sigmoid(z))"
      ]
    },
    {
      "cell_type": "markdown",
      "metadata": {
        "id": "Yw1v8LNA95Vc"
      },
      "source": [
        "Also, a function to find the gradient derivatives of the cost function, $ \\nabla_x C $ with respect to the input $ \\vec x $, with a goal label of $ \\vec y_{goal} $. (Don't worry too much about the implementation, just know it calculates derivatives)."
      ]
    },
    {
      "cell_type": "code",
      "execution_count": null,
      "metadata": {
        "id": "6UI9Yxpe95Vc"
      },
      "outputs": [],
      "source": [
        "def input_derivative(net, x, y):\n",
        "    \"\"\" Calculate derivatives wrt the inputs\"\"\"\n",
        "    nabla_b = [np.zeros(b.shape) for b in net.biases]\n",
        "    nabla_w = [np.zeros(w.shape) for w in net.weights]\n",
        "    \n",
        "    # feedforward\n",
        "    activation = x\n",
        "    activations = [x] # list to store all the activations, layer by layer\n",
        "    zs = [] # list to store all the z vectors, layer by layer\n",
        "    for b, w in zip(net.biases, net.weights):\n",
        "        z = np.dot(w, activation)+b\n",
        "        zs.append(z)\n",
        "        activation = sigmoid(z)\n",
        "        activations.append(activation)\n",
        "        \n",
        "    # backward pass\n",
        "    delta = net.cost_derivative(activations[-1], y) * \\\n",
        "        sigmoid_prime(zs[-1])\n",
        "    nabla_b[-1] = delta\n",
        "    nabla_w[-1] = np.dot(delta, activations[-2].transpose())\n",
        "\n",
        "    for l in range(2, net.num_layers):\n",
        "        z = zs[-l]\n",
        "        sp = sigmoid_prime(z)\n",
        "        delta = np.dot(net.weights[-l+1].transpose(), delta) * sp\n",
        "        nabla_b[-l] = delta\n",
        "        nabla_w[-l] = np.dot(delta, activations[-l-1].transpose())\n",
        "        \n",
        "    # Return derivatives WRT to input\n",
        "    return net.weights[0].T.dot(delta)"
      ]
    },
    {
      "cell_type": "markdown",
      "metadata": {
        "id": "go6LZWDY95Vc"
      },
      "source": [
        "The actual function that generates adversarial examples and a wrapper function:"
      ]
    },
    {
      "cell_type": "markdown",
      "metadata": {
        "id": "xmfuR1IE95Vd"
      },
      "source": [
        "## (a) Non Targeted Attack"
      ]
    },
    {
      "cell_type": "code",
      "execution_count": null,
      "metadata": {
        "id": "IPQ9pyQ_95Vd"
      },
      "outputs": [],
      "source": [
        "def nonTargetedAdversarial(net, n, steps, eta):\n",
        "    \"\"\"\n",
        "    net : network object\n",
        "        neural network instance to use\n",
        "    n : integer\n",
        "        our goal label (just an int, the function transforms it into a one-hot vector)\n",
        "    steps : integer\n",
        "        number of steps for gradient descent\n",
        "    eta : float\n",
        "        step size for gradient descent\n",
        "    \"\"\"\n",
        "    \n",
        "    ####### Enter your code below #######\n",
        "    \n",
        "    # Set the goal output\n",
        "    goal = np.zeros((10,1))\n",
        "    goal[n] = 1\n",
        "\n",
        "    # Create a random image to initialize gradient descent with\n",
        "    x = np.random.rand(784, 1)\n",
        "    # Gradient descent on the input\n",
        "    for i in range(steps):\n",
        "        # Calculate the derivative\n",
        "        x = x - eta*(input_derivative(net, x, goal))\n",
        "        # The GD update on x\n",
        "            \n",
        "    return x\n",
        "\n",
        "\n",
        "# Wrapper function \n",
        "def generate(n):\n",
        "    \"\"\"\n",
        "    n : integer\n",
        "        goal label (not a one hot vector)\n",
        "    \"\"\"\n",
        "    \n",
        "    ####### Enter your code below #######\n",
        "    x = nonTargetedAdversarial(net, n, 1000, 0.2)\n",
        "    # Find the vector x with the above function that you just wrote.\n",
        "    \n",
        "    # Pass the generated image (vector) to the neural network. Perform a forward pass, and get the prediction.\n",
        "    \n",
        "    print('Network Output: \\n' + str(np.round(net.feedforward(x), 2)) + '\\n')\n",
        "    \n",
        "    print('Network Prediction: ' + str(np.argmax(net.feedforward(x)))  + '\\n')\n",
        "    \n",
        "    print('Adversarial Example: ')\n",
        "    \n",
        "    plt.imshow(x.reshape(28,28), cmap='Greys')"
      ]
    },
    {
      "cell_type": "markdown",
      "metadata": {
        "id": "gZ4JyEcI95Vd"
      },
      "source": [
        "Now let's generate some adversarial examples! Use the function provided to mess around with the neural network. (For some inputs gradient descent doesn't always converge; 0 and 5 seem to work pretty well though. I suspect convergence is very highly dependent on our choice of random initial $ \\vec x $. We'll see later in the notebook if we force the adversarial example to \"look like\" a handwritten digit, convergence is much more likely. In a sense we will be adding regularization to our generation process)."
      ]
    },
    {
      "cell_type": "code",
      "execution_count": null,
      "metadata": {
        "id": "DHzSOyb395Vd",
        "outputId": "b55b4d59-266a-4b4a-dc75-d6cf3c92872d",
        "colab": {
          "base_uri": "https://localhost:8080/",
          "height": 525
        }
      },
      "outputs": [
        {
          "output_type": "stream",
          "name": "stdout",
          "text": [
            "Network Output: \n",
            "[[0.]\n",
            " [0.]\n",
            " [1.]\n",
            " [0.]\n",
            " [0.]\n",
            " [0.]\n",
            " [0.]\n",
            " [0.]\n",
            " [0.]\n",
            " [0.]]\n",
            "\n",
            "Network Prediction: 2\n",
            "\n",
            "Adversarial Example: \n"
          ]
        },
        {
          "output_type": "display_data",
          "data": {
            "text/plain": [
              "<Figure size 432x288 with 1 Axes>"
            ],
            "image/png": "[encoded data removed]"
          },
          "metadata": {
            "needs_background": "light"
          }
        }
      ],
      "source": [
        "generate(2)"
      ]
    },
    {
      "cell_type": "markdown",
      "metadata": {
        "id": "cX8jAqVs95Ve"
      },
      "source": [
        "## (b) Targeted Attack(s)"
      ]
    },
    {
      "cell_type": "markdown",
      "metadata": {
        "id": "Jd4Hv_vJ95Ve"
      },
      "source": [
        "Sweet! We've just managed to create an image that looks utterly meaningless to a human, but the neural network thinks is a '5' with very high certainty. We can actually take this a bit further. Let's generate an image that looks like one number, but the neural network is certain is another. To do this we will modify our cost function a bit. Instead of just optimizing the input image, $ \\vec x $, to get a desired output label, we'll also optimize the input to look like a certain image, $ \\vec x_{target} $, at the same time. Our new cost function will be\n",
        "\n",
        "$$ C = \\|\\vec y_{goal} - y_{hat}(\\vec x)\\|^2_2 + \\lambda \\|\\vec x - \\vec x_{target}\\|^2_2 $$\n",
        "\n",
        "The added term tells us the distance from our $ \\vec x $ and some $ \\vec x_{target} $ (which is the image we want our adversarial example to look like). Because we want to minimize $ C $, we also want to minimize the distance between our adversarial example and this image. The $ \\lambda $ is hyperparameter that we can tune; it determines which is more important: optimizing for the desired output or optimizing for an image that looks like $ \\vec x_{target} $.\n",
        "\n",
        "If you are familiar with ridge regularization, the above cost function might look suspiciously like the ridge regression cost function. In fact, we can view this generation method as giving our model a prior, centered on our target image.\n",
        "\n",
        "Here is a function that implements optimizing the modified cost function, called `sneaky_adversarial` (because it is very sneaky). Note that the only difference between this function and `adversarial` is an additional term on the gradient descent update for the regularization term:"
      ]
    },
    {
      "cell_type": "code",
      "execution_count": null,
      "metadata": {
        "id": "fz8iMf0l95Ve"
      },
      "outputs": [],
      "source": [
        "def targetedAdversarial(net, n, x_target, steps, eta, lam=.05):\n",
        "    \"\"\"\n",
        "    net : network object\n",
        "        neural network instance to use\n",
        "    n : integer\n",
        "        our goal label (just an int, the function transforms it into a one-hot vector)\n",
        "    x_target : numpy vector\n",
        "        our goal image for the adversarial example\n",
        "    steps : integer\n",
        "        number of steps for gradient descent\n",
        "    eta : float\n",
        "        step size for gradient descent\n",
        "    lam : float\n",
        "        lambda, our regularization parameter. Default is .05\n",
        "    \"\"\"\n",
        "    \n",
        "    # Set the goal output\n",
        "    goal = np.zeros((10,1))\n",
        "    goal[n] = 1\n",
        "    # Create a random image to initialize gradient descent with\n",
        "    x = np.random.rand(784, 1)\n",
        "    # Gradient descent on the input\n",
        "    for i in range(steps):\n",
        "        \n",
        "        # Calculate the derivative\n",
        "        x = x - eta*(input_derivative(net, x, goal)+lam*(x-x_target))\n",
        "        # The GD update on x, with an added penalty to the cost function\n",
        "\n",
        "    return x\n",
        "\n",
        "# Wrapper function\n",
        "def generate_advSample(n, m):\n",
        "    \"\"\"\n",
        "    n: int 0-9, the target number to match\n",
        "    m: index of example image to use (from the test set)\n",
        "    \"\"\"\n",
        "    \n",
        "    # Find random instance of m in test set\n",
        "    idx = np.random.randint(0,8000)\n",
        "    while test_data[idx][1] != m:\n",
        "        idx += 1\n",
        "    \n",
        "    # Hardcode the parameters for the wrapper function\n",
        "    a = targetedAdversarial(net, n, test_data[idx][0], 100, 1)\n",
        "    x = np.round(net.feedforward(a), 2)\n",
        "    \n",
        "    print('\\nWhat we want our adversarial example to look like: ')\n",
        "    plt.imshow(test_data[idx][0].reshape((28,28)), cmap='Greys')\n",
        "    plt.show()\n",
        "    \n",
        "    print('\\n')\n",
        "    \n",
        "    print('Adversarial Example: ')\n",
        "    \n",
        "    plt.imshow(a.reshape(28,28), cmap='Greys')\n",
        "    plt.show()\n",
        "    \n",
        "    print('Network Prediction: ' + str(np.argmax(x)) + '\\n')\n",
        "    \n",
        "    print('Network Output: \\n' + str(x) + '\\n')\n",
        "    \n",
        "    return a"
      ]
    },
    {
      "cell_type": "markdown",
      "metadata": {
        "id": "BT7o1qKN95Vf"
      },
      "source": [
        "Play around with this function to make \"sneaky\" adversarial examples! (Again, some numbers converge better than others... try 0, 2, 3, 5, 6, or 8 as a target label. 1, 4, 7, and 9 still don't work as well... no idea why... We get more numbers that converge because we've added regularization term to our cost function. Perhaps changing $ \\lambda $ will get more to converge?)"
      ]
    },
    {
      "cell_type": "code",
      "execution_count": null,
      "metadata": {
        "id": "anrJbyrG95Vf",
        "outputId": "3d89ee90-8adc-4d58-f761-19966ceb4c9d",
        "colab": {
          "base_uri": "https://localhost:8080/",
          "height": 843
        }
      },
      "outputs": [
        {
          "output_type": "stream",
          "name": "stdout",
          "text": [
            "\n",
            "What we want our adversarial example to look like: \n"
          ]
        },
        {
          "output_type": "display_data",
          "data": {
            "text/plain": [
              "<Figure size 432x288 with 1 Axes>"
            ],
            "image/png": "[encoded data removed]"
          },
          "metadata": {
            "needs_background": "light"
          }
        },
        {
          "output_type": "stream",
          "name": "stdout",
          "text": [
            "\n",
            "\n",
            "Adversarial Example: \n"
          ]
        },
        {
          "output_type": "display_data",
          "data": {
            "text/plain": [
              "<Figure size 432x288 with 1 Axes>"
            ],
            "image/png": "[encoded data removed]"
          },
          "metadata": {
            "needs_background": "light"
          }
        },
        {
          "output_type": "stream",
          "name": "stdout",
          "text": [
            "Network Prediction: 8\n",
            "\n",
            "Network Output: \n",
            "[[0.  ]\n",
            " [0.  ]\n",
            " [0.01]\n",
            " [0.  ]\n",
            " [0.  ]\n",
            " [0.  ]\n",
            " [0.  ]\n",
            " [0.  ]\n",
            " [0.98]\n",
            " [0.  ]]\n",
            "\n"
          ]
        }
      ],
      "source": [
        "# generate_advSample(target label, target digit)\n",
        "adv_ex = generate_advSample(8, 2)"
      ]
    },
    {
      "cell_type": "markdown",
      "metadata": {
        "id": "xDmSc11595Vf"
      },
      "source": [
        "## (c) Protection against adversarial attacks"
      ]
    },
    {
      "cell_type": "markdown",
      "metadata": {
        "id": "8Twm3kLw95Vf"
      },
      "source": [
        "Awesome! We’ve just created images that trick neural networks. The next question we could ask is whether or not we could protect against these kinds of attacks. If you look closely at the original images and the adversarial examples you’ll see that the adversarial examples have some sort of grey tinged background."
      ]
    },
    {
      "cell_type": "markdown",
      "metadata": {
        "id": "SMty7rth95Vg"
      },
      "source": [
        "So how could we protect against these adversarial attacks? One very simple way would be to use binary thresholding. Set a pixel as completely black or completely white depending on a threshold. This should remove the \"noise\" that's always present in the adversarial images. Let's see if it works:"
      ]
    },
    {
      "cell_type": "code",
      "execution_count": null,
      "metadata": {
        "id": "9fGz0vr995Vg"
      },
      "outputs": [],
      "source": [
        "def simple_defense(n, m):\n",
        "    \"\"\"\n",
        "    n: int 0-9, the target number to match\n",
        "    m: index of example image to use (from the test set)\n",
        "    \"\"\"\n",
        "    \n",
        "    # Generate an adversarial sample.\n",
        "    x = generate_advSample(n, m)\n",
        "    \n",
        "    # Perform binary thresholding on the generated sample. You can choose the threshold as 0.5.\n",
        "    for k in range(len(x)):\n",
        "        if x[k] > 0.5:\n",
        "            x[k] = 1\n",
        "        else:\n",
        "            x[k] = 0\n",
        "    print(\"With binary thresholding: \")\n",
        "    \n",
        "    # Plot a grayscale image of the binarized generated sample.\n",
        "    plt.imshow(x.reshape(28,28), cmap='Greys')\n",
        "    plt.show()\n",
        "    # Print the network's predictions.\n",
        "    print(\"Prediction with binary thresholding: \" + str(np.argmax(net.feedforward(x))) + '\\n')\n",
        "    \n",
        "    # The output of the network.\n",
        "    print(\"Network output: \")\n",
        "    print( str(np.round(net.feedforward(x), 2)) )"
      ]
    },
    {
      "cell_type": "code",
      "execution_count": null,
      "metadata": {
        "id": "uSoswFW095Vg",
        "outputId": "e249daad-59ca-424f-dd97-d9faf58a8d98",
        "colab": {
          "base_uri": "https://localhost:8080/",
          "height": 1000
        }
      },
      "outputs": [
        {
          "output_type": "stream",
          "name": "stdout",
          "text": [
            "\n",
            "What we want our adversarial example to look like: \n"
          ]
        },
        {
          "output_type": "display_data",
          "data": {
            "text/plain": [
              "<Figure size 432x288 with 1 Axes>"
            ],
            "image/png": "[encoded data removed]"
          },
          "metadata": {
            "needs_background": "light"
          }
        },
        {
          "output_type": "stream",
          "name": "stdout",
          "text": [
            "\n",
            "\n",
            "Adversarial Example: \n"
          ]
        },
        {
          "output_type": "display_data",
          "data": {
            "text/plain": [
              "<Figure size 432x288 with 1 Axes>"
            ],
            "image/png": "[encoded data removed]"
          },
          "metadata": {
            "needs_background": "light"
          }
        },
        {
          "output_type": "stream",
          "name": "stdout",
          "text": [
            "Network Prediction: 2\n",
            "\n",
            "Network Output: \n",
            "[[0.  ]\n",
            " [0.  ]\n",
            " [0.97]\n",
            " [0.03]\n",
            " [0.  ]\n",
            " [0.  ]\n",
            " [0.  ]\n",
            " [0.  ]\n",
            " [0.  ]\n",
            " [0.  ]]\n",
            "\n",
            "With binary thresholding: \n"
          ]
        },
        {
          "output_type": "display_data",
          "data": {
            "text/plain": [
              "<Figure size 432x288 with 1 Axes>"
            ],
            "image/png": "[encoded data removed]"
          },
          "metadata": {
            "needs_background": "light"
          }
        },
        {
          "output_type": "stream",
          "name": "stdout",
          "text": [
            "Prediction with binary thresholding: 3\n",
            "\n",
            "Network output: \n",
            "[[0.]\n",
            " [0.]\n",
            " [0.]\n",
            " [1.]\n",
            " [0.]\n",
            " [0.]\n",
            " [0.]\n",
            " [0.]\n",
            " [0.]\n",
            " [0.]]\n"
          ]
        }
      ],
      "source": [
        "# binary_thresholding(target digit, actual digit)\n",
        "simple_defense(2, 3)"
      ]
    },
    {
      "cell_type": "markdown",
      "metadata": {
        "id": "UFeWEmRy95Vg"
      },
      "source": [
        "Looks like it works pretty well! However, note that most adversarial attacks, especially on convolutional neural networks trained on massive full color image sets such as imagenet, can't be defended against by a simple binary threshold."
      ]
    },
    {
      "cell_type": "markdown",
      "metadata": {
        "id": "q81gH0dN95Vg"
      },
      "source": [
        "## Adversarial Training"
      ]
    },
    {
      "cell_type": "markdown",
      "metadata": {
        "id": "rtlg36oO95Vg"
      },
      "source": [
        "Looks like it works pretty well! However, note that most adversarial attacks, especially on convolutional neural networks trained on massive full color image sets such as imagenet, can't be defended against by a simple binary threshold.\n",
        "\n",
        "We could try one more thing that might be a bit more universal to protect our neural network against adversarial attacks. If we had access to the adversarial attack method (which we do in this case, because we're the ones implementing the attack) we could create a ton of adversarial examples, mix that up with our training dataset with the correct labels, and then retrain a network on this augmented dataset. The retrained network should learn to ignore the adversarial attacks. Here we implement a function to do just that."
      ]
    },
    {
      "cell_type": "code",
      "execution_count": null,
      "metadata": {
        "id": "5W5ZirXV95Vh"
      },
      "outputs": [],
      "source": [
        "def augment_data(n, data, steps):\n",
        "    \"\"\"\n",
        "    n : integer\n",
        "        number of adversarial examples to generate\n",
        "    data : list of tuples\n",
        "        data set to generate adversarial examples using\n",
        "    \"\"\"\n",
        "    # Our augmented training set:\n",
        "    augmented = []\n",
        "    \n",
        "    for i in range(n):\n",
        "        # Progress \"bar\"\n",
        "        if i % 500 == 0:\n",
        "            print(\"Generated digits: \" + str(i))\n",
        "            \n",
        "        # Randomly choose a digit that the example will look like\n",
        "\n",
        "        # Find random instance of rnd_actual_digit in the training set\n",
        "        rnd_actual_idx = np.random.randint(0,len(data))\n",
        "        \n",
        "        # TODO : Find a random instance of rnd_actual_digit in the training set. \n",
        "\n",
        "        \n",
        "        x_target = data[rnd_actual_idx][0]\n",
        "        y_actual = data[rnd_actual_idx][1]\n",
        "        true_digit_label = y_actual.squeeze().tolist().index(1)\n",
        "        \n",
        "        # Choose a value for the adversarial attack\n",
        "        while True:\n",
        "            rnd_fake_digit = np.random.randint(10)\n",
        "            if rnd_fake_digit != true_digit_label: break\n",
        "    \n",
        "        # Generate adversarial example\n",
        "        x_adversarial = targetedAdversarial(net, rnd_fake_digit, x_target, steps, 1)\n",
        "        \n",
        "        # Add new data       \n",
        "        augmented.append([x_adversarial, y_actual])\n",
        "        \n",
        "    return augmented"
      ]
    },
    {
      "cell_type": "code",
      "execution_count": null,
      "metadata": {
        "id": "tXzTlpTm95Vh",
        "outputId": "e5a9d03b-5131-49e8-a647-1a8e2eebd664",
        "colab": {
          "base_uri": "https://localhost:8080/"
        }
      },
      "outputs": [
        {
          "output_type": "stream",
          "name": "stdout",
          "text": [
            "Generated digits: 0\n",
            "Generated digits: 500\n",
            "Generated digits: 1000\n",
            "Generated digits: 1500\n",
            "Generated digits: 2000\n",
            "Generated digits: 2500\n",
            "Generated digits: 3000\n",
            "Generated digits: 3500\n",
            "Generated digits: 4000\n",
            "Generated digits: 4500\n",
            "Generated digits: 5000\n",
            "Generated digits: 5500\n",
            "Generated digits: 6000\n",
            "Generated digits: 6500\n",
            "Generated digits: 7000\n",
            "Generated digits: 7500\n",
            "Generated digits: 8000\n",
            "Generated digits: 8500\n",
            "Generated digits: 9000\n",
            "Generated digits: 9500\n"
          ]
        }
      ],
      "source": [
        "# Try 10000 examples first if you don't want to wait for a long time!\n",
        "augmented = augment_data(10000, training_data, 100)"
      ]
    },
    {
      "cell_type": "markdown",
      "metadata": {
        "id": "wPjJTeGY95Vh"
      },
      "source": [
        "Now let's check to make sure our augmented dataset actually makes sense. Here we have a function that checks the $ i^{th} $ example in our augmented set."
      ]
    },
    {
      "cell_type": "code",
      "execution_count": null,
      "metadata": {
        "id": "DAlWP8D595Vh",
        "outputId": "d17c1ab4-e427-4d19-cd65-dc9c0ba907c2",
        "colab": {
          "base_uri": "https://localhost:8080/",
          "height": 733
        }
      },
      "outputs": [
        {
          "output_type": "stream",
          "name": "stdout",
          "text": [
            "Image: \n",
            "\n"
          ]
        },
        {
          "output_type": "display_data",
          "data": {
            "text/plain": [
              "<Figure size 432x288 with 1 Axes>"
            ],
            "image/png": "[encoded data removed]"
          },
          "metadata": {
            "needs_background": "light"
          }
        },
        {
          "output_type": "stream",
          "name": "stdout",
          "text": [
            "Original network prediction: \n",
            "\n",
            "[[0.  ]\n",
            " [0.  ]\n",
            " [0.  ]\n",
            " [0.  ]\n",
            " [0.  ]\n",
            " [0.  ]\n",
            " [0.02]\n",
            " [0.  ]\n",
            " [1.  ]\n",
            " [0.  ]]\n",
            "\n",
            "Label: \n",
            "\n",
            "[[0.]\n",
            " [0.]\n",
            " [0.]\n",
            " [0.]\n",
            " [0.]\n",
            " [0.]\n",
            " [1.]\n",
            " [0.]\n",
            " [0.]\n",
            " [0.]]\n"
          ]
        }
      ],
      "source": [
        "def check_augmented(i, augmented):\n",
        "    # Show image\n",
        "    print('Image: \\n')\n",
        "    plt.imshow(augmented[i][0].reshape(28,28), cmap='Greys')\n",
        "    plt.show()\n",
        "    \n",
        "    # Show original network prediction\n",
        "    print('Original network prediction: \\n')\n",
        "    print(np.round(net.feedforward(augmented[i][0]), 2))\n",
        "    \n",
        "    # Show label\n",
        "    print('\\nLabel: \\n')\n",
        "    print(augmented[i][1])\n",
        "    \n",
        "# check i^th adversarial image\n",
        "check_augmented(239, augmented)"
      ]
    },
    {
      "cell_type": "markdown",
      "metadata": {
        "id": "jSA47SYO95Vh"
      },
      "source": [
        "We can now create a new neural network and train it on our augmented dataset and the original training set, using the original test set to validate."
      ]
    },
    {
      "cell_type": "code",
      "execution_count": null,
      "metadata": {
        "id": "BAxaplCd95Vh",
        "outputId": "4176fd26-ff44-4ca3-c289-51c4e1dac7d7",
        "colab": {
          "base_uri": "https://localhost:8080/"
        }
      },
      "outputs": [
        {
          "output_type": "execute_result",
          "data": {
            "text/plain": [
              "50000"
            ]
          },
          "metadata": {},
          "execution_count": 17
        }
      ],
      "source": [
        "len(training_data)"
      ]
    },
    {
      "cell_type": "code",
      "execution_count": null,
      "metadata": {
        "id": "Uyz_yhNZ95Vi",
        "outputId": "50252474-106d-411e-d43c-7a4aea01d967",
        "colab": {
          "base_uri": "https://localhost:8080/"
        }
      },
      "outputs": [
        {
          "output_type": "stream",
          "name": "stdout",
          "text": [
            "Epoch 0: 5188 / 10000\n",
            "Epoch 1: 7027 / 10000\n",
            "Epoch 2: 7586 / 10000\n",
            "Epoch 3: 7836 / 10000\n",
            "Epoch 4: 7978 / 10000\n",
            "Epoch 5: 8058 / 10000\n",
            "Epoch 6: 8124 / 10000\n",
            "Epoch 7: 8163 / 10000\n",
            "Epoch 8: 8214 / 10000\n",
            "Epoch 9: 8247 / 10000\n"
          ]
        }
      ],
      "source": [
        "# Create a new network. Use the function provided in the Network.network to create one. For this you'll have to \n",
        "# read the description of the function there. \n",
        "net2 = Network.Network([784, 64, 10])\n",
        "\n",
        "# Train on the augmented + original training set\n",
        "combined_train_data = augmented + training_data\n",
        "random.shuffle(combined_train_data)\n",
        "net2.SGD(combined_train_data, 10, 100, 1, test_data)"
      ]
    },
    {
      "cell_type": "markdown",
      "metadata": {
        "id": "4sbdpvfx95Vi"
      },
      "source": [
        "With a network trained on 50000 adversarial examples in addition to 50000 original training set examples we get about 95% accuracy (it takes quite a long time as well). We can make a test set of adversarial examples by using the following function call:"
      ]
    },
    {
      "cell_type": "code",
      "execution_count": null,
      "metadata": {
        "id": "w2cEdSwP95Vi",
        "outputId": "dd5cd3ed-e065-4c35-99e5-b8f43ff68d0a",
        "colab": {
          "base_uri": "https://localhost:8080/"
        }
      },
      "outputs": [
        {
          "output_type": "stream",
          "name": "stdout",
          "text": [
            "Generated digits: 0\n",
            "Generated digits: 500\n"
          ]
        }
      ],
      "source": [
        "# For some reason the training data has the format: list of tuples\n",
        "# tuple[0] is np array of image\n",
        "# tuple[1] is one hot np array of label\n",
        "# test data is also list of tuples\n",
        "# tuple[0] is np array of image\n",
        "# tuple[1] is integer of label\n",
        "# Just fixing this:\n",
        "normal_test_data = []\n",
        "\n",
        "for i in range(len(test_data)):\n",
        "    ground_truth = test_data[i][1]\n",
        "    one_hot = np.zeros(10)\n",
        "    one_hot[ground_truth] = 1\n",
        "    one_hot = np.expand_dims(one_hot, axis=1)\n",
        "    normal_test_data.append((test_data[i][0], one_hot))\n",
        "    \n",
        "\n",
        "# Using normal_test_data because of weird way data is packaged\n",
        "adversarial_test_set = augment_data(1000, normal_test_data, 100)"
      ]
    },
    {
      "cell_type": "code",
      "source": [],
      "metadata": {
        "id": "hp-LN7NyFiv8"
      },
      "execution_count": null,
      "outputs": []
    },
    {
      "cell_type": "markdown",
      "metadata": {
        "id": "OStrzEo895Vi"
      },
      "source": [
        "Let's checkout the accuracy of our newly trained network on adversarial examples from the new adversarial test set:"
      ]
    },
    {
      "cell_type": "code",
      "execution_count": null,
      "metadata": {
        "id": "j71RK5xv95Vj",
        "outputId": "23b25380-4000-4a60-99c6-c529b9324935",
        "colab": {
          "base_uri": "https://localhost:8080/"
        }
      },
      "outputs": [
        {
          "output_type": "stream",
          "name": "stdout",
          "text": [
            "Accuracy of the new augmented model on the adversarial test set: 0.812\n",
            "Accuracy of the new augmented model on the original test set: 0.8247\n",
            "Accuracy of the original network on the adversarial test set: 0.443\n",
            "Accuracy of the original network on the original test set: 0.8701\n"
          ]
        }
      ],
      "source": [
        "def accuracy(net, test_data):\n",
        "    \"\"\"\n",
        "    net : network object\n",
        "    test_data: list\n",
        "        list of 2-tuples of two arrays, one image and one label (one-hot)\n",
        "    \"\"\"\n",
        "    tot = float(len(test_data))\n",
        "    correct = 0\n",
        "    for i in range(len(test_data)):\n",
        "        if np.argmax(net.feedforward(test_data[i][0])) == np.argmax(test_data[i][1]):\n",
        "            correct += 1\n",
        "    \n",
        "    return correct / tot\n",
        "\n",
        "print('Accuracy of the new augmented model on the adversarial test set: ' + str(accuracy(net2, adversarial_test_set)))\n",
        "print('Accuracy of the new augmented model on the original test set: ' + str(accuracy(net2, normal_test_data)))\n",
        "\n",
        "print('Accuracy of the original network on the adversarial test set: ' + str(accuracy(net, adversarial_test_set)))\n",
        "print('Accuracy of the original network on the original test set: ' + str(accuracy(net, normal_test_data)))"
      ]
    },
    {
      "cell_type": "markdown",
      "source": [
        "Yes, the adversarial training has worked. It can be seen that the original net fails on the adversarial testset but the new net manages to maintain high accuracy even in the presence of adversarial examples. The accuracy on the original test set is aso not brought down much. "
      ],
      "metadata": {
        "id": "1uLNrkLDhfgf"
      }
    },
    {
      "cell_type": "markdown",
      "metadata": {
        "id": "N_4UiSjM95Vj"
      },
      "source": [
        "Finally, we'll be implementing a function that compares the original network to the new network on adversarial examples."
      ]
    },
    {
      "cell_type": "code",
      "execution_count": null,
      "metadata": {
        "id": "p7gHQo0Z95Vj"
      },
      "outputs": [],
      "source": [
        "# You'll be implementing a function that compares the original network to the new network. The specifications of \n",
        "# what this function has to achieve has been provided in the pdf.\n",
        "\n",
        "# TODO : Implement a function.\n",
        "def compare(original_net, new_net, adv_example):\n",
        "    # Show image\n",
        "    print('Image: \\n')\n",
        "    plt.imshow(adv_example[0].reshape(28,28), cmap='Greys')\n",
        "    plt.show()\n",
        "    \n",
        "    # Show original network prediction\n",
        "    print('Original network prediction: \\n')\n",
        "    print(np.round(original_net.feedforward(adv_example[0]), 2))\n",
        "\n",
        "    # Show new network prediction\n",
        "    print('New network prediction: \\n')\n",
        "    print(np.round(new_net.feedforward(adv_example[0]), 2))\n",
        "    \n",
        "    # Show label\n",
        "    print('\\nLabel: \\n')\n",
        "    print(adv_example[1])"
      ]
    },
    {
      "cell_type": "code",
      "execution_count": null,
      "metadata": {
        "id": "T_6r_Oki95Vj",
        "outputId": "364f5883-95ed-4b3d-b01f-5b1b1e791ad7",
        "colab": {
          "base_uri": "https://localhost:8080/",
          "height": 942
        }
      },
      "outputs": [
        {
          "output_type": "stream",
          "name": "stdout",
          "text": [
            "Image: \n",
            "\n"
          ]
        },
        {
          "output_type": "display_data",
          "data": {
            "text/plain": [
              "<Figure size 432x288 with 1 Axes>"
            ],
            "image/png": "[encoded data removed]"
          },
          "metadata": {
            "needs_background": "light"
          }
        },
        {
          "output_type": "stream",
          "name": "stdout",
          "text": [
            "Original network prediction: \n",
            "\n",
            "[[0.07]\n",
            " [0.  ]\n",
            " [0.  ]\n",
            " [0.  ]\n",
            " [0.  ]\n",
            " [0.  ]\n",
            " [0.75]\n",
            " [0.  ]\n",
            " [0.  ]\n",
            " [0.  ]]\n",
            "New network prediction: \n",
            "\n",
            "[[0.96]\n",
            " [0.  ]\n",
            " [0.  ]\n",
            " [0.01]\n",
            " [0.  ]\n",
            " [0.  ]\n",
            " [0.  ]\n",
            " [0.  ]\n",
            " [0.  ]\n",
            " [0.  ]]\n",
            "\n",
            "Label: \n",
            "\n",
            "[[1.]\n",
            " [0.]\n",
            " [0.]\n",
            " [0.]\n",
            " [0.]\n",
            " [0.]\n",
            " [0.]\n",
            " [0.]\n",
            " [0.]\n",
            " [0.]]\n"
          ]
        }
      ],
      "source": [
        "compare(net, net2, augmented[150])"
      ]
    },
    {
      "cell_type": "code",
      "execution_count": null,
      "metadata": {
        "id": "NJeIWrVq95Vk",
        "outputId": "a660517c-8993-4d4d-9292-cd22febedf94",
        "colab": {
          "base_uri": "https://localhost:8080/",
          "height": 942
        }
      },
      "outputs": [
        {
          "output_type": "stream",
          "name": "stdout",
          "text": [
            "Image: \n",
            "\n"
          ]
        },
        {
          "output_type": "display_data",
          "data": {
            "text/plain": [
              "<Figure size 432x288 with 1 Axes>"
            ],
            "image/png": "[encoded data removed]"
          },
          "metadata": {
            "needs_background": "light"
          }
        },
        {
          "output_type": "stream",
          "name": "stdout",
          "text": [
            "Original network prediction: \n",
            "\n",
            "[[0.  ]\n",
            " [0.  ]\n",
            " [0.  ]\n",
            " [0.  ]\n",
            " [0.  ]\n",
            " [0.  ]\n",
            " [0.  ]\n",
            " [0.  ]\n",
            " [0.  ]\n",
            " [0.01]]\n",
            "New network prediction: \n",
            "\n",
            "[[0.  ]\n",
            " [0.  ]\n",
            " [0.  ]\n",
            " [0.  ]\n",
            " [0.05]\n",
            " [0.  ]\n",
            " [0.  ]\n",
            " [0.01]\n",
            " [0.  ]\n",
            " [0.6 ]]\n",
            "\n",
            "Label: \n",
            "\n",
            "[[0.]\n",
            " [0.]\n",
            " [0.]\n",
            " [0.]\n",
            " [0.]\n",
            " [0.]\n",
            " [0.]\n",
            " [0.]\n",
            " [0.]\n",
            " [1.]]\n"
          ]
        }
      ],
      "source": [
        "compare(net, net2, augmented[850])"
      ]
    },
    {
      "cell_type": "code",
      "source": [],
      "metadata": {
        "id": "5glCH8dYTMqh"
      },
      "execution_count": null,
      "outputs": []
    },
    {
      "cell_type": "code",
      "source": [],
      "metadata": {
        "id": "weYU-c-OTMsG"
      },
      "execution_count": null,
      "outputs": []
    },
    {
      "cell_type": "code",
      "source": [],
      "metadata": {
        "id": "9g3q7691TMxJ"
      },
      "execution_count": null,
      "outputs": []
    }
  ],
  "metadata": {
    "kernelspec": {
      "display_name": "Python 3",
      "language": "python",
      "name": "python3"
    },
    "language_info": {
      "codemirror_mode": {
        "name": "ipython",
        "version": 3
      },
      "file_extension": ".py",
      "mimetype": "text/x-python",
      "name": "python",
      "nbconvert_exporter": "python",
      "pygments_lexer": "ipython3",
      "version": "3.8.5"
    },
    "colab": {
      "provenance": []
    }
  },
  "nbformat": 4,
  "nbformat_minor": 0
}